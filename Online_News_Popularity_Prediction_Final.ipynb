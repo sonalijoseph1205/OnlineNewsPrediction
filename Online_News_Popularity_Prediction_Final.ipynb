{
 "cells": [
  {
   "cell_type": "markdown",
   "id": "0baecdc6",
   "metadata": {
    "papermill": {
     "duration": 0.014124,
     "end_time": "2022-10-31T08:53:26.967337",
     "exception": false,
     "start_time": "2022-10-31T08:53:26.953213",
     "status": "completed"
    },
    "tags": []
   },
   "source": [
    "# News Popularity Prediction\n",
    "\n"
   ]
  },
  {
   "cell_type": "markdown",
   "id": "4da34864",
   "metadata": {
    "papermill": {
     "duration": 0.011628,
     "end_time": "2022-10-31T08:53:27.039799",
     "exception": false,
     "start_time": "2022-10-31T08:53:27.028171",
     "status": "completed"
    },
    "tags": []
   },
   "source": [
    "## 1. Loading dependencies & datasets"
   ]
  },
  {
   "cell_type": "code",
   "execution_count": 168,
   "id": "e52e322d",
   "metadata": {
    "execution": {
     "iopub.execute_input": "2022-10-31T08:53:27.065885Z",
     "iopub.status.busy": "2022-10-31T08:53:27.065085Z",
     "iopub.status.idle": "2022-10-31T08:53:27.734581Z",
     "shell.execute_reply": "2022-10-31T08:53:27.733190Z"
    },
    "papermill": {
     "duration": 0.685737,
     "end_time": "2022-10-31T08:53:27.737161",
     "exception": true,
     "start_time": "2022-10-31T08:53:27.051424",
     "status": "failed"
    },
    "tags": []
   },
   "outputs": [],
   "source": [
    "import numpy as np\n",
    "import pandas as pd\n",
    "import matplotlib.pyplot as plt\n",
    "import seaborn as sns\n",
    "from sklearn import linear_model, metrics\n",
    "from sklearn.linear_model import LinearRegression\n",
    "from sklearn.linear_model import Ridge\n",
    "from sklearn.linear_model import Lasso\n",
    "from sklearn.model_selection import GridSearchCV\n",
    "from sklearn.metrics import mean_squared_error, r2_score\n",
    "from sklearn.preprocessing import StandardScaler, PolynomialFeatures\n",
    "from sklearn.model_selection import train_test_split\n",
    "from sklearn.decomposition import PCA\n",
    "from sklearn.ensemble import RandomForestRegressor\n",
    "from scipy import stats\n",
    "from scipy.stats import mstats\n",
    "from sklearn.metrics import classification_report\n",
    "import os\n",
    "from sklearn.ensemble import RandomForestRegressor, RandomForestClassifier\n",
    "from sklearn.metrics import r2_score, mean_absolute_error, median_absolute_error, accuracy_score, precision_score,\\\n",
    "                            recall_score, f1_score, confusion_matrix, classification_report\n",
    "\n",
    "# hide warnings\n",
    "import warnings\n",
    "warnings.filterwarnings('ignore')"
   ]
  },
  {
   "cell_type": "markdown",
   "id": "1c3d1aa9",
   "metadata": {
    "papermill": {
     "duration": null,
     "end_time": null,
     "exception": null,
     "start_time": null,
     "status": "pending"
    },
    "tags": []
   },
   "source": [
    "Next, we load our datasets and the data dictionary file.\n",
    "\n",
    "The **train.csv** file contains both dependent and independent features, while the **test.csv** contains only the independent variables. \n",
    "\n",
    "So, for model selection, I will create our own train/test dataset from the **train.csv** and use the model to predict the solution using the features in unseen test.csv data for submission."
   ]
  },
  {
   "cell_type": "markdown",
   "id": "1136052e",
   "metadata": {
    "papermill": {
     "duration": null,
     "end_time": null,
     "exception": null,
     "start_time": null,
     "status": "pending"
    },
    "tags": []
   },
   "source": [
    "Lets analyse the features that are given to us. As detailed in the Data section of the competition page, the features provided come from different sources and have been categorized into various types. Some of these are coming directly from other NLP (Natural language processing) models. Let's print and try to categorize the variable names for better analysis."
   ]
  },
  {
   "cell_type": "code",
   "execution_count": 169,
   "id": "5b96eba6",
   "metadata": {},
   "outputs": [],
   "source": [
    "df = pd.read_csv(\"train.csv\")\n",
    "df_dict=pd.read_csv(\"data_dictionary.csv\")"
   ]
  },
  {
   "cell_type": "code",
   "execution_count": 170,
   "id": "3769c905",
   "metadata": {
    "execution": {
     "iopub.execute_input": "2021-08-07T13:34:04.783049Z",
     "iopub.status.busy": "2021-08-07T13:34:04.782016Z",
     "iopub.status.idle": "2021-08-07T13:34:04.827102Z",
     "shell.execute_reply": "2021-08-07T13:34:04.826505Z",
     "shell.execute_reply.started": "2021-08-07T12:09:16.946455Z"
    },
    "papermill": {
     "duration": null,
     "end_time": null,
     "exception": null,
     "start_time": null,
     "status": "pending"
    },
    "tags": []
   },
   "outputs": [
    {
     "name": "stdout",
     "output_type": "stream",
     "text": [
      "url : URL of the article (non-predictive)\n",
      "timedelta : Days between the article publication and the dataset acquisition (non-predictive)\n",
      "ntokenstitle : Number of words in the title\n",
      "ntokenscontent : Number of words in the content\n",
      "nuniquetokens : Rate of unique words in the content\n",
      "nnonstop_words : Rate of non-stop words in the content\n",
      "nnonstopuniquetokens : Rate of unique non-stop words in the content\n",
      "num_hrefs : Number of links\n",
      "numselfhrefs : Number of links to other articles published by Mashable\n",
      "num_imgs : Number of images\n",
      "num_videos : Number of videos\n",
      "averagetokenlength : Average length of the words in the content\n",
      "numkeywords : Number of keywords in the metadata\n",
      "datachannelislifestyle : Is data channel 'Lifestyle'?\n",
      "datachannelis_entertainment : Is data channel 'Entertainment'?\n",
      "datachannelis_bus : Is data channel 'Business'?\n",
      "datachannelis_socmed : Is data channel 'Social Media'?\n",
      "datachannelis_tech : Is data channel 'Tech'?\n",
      "datachannelis_world : Is data channel 'World'?\n",
      "kwminmin : Worst keyword (min. shares)\n",
      "kwmaxmin : Worst keyword (max. shares)\n",
      "kwavgmin : Worst keyword (avg. shares)\n",
      "kwminmax : Best keyword (min. shares)\n",
      "kwmaxmax : Best keyword (max. shares)\n",
      "kwavgmax : Best keyword (avg. shares)\n",
      "kwminavg : Avg. keyword (min. shares)\n",
      "kwmaxavg : Avg. keyword (max. shares)\n",
      "kwavgavg : Avg. keyword (avg. shares)\n",
      "selfreferencemin_shares : Min. shares of referenced articles in Mashable\n",
      "selfreferencemax_shares : Max. shares of referenced articles in Mashable\n",
      "selfreferenceavg_sharess : Avg. shares of referenced articles in Mashable\n",
      "weekdayismonday : Was the article published on a Monday?\n",
      "weekdayistuesday : Was the article published on a Tuesday?\n",
      "weekdayiswednesday : Was the article published on a Wednesday?\n",
      "weekdayisthursday : Was the article published on a Thursday?\n",
      "weekdayisfriday : Was the article published on a Friday?\n",
      "weekdayissaturday : Was the article published on a Saturday?\n",
      "weekdayissunday : Was the article published on a Sunday?\n",
      "is_weekend : Was the article published on the weekend?\n",
      "LDA_00 : Closeness to LDA topic 0\n",
      "LDA_01 : Closeness to LDA topic 1\n",
      "LDA_02 : Closeness to LDA topic 2\n",
      "LDA_03 : Closeness to LDA topic 3\n",
      "LDA_04 : Closeness to LDA topic 4\n",
      "global_subjectivity : Text subjectivity\n",
      "globalsentimentpolarity : Text sentiment polarity\n",
      "globalratepositive_words : Rate of positive words in the content\n",
      "globalratenegative_words : Rate of negative words in the content\n",
      "ratepositivewords : Rate of positive words among non-neutral tokens\n",
      "ratenegativewords : Rate of negative words among non-neutral tokens\n",
      "avgpositivepolarity : Avg. polarity of positive words\n",
      "minpositivepolarity : Min. polarity of positive words\n",
      "maxpositivepolarity : Max. polarity of positive words\n",
      "avgnegativepolarity : Avg. polarity of negative words\n",
      "minnegativepolarity : Min. polarity of negative words\n",
      "maxnegativepolarity : Max. polarity of negative words\n",
      "title_subjectivity : Title subjectivity\n",
      "titlesentimentpolarity : Title polarity\n",
      "abstitlesubjectivity : Absolute subjectivity level\n",
      "abstitlesentiment_polarity : Absolute polarity level\n",
      "shares : Number of shares (target)\n"
     ]
    }
   ],
   "source": [
    "for i in df_dict.iterrows():\n",
    "    print(i[1]['column'],':',i[1]['description'])"
   ]
  },
  {
   "cell_type": "code",
   "execution_count": null,
   "id": "268064b0",
   "metadata": {
    "execution": {
     "iopub.execute_input": "2021-08-07T13:34:04.923235Z",
     "iopub.status.busy": "2021-08-07T13:34:04.922595Z",
     "iopub.status.idle": "2021-08-07T13:34:04.964706Z",
     "shell.execute_reply": "2021-08-07T13:34:04.965215Z",
     "shell.execute_reply.started": "2021-08-07T12:09:16.995846Z"
    },
    "papermill": {
     "duration": null,
     "end_time": null,
     "exception": null,
     "start_time": null,
     "status": "pending"
    },
    "tags": []
   },
   "outputs": [],
   "source": []
  },
  {
   "cell_type": "code",
   "execution_count": 171,
   "id": "a0b9b420",
   "metadata": {
    "execution": {
     "iopub.execute_input": "2021-08-07T13:34:05.080875Z",
     "iopub.status.busy": "2021-08-07T13:34:05.079901Z",
     "iopub.status.idle": "2021-08-07T13:34:05.088557Z",
     "shell.execute_reply": "2021-08-07T13:34:05.089029Z",
     "shell.execute_reply.started": "2021-08-07T12:09:17.047959Z"
    },
    "papermill": {
     "duration": null,
     "end_time": null,
     "exception": null,
     "start_time": null,
     "status": "pending"
    },
    "tags": []
   },
   "outputs": [],
   "source": [
    "word_features = ['n_tokens_title', \n",
    "                 'n_tokens_content', \n",
    "                 'n_unique_tokens', \n",
    "                 'n_non_stop_words', \n",
    "                 'n_non_stop_unique_tokens', \n",
    "                 'average_token_length']\n",
    "\n",
    "media_features = ['num_imgs', 'num_videos']\n",
    "\n",
    "temporal_features = ['weekday_is_monday', \n",
    "                     'weekday_is_tuesday', \n",
    "                     'weekday_is_wednesday',\n",
    "                     'weekday_is_thursday',\n",
    "                     'weekday_is_friday',\n",
    "                     'weekday_is_saturday',\n",
    "                     'weekday_is_sunday',\n",
    "                     'is_weekend']\n",
    "\n",
    "channel_features = ['data_channel_is_lifestyle', 'data_channel_is_entertainment', \n",
    "                    'data_channel_is_bus', 'data_channel_is_socmed', \n",
    "                    'data_channel_is_tech', 'data_channel_is_world']\n",
    "\n",
    "keyword_features = ['kw_min_min', 'kw_max_min', 'kw_avg_min',\n",
    "                    'kw_min_max', 'kw_max_max', 'kw_avg_max', \n",
    "                    'kw_min_avg', 'kw_max_avg', 'kw_avg_avg',\n",
    "                    'num_keywords']\n",
    "\n",
    "\n",
    "reference_features = ['num_hrefs',\n",
    "                      'num_self_hrefs',\n",
    "                      'self_reference_min_shares',\n",
    "                      'self_reference_max_shares',\n",
    "                      'self_reference_avg_sharess']\n",
    "\n",
    "topic_features = ['LDA_00', 'LDA_01', 'LDA_02', 'LDA_03', 'LDA_04']\n",
    "\n",
    "subjectivity_features = ['global_subjectivity', 'title_subjectivity', 'abs_title_subjectivity']\n",
    "\n",
    "sentiment_features = ['global_sentiment_polarity', 'global_rate_positive_words',\n",
    "                      'global_rate_negative_words', 'rate_positive_words',\n",
    "                      'rate_negative_words', 'avg_positive_polarity',\n",
    "                      'min_positive_polarity', 'max_positive_polarity',\n",
    "                      'avg_negative_polarity', 'min_negative_polarity',\n",
    "                      'max_negative_polarity', 'title_sentiment_polarity',\n",
    "                      'abs_title_sentiment_polarity']\n",
    "\n",
    "ids = ['id']\n",
    "\n",
    "others = ['url']\n",
    "\n",
    "target = ['shares']"
   ]
  },
  {
   "cell_type": "code",
   "execution_count": 172,
   "id": "618dce42",
   "metadata": {
    "execution": {
     "iopub.execute_input": "2021-08-07T13:34:05.204264Z",
     "iopub.status.busy": "2021-08-07T13:34:05.203306Z",
     "iopub.status.idle": "2021-08-07T13:34:05.210137Z",
     "shell.execute_reply": "2021-08-07T13:34:05.210616Z",
     "shell.execute_reply.started": "2021-08-07T12:09:17.058501Z"
    },
    "papermill": {
     "duration": null,
     "end_time": null,
     "exception": null,
     "start_time": null,
     "status": "pending"
    },
    "tags": []
   },
   "outputs": [
    {
     "data": {
      "text/plain": [
       "(61, 61)"
      ]
     },
     "execution_count": 172,
     "metadata": {},
     "output_type": "execute_result"
    }
   ],
   "source": [
    "features = [*ids, *word_features, *media_features, \n",
    "            *temporal_features, *channel_features, \n",
    "            *keyword_features, *reference_features, \n",
    "            *topic_features, *subjectivity_features, \n",
    "            *sentiment_features, *others, *target]\n",
    "\n",
    "len(features), len(df.columns)"
   ]
  },
  {
   "cell_type": "code",
   "execution_count": 173,
   "id": "9b186f4e",
   "metadata": {},
   "outputs": [
    {
     "data": {
      "text/plain": [
       "(29733, 61)"
      ]
     },
     "execution_count": 173,
     "metadata": {},
     "output_type": "execute_result"
    }
   ],
   "source": [
    "df.shape"
   ]
  },
  {
   "cell_type": "markdown",
   "id": "421527fd",
   "metadata": {
    "papermill": {
     "duration": null,
     "end_time": null,
     "exception": null,
     "start_time": null,
     "status": "pending"
    },
    "tags": []
   },
   "source": [
    "## 2. Create X, y and then Train test split\n",
    "\n",
    "Lets create X and y datasets and then split them into train and test, before we do any form of transformations on the data or cleaning.\n",
    "\n",
    "> Important: For the purpose of this **starter notebook**, we I will restrict the dataset to only a small set of variables. However, for building your models and submission files, please ensure to select from all the features given so as to ensure good ranking on the leaderboard."
   ]
  },
  {
   "cell_type": "code",
   "execution_count": 174,
   "id": "877ab89e",
   "metadata": {
    "execution": {
     "iopub.execute_input": "2021-08-07T13:34:05.437742Z",
     "iopub.status.busy": "2021-08-07T13:34:05.436760Z",
     "iopub.status.idle": "2021-08-07T13:34:05.442936Z",
     "shell.execute_reply": "2021-08-07T13:34:05.443430Z",
     "shell.execute_reply.started": "2021-08-07T12:09:17.077548Z"
    },
    "papermill": {
     "duration": null,
     "end_time": null,
     "exception": null,
     "start_time": null,
     "status": "pending"
    },
    "tags": []
   },
   "outputs": [
    {
     "name": "stdout",
     "output_type": "stream",
     "text": [
      "24\n"
     ]
    }
   ],
   "source": [
    "\n",
    "\n",
    "selected_features = [*ids, *word_features, *channel_features, *temporal_features, *subjectivity_features]\n",
    "print(len(selected_features))\n"
   ]
  },
  {
   "cell_type": "code",
   "execution_count": 175,
   "id": "041b02a3",
   "metadata": {
    "execution": {
     "iopub.execute_input": "2021-08-07T13:34:05.569469Z",
     "iopub.status.busy": "2021-08-07T13:34:05.568769Z",
     "iopub.status.idle": "2021-08-07T13:34:05.575711Z",
     "shell.execute_reply": "2021-08-07T13:34:05.576366Z",
     "shell.execute_reply.started": "2021-08-07T12:09:17.094632Z"
    },
    "papermill": {
     "duration": null,
     "end_time": null,
     "exception": null,
     "start_time": null,
     "status": "pending"
    },
    "tags": []
   },
   "outputs": [],
   "source": [
    "X = df[selected_features].set_index('id')\n",
    "y = df[target]"
   ]
  },
  {
   "cell_type": "code",
   "execution_count": 176,
   "id": "3420f3ef",
   "metadata": {
    "execution": {
     "iopub.execute_input": "2021-08-07T13:34:05.696968Z",
     "iopub.status.busy": "2021-08-07T13:34:05.696268Z",
     "iopub.status.idle": "2021-08-07T13:34:05.713123Z",
     "shell.execute_reply": "2021-08-07T13:34:05.713737Z",
     "shell.execute_reply.started": "2021-08-07T12:09:17.118366Z"
    },
    "papermill": {
     "duration": null,
     "end_time": null,
     "exception": null,
     "start_time": null,
     "status": "pending"
    },
    "tags": []
   },
   "outputs": [
    {
     "data": {
      "text/plain": [
       "[(20813, 23), (8920, 23), (20813, 1), (8920, 1)]"
      ]
     },
     "execution_count": 176,
     "metadata": {},
     "output_type": "execute_result"
    }
   ],
   "source": [
    "X_train, X_test, y_train, y_test = train_test_split(X, y, test_size=0.3)\n",
    "\n",
    "[i.shape for i in [X_train, X_test, y_train, y_test]]"
   ]
  },
  {
   "cell_type": "code",
   "execution_count": 177,
   "id": "fe98766e",
   "metadata": {
    "execution": {
     "iopub.execute_input": "2021-08-07T13:34:05.838249Z",
     "iopub.status.busy": "2021-08-07T13:34:05.837522Z",
     "iopub.status.idle": "2021-08-07T13:34:05.875223Z",
     "shell.execute_reply": "2021-08-07T13:34:05.874588Z",
     "shell.execute_reply.started": "2021-08-07T12:09:17.139755Z"
    },
    "papermill": {
     "duration": null,
     "end_time": null,
     "exception": null,
     "start_time": null,
     "status": "pending"
    },
    "tags": []
   },
   "outputs": [
    {
     "data": {
      "text/html": [
       "<div>\n",
       "<style scoped>\n",
       "    .dataframe tbody tr th:only-of-type {\n",
       "        vertical-align: middle;\n",
       "    }\n",
       "\n",
       "    .dataframe tbody tr th {\n",
       "        vertical-align: top;\n",
       "    }\n",
       "\n",
       "    .dataframe thead th {\n",
       "        text-align: right;\n",
       "    }\n",
       "</style>\n",
       "<table border=\"1\" class=\"dataframe\">\n",
       "  <thead>\n",
       "    <tr style=\"text-align: right;\">\n",
       "      <th></th>\n",
       "      <th>n_tokens_title</th>\n",
       "      <th>n_tokens_content</th>\n",
       "      <th>n_unique_tokens</th>\n",
       "      <th>n_non_stop_words</th>\n",
       "      <th>n_non_stop_unique_tokens</th>\n",
       "      <th>average_token_length</th>\n",
       "      <th>data_channel_is_lifestyle</th>\n",
       "      <th>data_channel_is_entertainment</th>\n",
       "      <th>data_channel_is_bus</th>\n",
       "      <th>data_channel_is_socmed</th>\n",
       "      <th>...</th>\n",
       "      <th>weekday_is_tuesday</th>\n",
       "      <th>weekday_is_wednesday</th>\n",
       "      <th>weekday_is_thursday</th>\n",
       "      <th>weekday_is_friday</th>\n",
       "      <th>weekday_is_saturday</th>\n",
       "      <th>weekday_is_sunday</th>\n",
       "      <th>is_weekend</th>\n",
       "      <th>global_subjectivity</th>\n",
       "      <th>title_subjectivity</th>\n",
       "      <th>abs_title_subjectivity</th>\n",
       "    </tr>\n",
       "    <tr>\n",
       "      <th>id</th>\n",
       "      <th></th>\n",
       "      <th></th>\n",
       "      <th></th>\n",
       "      <th></th>\n",
       "      <th></th>\n",
       "      <th></th>\n",
       "      <th></th>\n",
       "      <th></th>\n",
       "      <th></th>\n",
       "      <th></th>\n",
       "      <th></th>\n",
       "      <th></th>\n",
       "      <th></th>\n",
       "      <th></th>\n",
       "      <th></th>\n",
       "      <th></th>\n",
       "      <th></th>\n",
       "      <th></th>\n",
       "      <th></th>\n",
       "      <th></th>\n",
       "      <th></th>\n",
       "    </tr>\n",
       "  </thead>\n",
       "  <tbody>\n",
       "    <tr>\n",
       "      <th>20654</th>\n",
       "      <td>14.0</td>\n",
       "      <td>363.0</td>\n",
       "      <td>0.495627</td>\n",
       "      <td>1.0</td>\n",
       "      <td>0.523985</td>\n",
       "      <td>4.980716</td>\n",
       "      <td>0.0</td>\n",
       "      <td>0.0</td>\n",
       "      <td>0.0</td>\n",
       "      <td>0.0</td>\n",
       "      <td>...</td>\n",
       "      <td>1.0</td>\n",
       "      <td>0.0</td>\n",
       "      <td>0.0</td>\n",
       "      <td>0.0</td>\n",
       "      <td>0.0</td>\n",
       "      <td>0.0</td>\n",
       "      <td>NaN</td>\n",
       "      <td>NaN</td>\n",
       "      <td>0.375000</td>\n",
       "      <td>NaN</td>\n",
       "    </tr>\n",
       "    <tr>\n",
       "      <th>24642</th>\n",
       "      <td>7.0</td>\n",
       "      <td>719.0</td>\n",
       "      <td>0.437143</td>\n",
       "      <td>1.0</td>\n",
       "      <td>0.617284</td>\n",
       "      <td>4.376912</td>\n",
       "      <td>1.0</td>\n",
       "      <td>0.0</td>\n",
       "      <td>0.0</td>\n",
       "      <td>0.0</td>\n",
       "      <td>...</td>\n",
       "      <td>0.0</td>\n",
       "      <td>0.0</td>\n",
       "      <td>0.0</td>\n",
       "      <td>0.0</td>\n",
       "      <td>0.0</td>\n",
       "      <td>1.0</td>\n",
       "      <td>1.0</td>\n",
       "      <td>0.500030</td>\n",
       "      <td>0.000000</td>\n",
       "      <td>0.500000</td>\n",
       "    </tr>\n",
       "    <tr>\n",
       "      <th>12014</th>\n",
       "      <td>15.0</td>\n",
       "      <td>458.0</td>\n",
       "      <td>0.512088</td>\n",
       "      <td>1.0</td>\n",
       "      <td>0.662879</td>\n",
       "      <td>4.949782</td>\n",
       "      <td>0.0</td>\n",
       "      <td>0.0</td>\n",
       "      <td>1.0</td>\n",
       "      <td>0.0</td>\n",
       "      <td>...</td>\n",
       "      <td>0.0</td>\n",
       "      <td>1.0</td>\n",
       "      <td>0.0</td>\n",
       "      <td>0.0</td>\n",
       "      <td>0.0</td>\n",
       "      <td>0.0</td>\n",
       "      <td>0.0</td>\n",
       "      <td>0.385503</td>\n",
       "      <td>0.454545</td>\n",
       "      <td>0.045455</td>\n",
       "    </tr>\n",
       "    <tr>\n",
       "      <th>29481</th>\n",
       "      <td>11.0</td>\n",
       "      <td>217.0</td>\n",
       "      <td>0.591549</td>\n",
       "      <td>1.0</td>\n",
       "      <td>0.775194</td>\n",
       "      <td>4.930876</td>\n",
       "      <td>0.0</td>\n",
       "      <td>0.0</td>\n",
       "      <td>1.0</td>\n",
       "      <td>0.0</td>\n",
       "      <td>...</td>\n",
       "      <td>0.0</td>\n",
       "      <td>1.0</td>\n",
       "      <td>0.0</td>\n",
       "      <td>0.0</td>\n",
       "      <td>0.0</td>\n",
       "      <td>NaN</td>\n",
       "      <td>0.0</td>\n",
       "      <td>0.369697</td>\n",
       "      <td>0.000000</td>\n",
       "      <td>0.500000</td>\n",
       "    </tr>\n",
       "    <tr>\n",
       "      <th>4227</th>\n",
       "      <td>10.0</td>\n",
       "      <td>467.0</td>\n",
       "      <td>0.522831</td>\n",
       "      <td>1.0</td>\n",
       "      <td>0.614887</td>\n",
       "      <td>4.845824</td>\n",
       "      <td>0.0</td>\n",
       "      <td>0.0</td>\n",
       "      <td>0.0</td>\n",
       "      <td>0.0</td>\n",
       "      <td>...</td>\n",
       "      <td>1.0</td>\n",
       "      <td>0.0</td>\n",
       "      <td>0.0</td>\n",
       "      <td>0.0</td>\n",
       "      <td>0.0</td>\n",
       "      <td>NaN</td>\n",
       "      <td>0.0</td>\n",
       "      <td>0.428351</td>\n",
       "      <td>0.443939</td>\n",
       "      <td>0.056061</td>\n",
       "    </tr>\n",
       "  </tbody>\n",
       "</table>\n",
       "<p>5 rows × 23 columns</p>\n",
       "</div>"
      ],
      "text/plain": [
       "       n_tokens_title  n_tokens_content  n_unique_tokens  n_non_stop_words  \\\n",
       "id                                                                           \n",
       "20654            14.0             363.0         0.495627               1.0   \n",
       "24642             7.0             719.0         0.437143               1.0   \n",
       "12014            15.0             458.0         0.512088               1.0   \n",
       "29481            11.0             217.0         0.591549               1.0   \n",
       "4227             10.0             467.0         0.522831               1.0   \n",
       "\n",
       "       n_non_stop_unique_tokens  average_token_length  \\\n",
       "id                                                      \n",
       "20654                  0.523985              4.980716   \n",
       "24642                  0.617284              4.376912   \n",
       "12014                  0.662879              4.949782   \n",
       "29481                  0.775194              4.930876   \n",
       "4227                   0.614887              4.845824   \n",
       "\n",
       "       data_channel_is_lifestyle  data_channel_is_entertainment  \\\n",
       "id                                                                \n",
       "20654                        0.0                            0.0   \n",
       "24642                        1.0                            0.0   \n",
       "12014                        0.0                            0.0   \n",
       "29481                        0.0                            0.0   \n",
       "4227                         0.0                            0.0   \n",
       "\n",
       "       data_channel_is_bus  data_channel_is_socmed  ...  weekday_is_tuesday  \\\n",
       "id                                                  ...                       \n",
       "20654                  0.0                     0.0  ...                 1.0   \n",
       "24642                  0.0                     0.0  ...                 0.0   \n",
       "12014                  1.0                     0.0  ...                 0.0   \n",
       "29481                  1.0                     0.0  ...                 0.0   \n",
       "4227                   0.0                     0.0  ...                 1.0   \n",
       "\n",
       "       weekday_is_wednesday  weekday_is_thursday  weekday_is_friday  \\\n",
       "id                                                                    \n",
       "20654                   0.0                  0.0                0.0   \n",
       "24642                   0.0                  0.0                0.0   \n",
       "12014                   1.0                  0.0                0.0   \n",
       "29481                   1.0                  0.0                0.0   \n",
       "4227                    0.0                  0.0                0.0   \n",
       "\n",
       "       weekday_is_saturday  weekday_is_sunday  is_weekend  \\\n",
       "id                                                          \n",
       "20654                  0.0                0.0         NaN   \n",
       "24642                  0.0                1.0         1.0   \n",
       "12014                  0.0                0.0         0.0   \n",
       "29481                  0.0                NaN         0.0   \n",
       "4227                   0.0                NaN         0.0   \n",
       "\n",
       "       global_subjectivity  title_subjectivity  abs_title_subjectivity  \n",
       "id                                                                      \n",
       "20654                  NaN            0.375000                     NaN  \n",
       "24642             0.500030            0.000000                0.500000  \n",
       "12014             0.385503            0.454545                0.045455  \n",
       "29481             0.369697            0.000000                0.500000  \n",
       "4227              0.428351            0.443939                0.056061  \n",
       "\n",
       "[5 rows x 23 columns]"
      ]
     },
     "execution_count": 177,
     "metadata": {},
     "output_type": "execute_result"
    }
   ],
   "source": [
    "X_train.head()"
   ]
  },
  {
   "cell_type": "code",
   "execution_count": 178,
   "id": "a82a5a91",
   "metadata": {
    "execution": {
     "iopub.execute_input": "2021-08-07T13:34:05.997385Z",
     "iopub.status.busy": "2021-08-07T13:34:05.996748Z",
     "iopub.status.idle": "2021-08-07T13:34:06.016287Z",
     "shell.execute_reply": "2021-08-07T13:34:06.016761Z",
     "shell.execute_reply.started": "2021-08-07T12:09:17.953218Z"
    },
    "papermill": {
     "duration": null,
     "end_time": null,
     "exception": null,
     "start_time": null,
     "status": "pending"
    },
    "tags": []
   },
   "outputs": [
    {
     "name": "stdout",
     "output_type": "stream",
     "text": [
      "<class 'pandas.core.frame.DataFrame'>\n",
      "Int64Index: 20813 entries, 20654 to 9376\n",
      "Data columns (total 23 columns):\n",
      " #   Column                         Non-Null Count  Dtype  \n",
      "---  ------                         --------------  -----  \n",
      " 0   n_tokens_title                 20813 non-null  float64\n",
      " 1   n_tokens_content               20813 non-null  float64\n",
      " 2   n_unique_tokens                20813 non-null  float64\n",
      " 3   n_non_stop_words               20813 non-null  float64\n",
      " 4   n_non_stop_unique_tokens       20813 non-null  float64\n",
      " 5   average_token_length           20813 non-null  float64\n",
      " 6   data_channel_is_lifestyle      20813 non-null  float64\n",
      " 7   data_channel_is_entertainment  20813 non-null  float64\n",
      " 8   data_channel_is_bus            20813 non-null  float64\n",
      " 9   data_channel_is_socmed         20813 non-null  float64\n",
      " 10  data_channel_is_tech           20813 non-null  float64\n",
      " 11  data_channel_is_world          20813 non-null  float64\n",
      " 12  weekday_is_monday              20135 non-null  float64\n",
      " 13  weekday_is_tuesday             20283 non-null  float64\n",
      " 14  weekday_is_wednesday           19703 non-null  float64\n",
      " 15  weekday_is_thursday            20590 non-null  float64\n",
      " 16  weekday_is_friday              20200 non-null  float64\n",
      " 17  weekday_is_saturday            20745 non-null  float64\n",
      " 18  weekday_is_sunday              19749 non-null  float64\n",
      " 19  is_weekend                     19303 non-null  float64\n",
      " 20  global_subjectivity            19223 non-null  float64\n",
      " 21  title_subjectivity             20721 non-null  float64\n",
      " 22  abs_title_subjectivity         20257 non-null  float64\n",
      "dtypes: float64(23)\n",
      "memory usage: 3.8 MB\n"
     ]
    }
   ],
   "source": [
    "X_train.info()"
   ]
  },
  {
   "cell_type": "code",
   "execution_count": 179,
   "id": "45f598b2",
   "metadata": {
    "execution": {
     "iopub.execute_input": "2021-08-07T13:34:06.148359Z",
     "iopub.status.busy": "2021-08-07T13:34:06.147657Z",
     "iopub.status.idle": "2021-08-07T13:34:06.239721Z",
     "shell.execute_reply": "2021-08-07T13:34:06.239062Z",
     "shell.execute_reply.started": "2021-08-07T12:09:18.504282Z"
    },
    "papermill": {
     "duration": null,
     "end_time": null,
     "exception": null,
     "start_time": null,
     "status": "pending"
    },
    "tags": []
   },
   "outputs": [
    {
     "data": {
      "text/html": [
       "<div>\n",
       "<style scoped>\n",
       "    .dataframe tbody tr th:only-of-type {\n",
       "        vertical-align: middle;\n",
       "    }\n",
       "\n",
       "    .dataframe tbody tr th {\n",
       "        vertical-align: top;\n",
       "    }\n",
       "\n",
       "    .dataframe thead th {\n",
       "        text-align: right;\n",
       "    }\n",
       "</style>\n",
       "<table border=\"1\" class=\"dataframe\">\n",
       "  <thead>\n",
       "    <tr style=\"text-align: right;\">\n",
       "      <th></th>\n",
       "      <th>n_tokens_title</th>\n",
       "      <th>n_tokens_content</th>\n",
       "      <th>n_unique_tokens</th>\n",
       "      <th>n_non_stop_words</th>\n",
       "      <th>n_non_stop_unique_tokens</th>\n",
       "      <th>average_token_length</th>\n",
       "      <th>data_channel_is_lifestyle</th>\n",
       "      <th>data_channel_is_entertainment</th>\n",
       "      <th>data_channel_is_bus</th>\n",
       "      <th>data_channel_is_socmed</th>\n",
       "      <th>...</th>\n",
       "      <th>weekday_is_tuesday</th>\n",
       "      <th>weekday_is_wednesday</th>\n",
       "      <th>weekday_is_thursday</th>\n",
       "      <th>weekday_is_friday</th>\n",
       "      <th>weekday_is_saturday</th>\n",
       "      <th>weekday_is_sunday</th>\n",
       "      <th>is_weekend</th>\n",
       "      <th>global_subjectivity</th>\n",
       "      <th>title_subjectivity</th>\n",
       "      <th>abs_title_subjectivity</th>\n",
       "    </tr>\n",
       "  </thead>\n",
       "  <tbody>\n",
       "    <tr>\n",
       "      <th>count</th>\n",
       "      <td>20813.000000</td>\n",
       "      <td>20813.000000</td>\n",
       "      <td>20813.000000</td>\n",
       "      <td>20813.000000</td>\n",
       "      <td>20813.000000</td>\n",
       "      <td>20813.000000</td>\n",
       "      <td>20813.000000</td>\n",
       "      <td>20813.000000</td>\n",
       "      <td>20813.000000</td>\n",
       "      <td>20813.000000</td>\n",
       "      <td>...</td>\n",
       "      <td>20283.000000</td>\n",
       "      <td>19703.000000</td>\n",
       "      <td>20590.000000</td>\n",
       "      <td>20200.000000</td>\n",
       "      <td>20745.000000</td>\n",
       "      <td>19749.000000</td>\n",
       "      <td>19303.000000</td>\n",
       "      <td>19223.000000</td>\n",
       "      <td>20721.000000</td>\n",
       "      <td>20257.000000</td>\n",
       "    </tr>\n",
       "    <tr>\n",
       "      <th>mean</th>\n",
       "      <td>10.395090</td>\n",
       "      <td>546.018738</td>\n",
       "      <td>0.564486</td>\n",
       "      <td>1.019603</td>\n",
       "      <td>0.704664</td>\n",
       "      <td>4.543156</td>\n",
       "      <td>0.053284</td>\n",
       "      <td>0.176524</td>\n",
       "      <td>0.159323</td>\n",
       "      <td>0.059386</td>\n",
       "      <td>...</td>\n",
       "      <td>0.187990</td>\n",
       "      <td>0.188144</td>\n",
       "      <td>0.184070</td>\n",
       "      <td>0.142624</td>\n",
       "      <td>0.061750</td>\n",
       "      <td>0.066484</td>\n",
       "      <td>0.128581</td>\n",
       "      <td>0.443746</td>\n",
       "      <td>0.282292</td>\n",
       "      <td>0.342411</td>\n",
       "    </tr>\n",
       "    <tr>\n",
       "      <th>std</th>\n",
       "      <td>2.121073</td>\n",
       "      <td>471.831121</td>\n",
       "      <td>4.857299</td>\n",
       "      <td>7.218036</td>\n",
       "      <td>4.503501</td>\n",
       "      <td>0.850437</td>\n",
       "      <td>0.224605</td>\n",
       "      <td>0.381275</td>\n",
       "      <td>0.365986</td>\n",
       "      <td>0.236351</td>\n",
       "      <td>...</td>\n",
       "      <td>0.390714</td>\n",
       "      <td>0.390837</td>\n",
       "      <td>0.387551</td>\n",
       "      <td>0.349697</td>\n",
       "      <td>0.240706</td>\n",
       "      <td>0.249133</td>\n",
       "      <td>0.334744</td>\n",
       "      <td>0.116824</td>\n",
       "      <td>0.324179</td>\n",
       "      <td>0.188235</td>\n",
       "    </tr>\n",
       "    <tr>\n",
       "      <th>min</th>\n",
       "      <td>3.000000</td>\n",
       "      <td>0.000000</td>\n",
       "      <td>0.000000</td>\n",
       "      <td>0.000000</td>\n",
       "      <td>0.000000</td>\n",
       "      <td>0.000000</td>\n",
       "      <td>0.000000</td>\n",
       "      <td>0.000000</td>\n",
       "      <td>0.000000</td>\n",
       "      <td>0.000000</td>\n",
       "      <td>...</td>\n",
       "      <td>0.000000</td>\n",
       "      <td>0.000000</td>\n",
       "      <td>0.000000</td>\n",
       "      <td>0.000000</td>\n",
       "      <td>0.000000</td>\n",
       "      <td>0.000000</td>\n",
       "      <td>0.000000</td>\n",
       "      <td>0.000000</td>\n",
       "      <td>0.000000</td>\n",
       "      <td>0.000000</td>\n",
       "    </tr>\n",
       "    <tr>\n",
       "      <th>25%</th>\n",
       "      <td>9.000000</td>\n",
       "      <td>246.000000</td>\n",
       "      <td>0.471483</td>\n",
       "      <td>1.000000</td>\n",
       "      <td>0.627119</td>\n",
       "      <td>4.477749</td>\n",
       "      <td>0.000000</td>\n",
       "      <td>0.000000</td>\n",
       "      <td>0.000000</td>\n",
       "      <td>0.000000</td>\n",
       "      <td>...</td>\n",
       "      <td>0.000000</td>\n",
       "      <td>0.000000</td>\n",
       "      <td>0.000000</td>\n",
       "      <td>0.000000</td>\n",
       "      <td>0.000000</td>\n",
       "      <td>0.000000</td>\n",
       "      <td>0.000000</td>\n",
       "      <td>0.396938</td>\n",
       "      <td>0.000000</td>\n",
       "      <td>0.166667</td>\n",
       "    </tr>\n",
       "    <tr>\n",
       "      <th>50%</th>\n",
       "      <td>10.000000</td>\n",
       "      <td>408.000000</td>\n",
       "      <td>0.540000</td>\n",
       "      <td>1.000000</td>\n",
       "      <td>0.691710</td>\n",
       "      <td>4.664134</td>\n",
       "      <td>0.000000</td>\n",
       "      <td>0.000000</td>\n",
       "      <td>0.000000</td>\n",
       "      <td>0.000000</td>\n",
       "      <td>...</td>\n",
       "      <td>0.000000</td>\n",
       "      <td>0.000000</td>\n",
       "      <td>0.000000</td>\n",
       "      <td>0.000000</td>\n",
       "      <td>0.000000</td>\n",
       "      <td>0.000000</td>\n",
       "      <td>0.000000</td>\n",
       "      <td>0.453606</td>\n",
       "      <td>0.150000</td>\n",
       "      <td>0.500000</td>\n",
       "    </tr>\n",
       "    <tr>\n",
       "      <th>75%</th>\n",
       "      <td>12.000000</td>\n",
       "      <td>716.000000</td>\n",
       "      <td>0.609319</td>\n",
       "      <td>1.000000</td>\n",
       "      <td>0.754617</td>\n",
       "      <td>4.850806</td>\n",
       "      <td>0.000000</td>\n",
       "      <td>0.000000</td>\n",
       "      <td>0.000000</td>\n",
       "      <td>0.000000</td>\n",
       "      <td>...</td>\n",
       "      <td>0.000000</td>\n",
       "      <td>0.000000</td>\n",
       "      <td>0.000000</td>\n",
       "      <td>0.000000</td>\n",
       "      <td>0.000000</td>\n",
       "      <td>0.000000</td>\n",
       "      <td>0.000000</td>\n",
       "      <td>0.507943</td>\n",
       "      <td>0.500000</td>\n",
       "      <td>0.500000</td>\n",
       "    </tr>\n",
       "    <tr>\n",
       "      <th>max</th>\n",
       "      <td>23.000000</td>\n",
       "      <td>8474.000000</td>\n",
       "      <td>701.000000</td>\n",
       "      <td>1042.000000</td>\n",
       "      <td>650.000000</td>\n",
       "      <td>8.041534</td>\n",
       "      <td>1.000000</td>\n",
       "      <td>1.000000</td>\n",
       "      <td>1.000000</td>\n",
       "      <td>1.000000</td>\n",
       "      <td>...</td>\n",
       "      <td>1.000000</td>\n",
       "      <td>1.000000</td>\n",
       "      <td>1.000000</td>\n",
       "      <td>1.000000</td>\n",
       "      <td>1.000000</td>\n",
       "      <td>1.000000</td>\n",
       "      <td>1.000000</td>\n",
       "      <td>1.000000</td>\n",
       "      <td>1.000000</td>\n",
       "      <td>0.500000</td>\n",
       "    </tr>\n",
       "  </tbody>\n",
       "</table>\n",
       "<p>8 rows × 23 columns</p>\n",
       "</div>"
      ],
      "text/plain": [
       "       n_tokens_title  n_tokens_content  n_unique_tokens  n_non_stop_words  \\\n",
       "count    20813.000000      20813.000000     20813.000000      20813.000000   \n",
       "mean        10.395090        546.018738         0.564486          1.019603   \n",
       "std          2.121073        471.831121         4.857299          7.218036   \n",
       "min          3.000000          0.000000         0.000000          0.000000   \n",
       "25%          9.000000        246.000000         0.471483          1.000000   \n",
       "50%         10.000000        408.000000         0.540000          1.000000   \n",
       "75%         12.000000        716.000000         0.609319          1.000000   \n",
       "max         23.000000       8474.000000       701.000000       1042.000000   \n",
       "\n",
       "       n_non_stop_unique_tokens  average_token_length  \\\n",
       "count              20813.000000          20813.000000   \n",
       "mean                   0.704664              4.543156   \n",
       "std                    4.503501              0.850437   \n",
       "min                    0.000000              0.000000   \n",
       "25%                    0.627119              4.477749   \n",
       "50%                    0.691710              4.664134   \n",
       "75%                    0.754617              4.850806   \n",
       "max                  650.000000              8.041534   \n",
       "\n",
       "       data_channel_is_lifestyle  data_channel_is_entertainment  \\\n",
       "count               20813.000000                   20813.000000   \n",
       "mean                    0.053284                       0.176524   \n",
       "std                     0.224605                       0.381275   \n",
       "min                     0.000000                       0.000000   \n",
       "25%                     0.000000                       0.000000   \n",
       "50%                     0.000000                       0.000000   \n",
       "75%                     0.000000                       0.000000   \n",
       "max                     1.000000                       1.000000   \n",
       "\n",
       "       data_channel_is_bus  data_channel_is_socmed  ...  weekday_is_tuesday  \\\n",
       "count         20813.000000            20813.000000  ...        20283.000000   \n",
       "mean              0.159323                0.059386  ...            0.187990   \n",
       "std               0.365986                0.236351  ...            0.390714   \n",
       "min               0.000000                0.000000  ...            0.000000   \n",
       "25%               0.000000                0.000000  ...            0.000000   \n",
       "50%               0.000000                0.000000  ...            0.000000   \n",
       "75%               0.000000                0.000000  ...            0.000000   \n",
       "max               1.000000                1.000000  ...            1.000000   \n",
       "\n",
       "       weekday_is_wednesday  weekday_is_thursday  weekday_is_friday  \\\n",
       "count          19703.000000         20590.000000       20200.000000   \n",
       "mean               0.188144             0.184070           0.142624   \n",
       "std                0.390837             0.387551           0.349697   \n",
       "min                0.000000             0.000000           0.000000   \n",
       "25%                0.000000             0.000000           0.000000   \n",
       "50%                0.000000             0.000000           0.000000   \n",
       "75%                0.000000             0.000000           0.000000   \n",
       "max                1.000000             1.000000           1.000000   \n",
       "\n",
       "       weekday_is_saturday  weekday_is_sunday    is_weekend  \\\n",
       "count         20745.000000       19749.000000  19303.000000   \n",
       "mean              0.061750           0.066484      0.128581   \n",
       "std               0.240706           0.249133      0.334744   \n",
       "min               0.000000           0.000000      0.000000   \n",
       "25%               0.000000           0.000000      0.000000   \n",
       "50%               0.000000           0.000000      0.000000   \n",
       "75%               0.000000           0.000000      0.000000   \n",
       "max               1.000000           1.000000      1.000000   \n",
       "\n",
       "       global_subjectivity  title_subjectivity  abs_title_subjectivity  \n",
       "count         19223.000000        20721.000000            20257.000000  \n",
       "mean              0.443746            0.282292                0.342411  \n",
       "std               0.116824            0.324179                0.188235  \n",
       "min               0.000000            0.000000                0.000000  \n",
       "25%               0.396938            0.000000                0.166667  \n",
       "50%               0.453606            0.150000                0.500000  \n",
       "75%               0.507943            0.500000                0.500000  \n",
       "max               1.000000            1.000000                0.500000  \n",
       "\n",
       "[8 rows x 23 columns]"
      ]
     },
     "execution_count": 179,
     "metadata": {},
     "output_type": "execute_result"
    }
   ],
   "source": [
    "X_train.describe()"
   ]
  },
  {
   "cell_type": "markdown",
   "id": "a69a6103",
   "metadata": {
    "papermill": {
     "duration": null,
     "end_time": null,
     "exception": null,
     "start_time": null,
     "status": "pending"
    },
    "tags": []
   },
   "source": [
    "There seem to be some missing values in the count as shown by describe. Lets analyze and fix the same."
   ]
  },
  {
   "cell_type": "markdown",
   "id": "77f1af00",
   "metadata": {
    "papermill": {
     "duration": null,
     "end_time": null,
     "exception": null,
     "start_time": null,
     "status": "pending"
    },
    "tags": []
   },
   "source": [
    "## 3. Handling Missing data\n",
    "\n",
    "First lets analyse the missing data. We can use missingno library for quick visualizations."
   ]
  },
  {
   "cell_type": "code",
   "execution_count": 180,
   "id": "13bc797c",
   "metadata": {
    "execution": {
     "iopub.execute_input": "2021-08-07T13:34:10.037083Z",
     "iopub.status.busy": "2021-08-07T13:34:10.036432Z",
     "iopub.status.idle": "2021-08-07T13:34:10.046970Z",
     "shell.execute_reply": "2021-08-07T13:34:10.047483Z",
     "shell.execute_reply.started": "2021-08-07T12:09:22.693271Z"
    },
    "papermill": {
     "duration": null,
     "end_time": null,
     "exception": null,
     "start_time": null,
     "status": "pending"
    },
    "tags": []
   },
   "outputs": [
    {
     "data": {
      "text/plain": [
       "n_tokens_title                   0.000000\n",
       "n_tokens_content                 0.000000\n",
       "n_unique_tokens                  0.000000\n",
       "n_non_stop_words                 0.000000\n",
       "n_non_stop_unique_tokens         0.000000\n",
       "average_token_length             0.000000\n",
       "data_channel_is_lifestyle        0.000000\n",
       "data_channel_is_entertainment    0.000000\n",
       "data_channel_is_bus              0.000000\n",
       "data_channel_is_socmed           0.000000\n",
       "data_channel_is_tech             0.000000\n",
       "data_channel_is_world            0.000000\n",
       "weekday_is_monday                3.257579\n",
       "weekday_is_tuesday               2.546485\n",
       "weekday_is_wednesday             5.333205\n",
       "weekday_is_thursday              1.071446\n",
       "weekday_is_friday                2.945275\n",
       "weekday_is_saturday              0.326719\n",
       "weekday_is_sunday                5.112189\n",
       "is_weekend                       7.255081\n",
       "global_subjectivity              7.639456\n",
       "title_subjectivity               0.442031\n",
       "abs_title_subjectivity           2.671407\n",
       "dtype: float64"
      ]
     },
     "execution_count": 180,
     "metadata": {},
     "output_type": "execute_result"
    }
   ],
   "source": [
    "missing_data_percent = 100*X_train.isnull().sum()/len(y_train)\n",
    "missing_data_percent"
   ]
  },
  {
   "cell_type": "code",
   "execution_count": 181,
   "id": "4135bb03",
   "metadata": {
    "execution": {
     "iopub.execute_input": "2021-08-07T13:34:10.317848Z",
     "iopub.status.busy": "2021-08-07T13:34:10.317163Z",
     "iopub.status.idle": "2021-08-07T13:34:10.321205Z",
     "shell.execute_reply": "2021-08-07T13:34:10.320532Z",
     "shell.execute_reply.started": "2021-08-07T12:09:22.708491Z"
    },
    "papermill": {
     "duration": null,
     "end_time": null,
     "exception": null,
     "start_time": null,
     "status": "pending"
    },
    "tags": []
   },
   "outputs": [
    {
     "data": {
      "text/plain": [
       "num_imgs                        18.19\n",
       "num_self_hrefs                  15.25\n",
       "global_subjectivity              7.55\n",
       "is_weekend                       7.29\n",
       "self_reference_max_shares        5.93\n",
       "weekday_is_wednesday             5.23\n",
       "kw_max_max                       5.10\n",
       "weekday_is_sunday                5.03\n",
       "abs_title_sentiment_polarity     4.90\n",
       "avg_positive_polarity            4.16\n",
       "kw_min_min                       3.65\n",
       "weekday_is_monday                3.30\n",
       "kw_avg_avg                       3.27\n",
       "global_rate_negative_words       2.99\n",
       "weekday_is_friday                2.91\n",
       "global_rate_positive_words       2.81\n",
       "num_hrefs                        2.73\n",
       "abs_title_subjectivity           2.69\n",
       "min_negative_polarity            2.63\n",
       "weekday_is_tuesday               2.53\n",
       "max_negative_polarity            2.39\n",
       "kw_max_avg                       2.29\n",
       "rate_negative_words              1.99\n",
       "num_videos                       1.97\n",
       "rate_positive_words              1.97\n",
       "num_keywords                     1.56\n",
       "kw_max_min                       1.53\n",
       "min_positive_polarity            1.50\n",
       "global_sentiment_polarity        1.18\n",
       "self_reference_avg_sharess       1.09\n",
       "dtype: float64"
      ]
     },
     "execution_count": 181,
     "metadata": {},
     "output_type": "execute_result"
    }
   ],
   "source": [
    "# Checking the percentage of missing values\n",
    "missing_vals = round(100*(df.isnull().sum()/len(df.index)), 2).sort_values(ascending=False)\n",
    "missing_vals.head(30)"
   ]
  },
  {
   "cell_type": "code",
   "execution_count": 182,
   "id": "2a21ec9c",
   "metadata": {
    "execution": {
     "iopub.execute_input": "2021-08-07T13:34:10.456561Z",
     "iopub.status.busy": "2021-08-07T13:34:10.455952Z",
     "iopub.status.idle": "2021-08-07T13:34:10.478036Z",
     "shell.execute_reply": "2021-08-07T13:34:10.478647Z",
     "shell.execute_reply.started": "2021-08-07T12:09:22.720924Z"
    },
    "papermill": {
     "duration": null,
     "end_time": null,
     "exception": null,
     "start_time": null,
     "status": "pending"
    },
    "tags": []
   },
   "outputs": [
    {
     "data": {
      "text/plain": [
       "num_imgs                        5407\n",
       "num_self_hrefs                  4533\n",
       "global_subjectivity             2246\n",
       "is_weekend                      2168\n",
       "self_reference_max_shares       1762\n",
       "weekday_is_wednesday            1554\n",
       "kw_max_max                      1515\n",
       "weekday_is_sunday               1496\n",
       "abs_title_sentiment_polarity    1457\n",
       "avg_positive_polarity           1238\n",
       "dtype: int64"
      ]
     },
     "execution_count": 182,
     "metadata": {},
     "output_type": "execute_result"
    }
   ],
   "source": [
    "# Checking for null values\n",
    "df.isnull().sum().sort_values(ascending=False).head(10)"
   ]
  },
  {
   "cell_type": "code",
   "execution_count": 183,
   "id": "fa849022",
   "metadata": {
    "execution": {
     "iopub.execute_input": "2021-08-07T13:34:10.618943Z",
     "iopub.status.busy": "2021-08-07T13:34:10.618265Z",
     "iopub.status.idle": "2021-08-07T13:34:11.454132Z",
     "shell.execute_reply": "2021-08-07T13:34:11.454628Z",
     "shell.execute_reply.started": "2021-08-07T12:09:22.746994Z"
    },
    "papermill": {
     "duration": null,
     "end_time": null,
     "exception": null,
     "start_time": null,
     "status": "pending"
    },
    "tags": []
   },
   "outputs": [],
   "source": [
    "X_train.fillna(0,inplace=True)"
   ]
  },
  {
   "cell_type": "code",
   "execution_count": 184,
   "id": "ee3b6610",
   "metadata": {
    "execution": {
     "iopub.execute_input": "2021-08-07T13:34:11.605080Z",
     "iopub.status.busy": "2021-08-07T13:34:11.604323Z",
     "iopub.status.idle": "2021-08-07T13:34:11.691105Z",
     "shell.execute_reply": "2021-08-07T13:34:11.691685Z",
     "shell.execute_reply.started": "2021-08-07T12:09:23.598909Z"
    },
    "papermill": {
     "duration": null,
     "end_time": null,
     "exception": null,
     "start_time": null,
     "status": "pending"
    },
    "tags": []
   },
   "outputs": [
    {
     "data": {
      "text/plain": [
       "n_tokens_title          0\n",
       "weekday_is_monday       0\n",
       "title_subjectivity      0\n",
       "global_subjectivity     0\n",
       "is_weekend              0\n",
       "weekday_is_sunday       0\n",
       "weekday_is_saturday     0\n",
       "weekday_is_friday       0\n",
       "weekday_is_thursday     0\n",
       "weekday_is_wednesday    0\n",
       "dtype: int64"
      ]
     },
     "execution_count": 184,
     "metadata": {},
     "output_type": "execute_result"
    }
   ],
   "source": [
    "X_train.isnull().sum().sort_values(ascending=False).head(10)"
   ]
  },
  {
   "cell_type": "code",
   "execution_count": 185,
   "id": "d71ff53e",
   "metadata": {},
   "outputs": [],
   "source": [
    "df.fillna(0,inplace=True)"
   ]
  },
  {
   "cell_type": "code",
   "execution_count": 186,
   "id": "6226c5e9",
   "metadata": {},
   "outputs": [],
   "source": [
    "X_test.fillna(0,inplace=True)"
   ]
  },
  {
   "cell_type": "markdown",
   "id": "f3853a0d",
   "metadata": {
    "papermill": {
     "duration": null,
     "end_time": null,
     "exception": null,
     "start_time": null,
     "status": "pending"
    },
    "tags": []
   },
   "source": [
    "## 4. Exploratory Data Analysis & Preprocessing\n",
    "\n",
    "Lets start by analysing the univariate distributions of each feature."
   ]
  },
  {
   "cell_type": "code",
   "execution_count": 187,
   "id": "98ba834d",
   "metadata": {
    "execution": {
     "iopub.execute_input": "2021-08-07T13:34:12.010913Z",
     "iopub.status.busy": "2021-08-07T13:34:12.010202Z",
     "iopub.status.idle": "2021-08-07T13:34:12.802770Z",
     "shell.execute_reply": "2021-08-07T13:34:12.803338Z",
     "shell.execute_reply.started": "2021-08-07T12:09:23.691826Z"
    },
    "papermill": {
     "duration": null,
     "end_time": null,
     "exception": null,
     "start_time": null,
     "status": "pending"
    },
    "tags": []
   },
   "outputs": [
    {
     "data": {
      "text/plain": [
       "<AxesSubplot:>"
      ]
     },
     "execution_count": 187,
     "metadata": {},
     "output_type": "execute_result"
    },
    {
     "data": {
      "image/png": "[encoded data removed]",
      "text/plain": [
       "<Figure size 1080x576 with 1 Axes>"
      ]
     },
     "metadata": {
      "needs_background": "light"
     },
     "output_type": "display_data"
    }
   ],
   "source": [
    "plt.figure(figsize=(15,8))\n",
    "plt.xticks(rotation=45)\n",
    "sns.boxplot(data = X_train)"
   ]
  },
  {
   "cell_type": "code",
   "execution_count": 188,
   "id": "245210b5",
   "metadata": {},
   "outputs": [
    {
     "name": "stdout",
     "output_type": "stream",
     "text": [
      "Median  = 1400.0\n"
     ]
    }
   ],
   "source": [
    "median_share = df['shares'].median()\n",
    "print(f'Median  = {median_share}')"
   ]
  },
  {
   "cell_type": "code",
   "execution_count": 189,
   "id": "d071b42b",
   "metadata": {},
   "outputs": [],
   "source": [
    "df['popularity'] = df['shares'].apply(lambda x: 1 if x>=1400  else 0)"
   ]
  },
  {
   "cell_type": "code",
   "execution_count": 190,
   "id": "35a5c11b",
   "metadata": {},
   "outputs": [],
   "source": [
    "unpopular=df[df['shares']<1400]\n",
    "popular=df[df['shares']>=1400]"
   ]
  },
  {
   "cell_type": "code",
   "execution_count": 191,
   "id": "f41151d7",
   "metadata": {},
   "outputs": [
    {
     "data": {
      "text/plain": [
       "(13842, 62)"
      ]
     },
     "execution_count": 191,
     "metadata": {},
     "output_type": "execute_result"
    }
   ],
   "source": [
    "unpopular.shape"
   ]
  },
  {
   "cell_type": "code",
   "execution_count": 192,
   "id": "89642735",
   "metadata": {},
   "outputs": [
    {
     "data": {
      "text/plain": [
       "(15891, 62)"
      ]
     },
     "execution_count": 192,
     "metadata": {},
     "output_type": "execute_result"
    }
   ],
   "source": [
    "popular.shape"
   ]
  },
  {
   "cell_type": "code",
   "execution_count": 193,
   "id": "ce6302fe",
   "metadata": {},
   "outputs": [
    {
     "data": {
      "text/plain": [
       "array(['weekday_is_monday', 'weekday_is_tuesday', 'weekday_is_wednesday',\n",
       "       'weekday_is_thursday', 'weekday_is_friday', 'weekday_is_saturday',\n",
       "       'weekday_is_sunday'], dtype=object)"
      ]
     },
     "execution_count": 193,
     "metadata": {},
     "output_type": "execute_result"
    }
   ],
   "source": [
    "day_of_week = df.columns.values[31:38]\n",
    "day_of_week"
   ]
  },
  {
   "cell_type": "code",
   "execution_count": 194,
   "id": "3edeace4",
   "metadata": {},
   "outputs": [
    {
     "data": {
      "image/png": "[encoded data removed]",
      "text/plain": [
       "<Figure size 720x360 with 1 Axes>"
      ]
     },
     "metadata": {
      "needs_background": "light"
     },
     "output_type": "display_data"
    }
   ],
   "source": [
    "Unpop_day = unpopular[day_of_week].sum().values\n",
    "Pop_day = popular[day_of_week].sum().values\n",
    "\n",
    "fig = plt.figure(figsize = (10,5))\n",
    "plt.title(\"Number of popular and unpopular news over the week \", fontsize = 16)\n",
    "plt.bar(np.arange(len(day_of_week)), Pop_day, width = 0.3, align=\"center\", color = 'g', \\\n",
    "          label = \"popular\")\n",
    "plt.bar(np.arange(len(day_of_week)) - 0.3, Unpop_day, width = 0.3, align = \"center\", color = 'r', \\\n",
    "          label = \"unpopular\")\n",
    "plt.xticks(np.arange(len(day_of_week)), day_of_week, rotation=90)\n",
    "plt.ylabel(\"Count\", fontsize = 12)\n",
    "plt.xlabel(\"Days of the week\", fontsize = 12)\n",
    "    \n",
    "plt.legend(loc = 'upper right')\n",
    "plt.tight_layout()\n",
    "plt.show()"
   ]
  },
  {
   "cell_type": "markdown",
   "id": "31e895f9",
   "metadata": {},
   "source": [
    "The number of popular as well as unpopular news is the high on the week days"
   ]
  },
  {
   "cell_type": "code",
   "execution_count": 195,
   "id": "d8ee1bb0",
   "metadata": {},
   "outputs": [
    {
     "data": {
      "text/plain": [
       "array(['data_channel_is_entertainment', 'data_channel_is_bus',\n",
       "       'data_channel_is_socmed', 'data_channel_is_tech',\n",
       "       'data_channel_is_world'], dtype=object)"
      ]
     },
     "execution_count": 195,
     "metadata": {},
     "output_type": "execute_result"
    }
   ],
   "source": [
    "DataChannels = df.columns.values[14:19]\n",
    "DataChannels"
   ]
  },
  {
   "cell_type": "code",
   "execution_count": 196,
   "id": "13471625",
   "metadata": {},
   "outputs": [
    {
     "data": {
      "image/png": "[encoded data removed]",
      "text/plain": [
       "<Figure size 720x576 with 1 Axes>"
      ]
     },
     "metadata": {
      "needs_background": "light"
     },
     "output_type": "display_data"
    }
   ],
   "source": [
    "Unpop=df[df['shares']<median_share]\n",
    "Pop=df[df['shares']>=median_share]\n",
    "Unpop_day = Unpop[DataChannels].sum().values\n",
    "Pop_day = Pop[DataChannels].sum().values\n",
    "fig = plt.figure(figsize = (10,8))\n",
    "plt.title(\"Count of popular/unpopular news over different data channel\", fontsize = 16)\n",
    "plt.bar(np.arange(len(DataChannels)), Pop_day, width = 0.3, align=\"center\", color = 'r', \\\n",
    "          label = \"popular\")\n",
    "plt.bar(np.arange(len(DataChannels)) - 0.3, Unpop_day, width = 0.3, align = \"center\", color = 'b', \\\n",
    "          label = \"unpopular\")\n",
    "plt.xticks(np.arange(len(DataChannels)), DataChannels,rotation=90)\n",
    "plt.ylabel(\"Count\", fontsize = 12)\n",
    "plt.xlabel(\"Data Channels\", fontsize = 12)\n",
    "    \n",
    "plt.legend(loc = 'upper right')\n",
    "plt.tight_layout()\n",
    "plt.show()"
   ]
  },
  {
   "cell_type": "markdown",
   "id": "5fb955e0",
   "metadata": {},
   "source": [
    "Most of the news is shared through enetertainment and business channels"
   ]
  },
  {
   "cell_type": "code",
   "execution_count": 197,
   "id": "aede3a33",
   "metadata": {},
   "outputs": [
    {
     "data": {
      "text/plain": [
       "array(['kw_min_min', 'kw_max_min', 'kw_avg_min', 'kw_min_max',\n",
       "       'kw_max_max', 'kw_avg_max', 'kw_min_avg', 'kw_max_avg',\n",
       "       'kw_avg_avg'], dtype=object)"
      ]
     },
     "execution_count": 197,
     "metadata": {},
     "output_type": "execute_result"
    }
   ],
   "source": [
    "keyWords=df.columns.values[19:28]\n",
    "keyWords"
   ]
  },
  {
   "cell_type": "code",
   "execution_count": 198,
   "id": "5a3b6992",
   "metadata": {},
   "outputs": [
    {
     "data": {
      "image/png": "[encoded data removed]",
      "text/plain": [
       "<Figure size 720x360 with 1 Axes>"
      ]
     },
     "metadata": {
      "needs_background": "light"
     },
     "output_type": "display_data"
    }
   ],
   "source": [
    "Unpop=df[df['shares']<median_share]\n",
    "Pop=df[df['shares']>=median_share]\n",
    "Unpop_day = Unpop[keyWords].sum().values\n",
    "Pop_day = Pop[keyWords].sum().values\n",
    "fig = plt.figure(figsize = (10,5))\n",
    "plt.title(\"Count of popular/unpopular news over different keywords\", fontsize = 16)\n",
    "plt.bar(np.arange(len(keyWords)), Pop_day, width = 0.3, align=\"center\", color = 'r', \\\n",
    "          label = \"popular\")\n",
    "plt.bar(np.arange(len(keyWords)) - 0.3, Unpop_day, width = 0.3, align = \"center\", color = 'b', \\\n",
    "          label = \"unpopular\")\n",
    "plt.xticks(np.arange(len(keyWords)), keyWords,rotation=90)\n",
    "plt.ylabel(\"Count\", fontsize = 12)\n",
    "plt.xlabel(\"Key Words\", fontsize = 12)\n",
    "    \n",
    "plt.legend(loc = 'upper right')\n",
    "plt.tight_layout()\n",
    "plt.show()"
   ]
  },
  {
   "cell_type": "markdown",
   "id": "596ef4ca",
   "metadata": {},
   "source": [
    "Most articles use the best and average keywords and those articles are also the most popular\n",
    "\n",
    "\n"
   ]
  },
  {
   "cell_type": "code",
   "execution_count": 199,
   "id": "cb1ab470",
   "metadata": {},
   "outputs": [
    {
     "data": {
      "text/plain": [
       "array(['global_rate_positive_words', 'global_rate_negative_words',\n",
       "       'rate_positive_words', 'rate_negative_words'], dtype=object)"
      ]
     },
     "execution_count": 199,
     "metadata": {},
     "output_type": "execute_result"
    }
   ],
   "source": [
    "rates=df.columns.values[46:50]\n",
    "rates"
   ]
  },
  {
   "cell_type": "code",
   "execution_count": 200,
   "id": "b4253a51",
   "metadata": {},
   "outputs": [
    {
     "data": {
      "image/png": "[encoded data removed]",
      "text/plain": [
       "<Figure size 720x360 with 1 Axes>"
      ]
     },
     "metadata": {
      "needs_background": "light"
     },
     "output_type": "display_data"
    }
   ],
   "source": [
    "Unpop=df[df['shares']<median_share]\n",
    "Pop=df[df['shares']>=median_share]\n",
    "Unpop_day = Unpop[rates].sum().values\n",
    "Pop_day = Pop[rates].sum().values\n",
    "fig = plt.figure(figsize = (10,5))\n",
    "plt.title(\"Count of popular/unpopular news depending on rate of poitive and negative words\", fontsize = 16)\n",
    "plt.bar(np.arange(len(rates)), Pop_day, width = 0.3, align=\"center\", color = 'r', \\\n",
    "          label = \"popular\")\n",
    "plt.bar(np.arange(len(rates)) - 0.3, Unpop_day, width = 0.3, align = \"center\", color = 'b', \\\n",
    "          label = \"unpopular\")\n",
    "plt.xticks(np.arange(len(rates)), rates,rotation=90)\n",
    "plt.ylabel(\"Count\", fontsize = 12)\n",
    "plt.xlabel(\"Rate of negative and positive words\", fontsize = 12)\n",
    "    \n",
    "plt.legend(loc = 'upper right')\n",
    "plt.tight_layout()\n",
    "plt.show()"
   ]
  },
  {
   "cell_type": "code",
   "execution_count": 201,
   "id": "2ccb3741",
   "metadata": {},
   "outputs": [
    {
     "data": {
      "text/html": [
       "<div>\n",
       "<style scoped>\n",
       "    .dataframe tbody tr th:only-of-type {\n",
       "        vertical-align: middle;\n",
       "    }\n",
       "\n",
       "    .dataframe tbody tr th {\n",
       "        vertical-align: top;\n",
       "    }\n",
       "\n",
       "    .dataframe thead th {\n",
       "        text-align: right;\n",
       "    }\n",
       "</style>\n",
       "<table border=\"1\" class=\"dataframe\">\n",
       "  <thead>\n",
       "    <tr style=\"text-align: right;\">\n",
       "      <th></th>\n",
       "      <th>id</th>\n",
       "      <th>n_tokens_title</th>\n",
       "      <th>n_tokens_content</th>\n",
       "      <th>n_unique_tokens</th>\n",
       "      <th>n_non_stop_words</th>\n",
       "      <th>n_non_stop_unique_tokens</th>\n",
       "      <th>num_hrefs</th>\n",
       "      <th>num_self_hrefs</th>\n",
       "      <th>num_imgs</th>\n",
       "      <th>num_videos</th>\n",
       "      <th>...</th>\n",
       "      <th>max_positive_polarity</th>\n",
       "      <th>avg_negative_polarity</th>\n",
       "      <th>min_negative_polarity</th>\n",
       "      <th>max_negative_polarity</th>\n",
       "      <th>title_subjectivity</th>\n",
       "      <th>title_sentiment_polarity</th>\n",
       "      <th>abs_title_subjectivity</th>\n",
       "      <th>abs_title_sentiment_polarity</th>\n",
       "      <th>shares</th>\n",
       "      <th>popularity</th>\n",
       "    </tr>\n",
       "  </thead>\n",
       "  <tbody>\n",
       "    <tr>\n",
       "      <th>0</th>\n",
       "      <td>0</td>\n",
       "      <td>8.0</td>\n",
       "      <td>211.0</td>\n",
       "      <td>0.629808</td>\n",
       "      <td>1.0</td>\n",
       "      <td>0.800000</td>\n",
       "      <td>6.0</td>\n",
       "      <td>3.0</td>\n",
       "      <td>0.0</td>\n",
       "      <td>0.0</td>\n",
       "      <td>...</td>\n",
       "      <td>0.6</td>\n",
       "      <td>-0.100000</td>\n",
       "      <td>0.0000</td>\n",
       "      <td>-0.100000</td>\n",
       "      <td>1.000000</td>\n",
       "      <td>0.600000</td>\n",
       "      <td>0.500000</td>\n",
       "      <td>0.600000</td>\n",
       "      <td>36700</td>\n",
       "      <td>1</td>\n",
       "    </tr>\n",
       "    <tr>\n",
       "      <th>1</th>\n",
       "      <td>1</td>\n",
       "      <td>12.0</td>\n",
       "      <td>416.0</td>\n",
       "      <td>0.603535</td>\n",
       "      <td>1.0</td>\n",
       "      <td>0.663580</td>\n",
       "      <td>22.0</td>\n",
       "      <td>7.0</td>\n",
       "      <td>1.0</td>\n",
       "      <td>16.0</td>\n",
       "      <td>...</td>\n",
       "      <td>1.0</td>\n",
       "      <td>-0.228621</td>\n",
       "      <td>-0.5000</td>\n",
       "      <td>-0.071429</td>\n",
       "      <td>0.000000</td>\n",
       "      <td>0.000000</td>\n",
       "      <td>0.500000</td>\n",
       "      <td>0.000000</td>\n",
       "      <td>24200</td>\n",
       "      <td>1</td>\n",
       "    </tr>\n",
       "    <tr>\n",
       "      <th>2</th>\n",
       "      <td>2</td>\n",
       "      <td>7.0</td>\n",
       "      <td>229.0</td>\n",
       "      <td>0.638393</td>\n",
       "      <td>1.0</td>\n",
       "      <td>0.746479</td>\n",
       "      <td>9.0</td>\n",
       "      <td>4.0</td>\n",
       "      <td>1.0</td>\n",
       "      <td>1.0</td>\n",
       "      <td>...</td>\n",
       "      <td>1.0</td>\n",
       "      <td>-0.260833</td>\n",
       "      <td>-0.5000</td>\n",
       "      <td>-0.166667</td>\n",
       "      <td>0.000000</td>\n",
       "      <td>0.000000</td>\n",
       "      <td>0.500000</td>\n",
       "      <td>0.000000</td>\n",
       "      <td>945</td>\n",
       "      <td>0</td>\n",
       "    </tr>\n",
       "    <tr>\n",
       "      <th>3</th>\n",
       "      <td>3</td>\n",
       "      <td>9.0</td>\n",
       "      <td>473.0</td>\n",
       "      <td>0.542373</td>\n",
       "      <td>1.0</td>\n",
       "      <td>0.752809</td>\n",
       "      <td>7.0</td>\n",
       "      <td>0.0</td>\n",
       "      <td>1.0</td>\n",
       "      <td>1.0</td>\n",
       "      <td>...</td>\n",
       "      <td>0.7</td>\n",
       "      <td>-0.167500</td>\n",
       "      <td>-0.2500</td>\n",
       "      <td>-0.100000</td>\n",
       "      <td>0.000000</td>\n",
       "      <td>0.000000</td>\n",
       "      <td>0.500000</td>\n",
       "      <td>0.000000</td>\n",
       "      <td>844</td>\n",
       "      <td>0</td>\n",
       "    </tr>\n",
       "    <tr>\n",
       "      <th>4</th>\n",
       "      <td>4</td>\n",
       "      <td>13.0</td>\n",
       "      <td>1097.0</td>\n",
       "      <td>0.505213</td>\n",
       "      <td>1.0</td>\n",
       "      <td>0.676343</td>\n",
       "      <td>10.0</td>\n",
       "      <td>4.0</td>\n",
       "      <td>14.0</td>\n",
       "      <td>0.0</td>\n",
       "      <td>...</td>\n",
       "      <td>1.0</td>\n",
       "      <td>-0.193182</td>\n",
       "      <td>-0.3125</td>\n",
       "      <td>-0.100000</td>\n",
       "      <td>0.383333</td>\n",
       "      <td>0.166667</td>\n",
       "      <td>0.116667</td>\n",
       "      <td>0.166667</td>\n",
       "      <td>551</td>\n",
       "      <td>0</td>\n",
       "    </tr>\n",
       "  </tbody>\n",
       "</table>\n",
       "<p>5 rows × 61 columns</p>\n",
       "</div>"
      ],
      "text/plain": [
       "   id  n_tokens_title  n_tokens_content  n_unique_tokens  n_non_stop_words  \\\n",
       "0   0             8.0             211.0         0.629808               1.0   \n",
       "1   1            12.0             416.0         0.603535               1.0   \n",
       "2   2             7.0             229.0         0.638393               1.0   \n",
       "3   3             9.0             473.0         0.542373               1.0   \n",
       "4   4            13.0            1097.0         0.505213               1.0   \n",
       "\n",
       "   n_non_stop_unique_tokens  num_hrefs  num_self_hrefs  num_imgs  num_videos  \\\n",
       "0                  0.800000        6.0             3.0       0.0         0.0   \n",
       "1                  0.663580       22.0             7.0       1.0        16.0   \n",
       "2                  0.746479        9.0             4.0       1.0         1.0   \n",
       "3                  0.752809        7.0             0.0       1.0         1.0   \n",
       "4                  0.676343       10.0             4.0      14.0         0.0   \n",
       "\n",
       "   ...  max_positive_polarity  avg_negative_polarity  min_negative_polarity  \\\n",
       "0  ...                    0.6              -0.100000                 0.0000   \n",
       "1  ...                    1.0              -0.228621                -0.5000   \n",
       "2  ...                    1.0              -0.260833                -0.5000   \n",
       "3  ...                    0.7              -0.167500                -0.2500   \n",
       "4  ...                    1.0              -0.193182                -0.3125   \n",
       "\n",
       "   max_negative_polarity  title_subjectivity  title_sentiment_polarity  \\\n",
       "0              -0.100000            1.000000                  0.600000   \n",
       "1              -0.071429            0.000000                  0.000000   \n",
       "2              -0.166667            0.000000                  0.000000   \n",
       "3              -0.100000            0.000000                  0.000000   \n",
       "4              -0.100000            0.383333                  0.166667   \n",
       "\n",
       "   abs_title_subjectivity  abs_title_sentiment_polarity  shares  popularity  \n",
       "0                0.500000                      0.600000   36700           1  \n",
       "1                0.500000                      0.000000   24200           1  \n",
       "2                0.500000                      0.000000     945           0  \n",
       "3                0.500000                      0.000000     844           0  \n",
       "4                0.116667                      0.166667     551           0  \n",
       "\n",
       "[5 rows x 61 columns]"
      ]
     },
     "execution_count": 201,
     "metadata": {},
     "output_type": "execute_result"
    }
   ],
   "source": [
    "# all numeric (float and int) variables in the dataset\n",
    "df_numeric = df.select_dtypes(include=['float64', 'int64'])\n",
    "df_numeric.head()"
   ]
  },
  {
   "cell_type": "code",
   "execution_count": 202,
   "id": "4b66de0c",
   "metadata": {},
   "outputs": [
    {
     "data": {
      "text/plain": [
       "<Figure size 1440x1800 with 0 Axes>"
      ]
     },
     "metadata": {},
     "output_type": "display_data"
    },
    {
     "data": {
      "image/png": "[encoded data removed]",
      "text/plain": [
       "<Figure size 900x900 with 30 Axes>"
      ]
     },
     "metadata": {
      "needs_background": "light"
     },
     "output_type": "display_data"
    }
   ],
   "source": [
    "plt.figure(figsize=(20,25))\n",
    "sns.pairplot(data=df, vars=reference_features)\n",
    "plt.show()"
   ]
  },
  {
   "cell_type": "code",
   "execution_count": 203,
   "id": "1080f99a",
   "metadata": {},
   "outputs": [
    {
     "data": {
      "image/png": "[encoded data removed]",
      "text/plain": [
       "<Figure size 432x288 with 1 Axes>"
      ]
     },
     "metadata": {},
     "output_type": "display_data"
    }
   ],
   "source": [
    "#Check the % of articles that ae popular\n",
    "plt.pie(df['popularity'].value_counts(),labels = ['0','1'], autopct='%.0f%%')\n",
    "plt.show()"
   ]
  },
  {
   "cell_type": "markdown",
   "id": "581addf1",
   "metadata": {},
   "source": [
    "53% of the articles are unpopular and 47% are popular"
   ]
  },
  {
   "cell_type": "markdown",
   "id": "86ec7685",
   "metadata": {},
   "source": [
    "### CORRELATION MATRIX"
   ]
  },
  {
   "cell_type": "code",
   "execution_count": 204,
   "id": "ec1b7218",
   "metadata": {},
   "outputs": [
    {
     "data": {
      "text/html": [
       "<div>\n",
       "<style scoped>\n",
       "    .dataframe tbody tr th:only-of-type {\n",
       "        vertical-align: middle;\n",
       "    }\n",
       "\n",
       "    .dataframe tbody tr th {\n",
       "        vertical-align: top;\n",
       "    }\n",
       "\n",
       "    .dataframe thead th {\n",
       "        text-align: right;\n",
       "    }\n",
       "</style>\n",
       "<table border=\"1\" class=\"dataframe\">\n",
       "  <thead>\n",
       "    <tr style=\"text-align: right;\">\n",
       "      <th></th>\n",
       "      <th>id</th>\n",
       "      <th>n_tokens_title</th>\n",
       "      <th>n_tokens_content</th>\n",
       "      <th>n_unique_tokens</th>\n",
       "      <th>n_non_stop_words</th>\n",
       "      <th>n_non_stop_unique_tokens</th>\n",
       "      <th>num_hrefs</th>\n",
       "      <th>num_self_hrefs</th>\n",
       "      <th>num_imgs</th>\n",
       "      <th>num_videos</th>\n",
       "      <th>...</th>\n",
       "      <th>max_positive_polarity</th>\n",
       "      <th>avg_negative_polarity</th>\n",
       "      <th>min_negative_polarity</th>\n",
       "      <th>max_negative_polarity</th>\n",
       "      <th>title_subjectivity</th>\n",
       "      <th>title_sentiment_polarity</th>\n",
       "      <th>abs_title_subjectivity</th>\n",
       "      <th>abs_title_sentiment_polarity</th>\n",
       "      <th>shares</th>\n",
       "      <th>popularity</th>\n",
       "    </tr>\n",
       "  </thead>\n",
       "  <tbody>\n",
       "    <tr>\n",
       "      <th>id</th>\n",
       "      <td>1.000000</td>\n",
       "      <td>0.003322</td>\n",
       "      <td>-0.004220</td>\n",
       "      <td>-0.004725</td>\n",
       "      <td>-0.004940</td>\n",
       "      <td>-0.004727</td>\n",
       "      <td>-0.005221</td>\n",
       "      <td>0.000737</td>\n",
       "      <td>-0.019720</td>\n",
       "      <td>0.007159</td>\n",
       "      <td>...</td>\n",
       "      <td>-0.004503</td>\n",
       "      <td>-0.000390</td>\n",
       "      <td>-0.002547</td>\n",
       "      <td>-0.000167</td>\n",
       "      <td>-0.007220</td>\n",
       "      <td>-0.020693</td>\n",
       "      <td>-0.000729</td>\n",
       "      <td>-0.002503</td>\n",
       "      <td>-0.002531</td>\n",
       "      <td>-0.000990</td>\n",
       "    </tr>\n",
       "    <tr>\n",
       "      <th>n_tokens_title</th>\n",
       "      <td>0.003322</td>\n",
       "      <td>1.000000</td>\n",
       "      <td>0.016609</td>\n",
       "      <td>-0.005735</td>\n",
       "      <td>-0.005177</td>\n",
       "      <td>-0.005801</td>\n",
       "      <td>-0.053159</td>\n",
       "      <td>-0.016558</td>\n",
       "      <td>-0.013424</td>\n",
       "      <td>0.052944</td>\n",
       "      <td>...</td>\n",
       "      <td>-0.019711</td>\n",
       "      <td>-0.015158</td>\n",
       "      <td>-0.026993</td>\n",
       "      <td>0.014186</td>\n",
       "      <td>0.078717</td>\n",
       "      <td>0.004385</td>\n",
       "      <td>-0.145128</td>\n",
       "      <td>0.043051</td>\n",
       "      <td>0.011883</td>\n",
       "      <td>-0.046668</td>\n",
       "    </tr>\n",
       "    <tr>\n",
       "      <th>n_tokens_content</th>\n",
       "      <td>-0.004220</td>\n",
       "      <td>0.016609</td>\n",
       "      <td>1.000000</td>\n",
       "      <td>-0.000818</td>\n",
       "      <td>0.018492</td>\n",
       "      <td>0.003676</td>\n",
       "      <td>0.416523</td>\n",
       "      <td>0.266765</td>\n",
       "      <td>0.312096</td>\n",
       "      <td>0.102358</td>\n",
       "      <td>...</td>\n",
       "      <td>0.408467</td>\n",
       "      <td>-0.131288</td>\n",
       "      <td>-0.432945</td>\n",
       "      <td>0.215736</td>\n",
       "      <td>0.002679</td>\n",
       "      <td>0.019025</td>\n",
       "      <td>0.008128</td>\n",
       "      <td>0.009012</td>\n",
       "      <td>0.005995</td>\n",
       "      <td>0.041279</td>\n",
       "    </tr>\n",
       "    <tr>\n",
       "      <th>n_unique_tokens</th>\n",
       "      <td>-0.004725</td>\n",
       "      <td>-0.005735</td>\n",
       "      <td>-0.000818</td>\n",
       "      <td>1.000000</td>\n",
       "      <td>0.999680</td>\n",
       "      <td>0.999888</td>\n",
       "      <td>-0.003456</td>\n",
       "      <td>0.009752</td>\n",
       "      <td>0.028063</td>\n",
       "      <td>-0.000930</td>\n",
       "      <td>...</td>\n",
       "      <td>-0.011547</td>\n",
       "      <td>0.003947</td>\n",
       "      <td>0.010434</td>\n",
       "      <td>-0.004556</td>\n",
       "      <td>-0.005302</td>\n",
       "      <td>-0.002422</td>\n",
       "      <td>-0.009926</td>\n",
       "      <td>-0.004321</td>\n",
       "      <td>0.000890</td>\n",
       "      <td>0.003814</td>\n",
       "    </tr>\n",
       "    <tr>\n",
       "      <th>n_non_stop_words</th>\n",
       "      <td>-0.004940</td>\n",
       "      <td>-0.005177</td>\n",
       "      <td>0.018492</td>\n",
       "      <td>0.999680</td>\n",
       "      <td>1.000000</td>\n",
       "      <td>0.999653</td>\n",
       "      <td>0.004957</td>\n",
       "      <td>0.014988</td>\n",
       "      <td>0.035576</td>\n",
       "      <td>-0.001176</td>\n",
       "      <td>...</td>\n",
       "      <td>-0.002079</td>\n",
       "      <td>0.001397</td>\n",
       "      <td>0.001190</td>\n",
       "      <td>0.000767</td>\n",
       "      <td>-0.005966</td>\n",
       "      <td>-0.001882</td>\n",
       "      <td>-0.009376</td>\n",
       "      <td>-0.004578</td>\n",
       "      <td>0.000646</td>\n",
       "      <td>0.004942</td>\n",
       "    </tr>\n",
       "    <tr>\n",
       "      <th>...</th>\n",
       "      <td>...</td>\n",
       "      <td>...</td>\n",
       "      <td>...</td>\n",
       "      <td>...</td>\n",
       "      <td>...</td>\n",
       "      <td>...</td>\n",
       "      <td>...</td>\n",
       "      <td>...</td>\n",
       "      <td>...</td>\n",
       "      <td>...</td>\n",
       "      <td>...</td>\n",
       "      <td>...</td>\n",
       "      <td>...</td>\n",
       "      <td>...</td>\n",
       "      <td>...</td>\n",
       "      <td>...</td>\n",
       "      <td>...</td>\n",
       "      <td>...</td>\n",
       "      <td>...</td>\n",
       "      <td>...</td>\n",
       "      <td>...</td>\n",
       "    </tr>\n",
       "    <tr>\n",
       "      <th>title_sentiment_polarity</th>\n",
       "      <td>-0.020693</td>\n",
       "      <td>0.004385</td>\n",
       "      <td>0.019025</td>\n",
       "      <td>-0.002422</td>\n",
       "      <td>-0.001882</td>\n",
       "      <td>-0.002980</td>\n",
       "      <td>0.035984</td>\n",
       "      <td>0.021141</td>\n",
       "      <td>0.043200</td>\n",
       "      <td>0.018248</td>\n",
       "      <td>...</td>\n",
       "      <td>0.067913</td>\n",
       "      <td>0.090728</td>\n",
       "      <td>0.081678</td>\n",
       "      <td>0.001372</td>\n",
       "      <td>0.230843</td>\n",
       "      <td>1.000000</td>\n",
       "      <td>-0.228945</td>\n",
       "      <td>0.386460</td>\n",
       "      <td>0.012835</td>\n",
       "      <td>0.061892</td>\n",
       "    </tr>\n",
       "    <tr>\n",
       "      <th>abs_title_subjectivity</th>\n",
       "      <td>-0.000729</td>\n",
       "      <td>-0.145128</td>\n",
       "      <td>0.008128</td>\n",
       "      <td>-0.009926</td>\n",
       "      <td>-0.009376</td>\n",
       "      <td>-0.009404</td>\n",
       "      <td>0.010089</td>\n",
       "      <td>0.005672</td>\n",
       "      <td>-0.009757</td>\n",
       "      <td>-0.018365</td>\n",
       "      <td>...</td>\n",
       "      <td>-0.011301</td>\n",
       "      <td>-0.011725</td>\n",
       "      <td>-0.012493</td>\n",
       "      <td>-0.010244</td>\n",
       "      <td>-0.458763</td>\n",
       "      <td>-0.228945</td>\n",
       "      <td>1.000000</td>\n",
       "      <td>-0.364689</td>\n",
       "      <td>-0.001930</td>\n",
       "      <td>0.000810</td>\n",
       "    </tr>\n",
       "    <tr>\n",
       "      <th>abs_title_sentiment_polarity</th>\n",
       "      <td>-0.002503</td>\n",
       "      <td>0.043051</td>\n",
       "      <td>0.009012</td>\n",
       "      <td>-0.004321</td>\n",
       "      <td>-0.004578</td>\n",
       "      <td>-0.005270</td>\n",
       "      <td>0.052924</td>\n",
       "      <td>-0.004076</td>\n",
       "      <td>0.053876</td>\n",
       "      <td>0.050264</td>\n",
       "      <td>...</td>\n",
       "      <td>0.072041</td>\n",
       "      <td>-0.068126</td>\n",
       "      <td>-0.052095</td>\n",
       "      <td>-0.014055</td>\n",
       "      <td>0.691089</td>\n",
       "      <td>0.386460</td>\n",
       "      <td>-0.364689</td>\n",
       "      <td>1.000000</td>\n",
       "      <td>0.027917</td>\n",
       "      <td>0.038185</td>\n",
       "    </tr>\n",
       "    <tr>\n",
       "      <th>shares</th>\n",
       "      <td>-0.002531</td>\n",
       "      <td>0.011883</td>\n",
       "      <td>0.005995</td>\n",
       "      <td>0.000890</td>\n",
       "      <td>0.000646</td>\n",
       "      <td>0.000273</td>\n",
       "      <td>0.047949</td>\n",
       "      <td>-0.002513</td>\n",
       "      <td>0.037823</td>\n",
       "      <td>0.022564</td>\n",
       "      <td>...</td>\n",
       "      <td>0.011781</td>\n",
       "      <td>-0.028994</td>\n",
       "      <td>-0.017326</td>\n",
       "      <td>-0.019940</td>\n",
       "      <td>0.024579</td>\n",
       "      <td>0.012835</td>\n",
       "      <td>-0.001930</td>\n",
       "      <td>0.027917</td>\n",
       "      <td>1.000000</td>\n",
       "      <td>0.193378</td>\n",
       "    </tr>\n",
       "    <tr>\n",
       "      <th>popularity</th>\n",
       "      <td>-0.000990</td>\n",
       "      <td>-0.046668</td>\n",
       "      <td>0.041279</td>\n",
       "      <td>0.003814</td>\n",
       "      <td>0.004942</td>\n",
       "      <td>0.003164</td>\n",
       "      <td>0.087547</td>\n",
       "      <td>0.035582</td>\n",
       "      <td>0.063519</td>\n",
       "      <td>0.002458</td>\n",
       "      <td>...</td>\n",
       "      <td>0.038234</td>\n",
       "      <td>0.001784</td>\n",
       "      <td>0.004003</td>\n",
       "      <td>-0.001305</td>\n",
       "      <td>0.031523</td>\n",
       "      <td>0.061892</td>\n",
       "      <td>0.000810</td>\n",
       "      <td>0.038185</td>\n",
       "      <td>0.193378</td>\n",
       "      <td>1.000000</td>\n",
       "    </tr>\n",
       "  </tbody>\n",
       "</table>\n",
       "<p>61 rows × 61 columns</p>\n",
       "</div>"
      ],
      "text/plain": [
       "                                    id  n_tokens_title  n_tokens_content  \\\n",
       "id                            1.000000        0.003322         -0.004220   \n",
       "n_tokens_title                0.003322        1.000000          0.016609   \n",
       "n_tokens_content             -0.004220        0.016609          1.000000   \n",
       "n_unique_tokens              -0.004725       -0.005735         -0.000818   \n",
       "n_non_stop_words             -0.004940       -0.005177          0.018492   \n",
       "...                                ...             ...               ...   \n",
       "title_sentiment_polarity     -0.020693        0.004385          0.019025   \n",
       "abs_title_subjectivity       -0.000729       -0.145128          0.008128   \n",
       "abs_title_sentiment_polarity -0.002503        0.043051          0.009012   \n",
       "shares                       -0.002531        0.011883          0.005995   \n",
       "popularity                   -0.000990       -0.046668          0.041279   \n",
       "\n",
       "                              n_unique_tokens  n_non_stop_words  \\\n",
       "id                                  -0.004725         -0.004940   \n",
       "n_tokens_title                      -0.005735         -0.005177   \n",
       "n_tokens_content                    -0.000818          0.018492   \n",
       "n_unique_tokens                      1.000000          0.999680   \n",
       "n_non_stop_words                     0.999680          1.000000   \n",
       "...                                       ...               ...   \n",
       "title_sentiment_polarity            -0.002422         -0.001882   \n",
       "abs_title_subjectivity              -0.009926         -0.009376   \n",
       "abs_title_sentiment_polarity        -0.004321         -0.004578   \n",
       "shares                               0.000890          0.000646   \n",
       "popularity                           0.003814          0.004942   \n",
       "\n",
       "                              n_non_stop_unique_tokens  num_hrefs  \\\n",
       "id                                           -0.004727  -0.005221   \n",
       "n_tokens_title                               -0.005801  -0.053159   \n",
       "n_tokens_content                              0.003676   0.416523   \n",
       "n_unique_tokens                               0.999888  -0.003456   \n",
       "n_non_stop_words                              0.999653   0.004957   \n",
       "...                                                ...        ...   \n",
       "title_sentiment_polarity                     -0.002980   0.035984   \n",
       "abs_title_subjectivity                       -0.009404   0.010089   \n",
       "abs_title_sentiment_polarity                 -0.005270   0.052924   \n",
       "shares                                        0.000273   0.047949   \n",
       "popularity                                    0.003164   0.087547   \n",
       "\n",
       "                              num_self_hrefs  num_imgs  num_videos  ...  \\\n",
       "id                                  0.000737 -0.019720    0.007159  ...   \n",
       "n_tokens_title                     -0.016558 -0.013424    0.052944  ...   \n",
       "n_tokens_content                    0.266765  0.312096    0.102358  ...   \n",
       "n_unique_tokens                     0.009752  0.028063   -0.000930  ...   \n",
       "n_non_stop_words                    0.014988  0.035576   -0.001176  ...   \n",
       "...                                      ...       ...         ...  ...   \n",
       "title_sentiment_polarity            0.021141  0.043200    0.018248  ...   \n",
       "abs_title_subjectivity              0.005672 -0.009757   -0.018365  ...   \n",
       "abs_title_sentiment_polarity       -0.004076  0.053876    0.050264  ...   \n",
       "shares                             -0.002513  0.037823    0.022564  ...   \n",
       "popularity                          0.035582  0.063519    0.002458  ...   \n",
       "\n",
       "                              max_positive_polarity  avg_negative_polarity  \\\n",
       "id                                        -0.004503              -0.000390   \n",
       "n_tokens_title                            -0.019711              -0.015158   \n",
       "n_tokens_content                           0.408467              -0.131288   \n",
       "n_unique_tokens                           -0.011547               0.003947   \n",
       "n_non_stop_words                          -0.002079               0.001397   \n",
       "...                                             ...                    ...   \n",
       "title_sentiment_polarity                   0.067913               0.090728   \n",
       "abs_title_subjectivity                    -0.011301              -0.011725   \n",
       "abs_title_sentiment_polarity               0.072041              -0.068126   \n",
       "shares                                     0.011781              -0.028994   \n",
       "popularity                                 0.038234               0.001784   \n",
       "\n",
       "                              min_negative_polarity  max_negative_polarity  \\\n",
       "id                                        -0.002547              -0.000167   \n",
       "n_tokens_title                            -0.026993               0.014186   \n",
       "n_tokens_content                          -0.432945               0.215736   \n",
       "n_unique_tokens                            0.010434              -0.004556   \n",
       "n_non_stop_words                           0.001190               0.000767   \n",
       "...                                             ...                    ...   \n",
       "title_sentiment_polarity                   0.081678               0.001372   \n",
       "abs_title_subjectivity                    -0.012493              -0.010244   \n",
       "abs_title_sentiment_polarity              -0.052095              -0.014055   \n",
       "shares                                    -0.017326              -0.019940   \n",
       "popularity                                 0.004003              -0.001305   \n",
       "\n",
       "                              title_subjectivity  title_sentiment_polarity  \\\n",
       "id                                     -0.007220                 -0.020693   \n",
       "n_tokens_title                          0.078717                  0.004385   \n",
       "n_tokens_content                        0.002679                  0.019025   \n",
       "n_unique_tokens                        -0.005302                 -0.002422   \n",
       "n_non_stop_words                       -0.005966                 -0.001882   \n",
       "...                                          ...                       ...   \n",
       "title_sentiment_polarity                0.230843                  1.000000   \n",
       "abs_title_subjectivity                 -0.458763                 -0.228945   \n",
       "abs_title_sentiment_polarity            0.691089                  0.386460   \n",
       "shares                                  0.024579                  0.012835   \n",
       "popularity                              0.031523                  0.061892   \n",
       "\n",
       "                              abs_title_subjectivity  \\\n",
       "id                                         -0.000729   \n",
       "n_tokens_title                             -0.145128   \n",
       "n_tokens_content                            0.008128   \n",
       "n_unique_tokens                            -0.009926   \n",
       "n_non_stop_words                           -0.009376   \n",
       "...                                              ...   \n",
       "title_sentiment_polarity                   -0.228945   \n",
       "abs_title_subjectivity                      1.000000   \n",
       "abs_title_sentiment_polarity               -0.364689   \n",
       "shares                                     -0.001930   \n",
       "popularity                                  0.000810   \n",
       "\n",
       "                              abs_title_sentiment_polarity    shares  \\\n",
       "id                                               -0.002503 -0.002531   \n",
       "n_tokens_title                                    0.043051  0.011883   \n",
       "n_tokens_content                                  0.009012  0.005995   \n",
       "n_unique_tokens                                  -0.004321  0.000890   \n",
       "n_non_stop_words                                 -0.004578  0.000646   \n",
       "...                                                    ...       ...   \n",
       "title_sentiment_polarity                          0.386460  0.012835   \n",
       "abs_title_subjectivity                           -0.364689 -0.001930   \n",
       "abs_title_sentiment_polarity                      1.000000  0.027917   \n",
       "shares                                            0.027917  1.000000   \n",
       "popularity                                        0.038185  0.193378   \n",
       "\n",
       "                              popularity  \n",
       "id                             -0.000990  \n",
       "n_tokens_title                 -0.046668  \n",
       "n_tokens_content                0.041279  \n",
       "n_unique_tokens                 0.003814  \n",
       "n_non_stop_words                0.004942  \n",
       "...                                  ...  \n",
       "title_sentiment_polarity        0.061892  \n",
       "abs_title_subjectivity          0.000810  \n",
       "abs_title_sentiment_polarity    0.038185  \n",
       "shares                          0.193378  \n",
       "popularity                      1.000000  \n",
       "\n",
       "[61 rows x 61 columns]"
      ]
     },
     "execution_count": 204,
     "metadata": {},
     "output_type": "execute_result"
    }
   ],
   "source": [
    "# correlation matrix\n",
    "corr = df_numeric.corr()\n",
    "corr"
   ]
  },
  {
   "cell_type": "code",
   "execution_count": 205,
   "id": "302cfc11",
   "metadata": {},
   "outputs": [],
   "source": [
    "# # Select upper triangle of correlation matrix\n",
    "upper = corr.where(np.triu(np.ones(corr.shape), k=1).astype(np.bool))\n",
    "\n",
    "# # Find features with correlation greater than 0.8\n",
    "to_drop = [column for column in upper.columns if any(upper[column] > 0.8)]\n",
    "\n",
    "# # Drop features \n",
    "df.drop(to_drop, axis=1, inplace=True)\n"
   ]
  },
  {
   "cell_type": "code",
   "execution_count": 206,
   "id": "b96c52c7",
   "metadata": {},
   "outputs": [
    {
     "data": {
      "text/plain": [
       "(29733, 57)"
      ]
     },
     "execution_count": 206,
     "metadata": {},
     "output_type": "execute_result"
    }
   ],
   "source": [
    "df.shape"
   ]
  },
  {
   "cell_type": "code",
   "execution_count": 207,
   "id": "a568f8f7",
   "metadata": {},
   "outputs": [
    {
     "data": {
      "text/plain": [
       "<AxesSubplot:ylabel='Density'>"
      ]
     },
     "execution_count": 207,
     "metadata": {},
     "output_type": "execute_result"
    },
    {
     "data": {
      "image/png": "[encoded data removed]",
      "text/plain": [
       "<Figure size 432x288 with 1 Axes>"
      ]
     },
     "metadata": {
      "needs_background": "light"
     },
     "output_type": "display_data"
    }
   ],
   "source": [
    "sns.distplot(X_train,bins=20)"
   ]
  },
  {
   "cell_type": "code",
   "execution_count": 208,
   "id": "0bad29cc",
   "metadata": {},
   "outputs": [
    {
     "data": {
      "text/plain": [
       "<AxesSubplot:ylabel='Density'>"
      ]
     },
     "execution_count": 208,
     "metadata": {},
     "output_type": "execute_result"
    },
    {
     "data": {
      "image/png": "[encoded data removed]",
      "text/plain": [
       "<Figure size 432x288 with 1 Axes>"
      ]
     },
     "metadata": {
      "needs_background": "light"
     },
     "output_type": "display_data"
    }
   ],
   "source": [
    "sns.distplot(y_train,bins=20)"
   ]
  },
  {
   "cell_type": "code",
   "execution_count": 209,
   "id": "b9af471d",
   "metadata": {},
   "outputs": [
    {
     "data": {
      "text/plain": [
       "<AxesSubplot:ylabel='Density'>"
      ]
     },
     "execution_count": 209,
     "metadata": {},
     "output_type": "execute_result"
    },
    {
     "data": {
      "image/png": "[encoded data removed]",
      "text/plain": [
       "<Figure size 432x288 with 1 Axes>"
      ]
     },
     "metadata": {
      "needs_background": "light"
     },
     "output_type": "display_data"
    }
   ],
   "source": [
    "sns.distplot(np.log(y_train),bins=20)"
   ]
  },
  {
   "cell_type": "markdown",
   "id": "3aab968b",
   "metadata": {},
   "source": [
    "The data was skewed but we can apply log transformaation to fix that"
   ]
  },
  {
   "cell_type": "markdown",
   "id": "81cecc2e",
   "metadata": {
    "papermill": {
     "duration": null,
     "end_time": null,
     "exception": null,
     "start_time": null,
     "status": "pending"
    },
    "tags": []
   },
   "source": [
    "### 4.1 Feature scaling\n",
    "\n",
    "Clearly there is a need for scaling the features so that the distributions can be analysed further. We can use StandardScaler for this purpose (few other alternates are min-max scaling and Z-scaling)."
   ]
  },
  {
   "cell_type": "code",
   "execution_count": 210,
   "id": "cd5a6ebb",
   "metadata": {},
   "outputs": [],
   "source": [
    "X_train_cat = X_train.select_dtypes(include=['object'])"
   ]
  },
  {
   "cell_type": "code",
   "execution_count": 211,
   "id": "c4f5e47c",
   "metadata": {},
   "outputs": [],
   "source": [
    "# drop categorical variables \n",
    "X_train = X_train.drop(list(X_train_cat.columns), axis=1)"
   ]
  },
  {
   "cell_type": "code",
   "execution_count": 212,
   "id": "c4dae682",
   "metadata": {
    "execution": {
     "iopub.execute_input": "2021-08-07T13:34:13.111098Z",
     "iopub.status.busy": "2021-08-07T13:34:13.110374Z",
     "iopub.status.idle": "2021-08-07T13:34:13.127038Z",
     "shell.execute_reply": "2021-08-07T13:34:13.127806Z",
     "shell.execute_reply.started": "2021-08-07T12:09:24.556816Z"
    },
    "papermill": {
     "duration": null,
     "end_time": null,
     "exception": null,
     "start_time": null,
     "status": "pending"
    },
    "tags": []
   },
   "outputs": [],
   "source": [
    "scale = StandardScaler()\n",
    "X_train[:] = scale.fit_transform(X_train)"
   ]
  },
  {
   "cell_type": "code",
   "execution_count": 213,
   "id": "bbb098eb",
   "metadata": {},
   "outputs": [],
   "source": [
    "# X_train[:] = np.log(X_train)"
   ]
  },
  {
   "cell_type": "code",
   "execution_count": 214,
   "id": "88d9f28e",
   "metadata": {
    "execution": {
     "iopub.execute_input": "2021-08-07T13:34:13.281519Z",
     "iopub.status.busy": "2021-08-07T13:34:13.280883Z",
     "iopub.status.idle": "2021-08-07T13:34:14.165401Z",
     "shell.execute_reply": "2021-08-07T13:34:14.165997Z",
     "shell.execute_reply.started": "2021-08-07T12:09:24.578899Z"
    },
    "papermill": {
     "duration": null,
     "end_time": null,
     "exception": null,
     "start_time": null,
     "status": "pending"
    },
    "tags": []
   },
   "outputs": [
    {
     "data": {
      "text/plain": [
       "<AxesSubplot:>"
      ]
     },
     "execution_count": 214,
     "metadata": {},
     "output_type": "execute_result"
    },
    {
     "data": {
      "image/png": "[encoded data removed]",
      "text/plain": [
       "<Figure size 1080x576 with 1 Axes>"
      ]
     },
     "metadata": {
      "needs_background": "light"
     },
     "output_type": "display_data"
    }
   ],
   "source": [
    "plt.figure(figsize=(15,8))\n",
    "plt.xticks(rotation=45)\n",
    "sns.boxplot(data = X_train)"
   ]
  },
  {
   "cell_type": "code",
   "execution_count": null,
   "id": "de50f770",
   "metadata": {},
   "outputs": [],
   "source": []
  },
  {
   "cell_type": "markdown",
   "id": "60b3a73e",
   "metadata": {
    "papermill": {
     "duration": null,
     "end_time": null,
     "exception": null,
     "start_time": null,
     "status": "pending"
    },
    "tags": []
   },
   "source": [
    "### 4.2 Handling outliers\n",
    "\n",
    "The box plots of these features show there a lot of outliers. These can be capped with k-sigma method."
   ]
  },
  {
   "cell_type": "code",
   "execution_count": 215,
   "id": "a4646786",
   "metadata": {
    "execution": {
     "iopub.execute_input": "2021-08-07T13:34:14.474440Z",
     "iopub.status.busy": "2021-08-07T13:34:14.473749Z",
     "iopub.status.idle": "2021-08-07T13:34:14.476615Z",
     "shell.execute_reply": "2021-08-07T13:34:14.476138Z",
     "shell.execute_reply.started": "2021-08-07T12:09:25.441197Z"
    },
    "papermill": {
     "duration": null,
     "end_time": null,
     "exception": null,
     "start_time": null,
     "status": "pending"
    },
    "tags": []
   },
   "outputs": [],
   "source": [
    "def cap_outliers(array, k=3):\n",
    "    upper_limit = array.mean() + k*array.std()\n",
    "    lower_limit = array.mean() - k*array.std()\n",
    "    array[array<lower_limit] = lower_limit\n",
    "    array[array>upper_limit] = upper_limit\n",
    "    return array"
   ]
  },
  {
   "cell_type": "code",
   "execution_count": 216,
   "id": "0a42163e",
   "metadata": {
    "execution": {
     "iopub.execute_input": "2021-08-07T13:34:14.634462Z",
     "iopub.status.busy": "2021-08-07T13:34:14.633856Z",
     "iopub.status.idle": "2021-08-07T13:34:14.755607Z",
     "shell.execute_reply": "2021-08-07T13:34:14.755013Z",
     "shell.execute_reply.started": "2021-08-07T12:09:25.449664Z"
    },
    "papermill": {
     "duration": null,
     "end_time": null,
     "exception": null,
     "start_time": null,
     "status": "pending"
    },
    "tags": []
   },
   "outputs": [],
   "source": [
    "X_train = X_train.apply(cap_outliers, axis=0)"
   ]
  },
  {
   "cell_type": "code",
   "execution_count": 217,
   "id": "86b4d265",
   "metadata": {
    "execution": {
     "iopub.execute_input": "2021-08-07T13:34:14.945922Z",
     "iopub.status.busy": "2021-08-07T13:34:14.916292Z",
     "iopub.status.idle": "2021-08-07T13:34:15.909296Z",
     "shell.execute_reply": "2021-08-07T13:34:15.909774Z",
     "shell.execute_reply.started": "2021-08-07T12:09:25.573012Z"
    },
    "papermill": {
     "duration": null,
     "end_time": null,
     "exception": null,
     "start_time": null,
     "status": "pending"
    },
    "tags": []
   },
   "outputs": [
    {
     "data": {
      "text/plain": [
       "<AxesSubplot:>"
      ]
     },
     "execution_count": 217,
     "metadata": {},
     "output_type": "execute_result"
    },
    {
     "data": {
      "image/png": "[encoded data removed]",
      "text/plain": [
       "<Figure size 1080x576 with 1 Axes>"
      ]
     },
     "metadata": {
      "needs_background": "light"
     },
     "output_type": "display_data"
    }
   ],
   "source": [
    "plt.figure(figsize=(15,8))\n",
    "plt.xticks(rotation=45)\n",
    "sns.boxplot(data = X_train)"
   ]
  },
  {
   "cell_type": "markdown",
   "id": "bd1c5f3a",
   "metadata": {
    "papermill": {
     "duration": null,
     "end_time": null,
     "exception": null,
     "start_time": null,
     "status": "pending"
    },
    "tags": []
   },
   "source": [
    "You can perform feature transformations at this stage. \n",
    "\n",
    "1. **Positively skewed:** Common transformations of this data include square root, cube root, and log.\n",
    "2. **Negatively skewed:** Common transformations include square, cube root and logarithmic.\n"
   ]
  },
  {
   "cell_type": "code",
   "execution_count": 218,
   "id": "049454c8",
   "metadata": {
    "execution": {
     "iopub.execute_input": "2021-08-07T13:34:16.233079Z",
     "iopub.status.busy": "2021-08-07T13:34:16.232439Z",
     "iopub.status.idle": "2021-08-07T13:34:17.227519Z",
     "shell.execute_reply": "2021-08-07T13:34:17.228406Z",
     "shell.execute_reply.started": "2021-08-07T12:09:26.564595Z"
    },
    "papermill": {
     "duration": null,
     "end_time": null,
     "exception": null,
     "start_time": null,
     "status": "pending"
    },
    "tags": []
   },
   "outputs": [
    {
     "data": {
      "text/plain": [
       "<AxesSubplot:>"
      ]
     },
     "execution_count": 218,
     "metadata": {},
     "output_type": "execute_result"
    },
    {
     "data": {
      "image/png": "[encoded data removed]",
      "text/plain": [
       "<Figure size 720x576 with 2 Axes>"
      ]
     },
     "metadata": {
      "needs_background": "light"
     },
     "output_type": "display_data"
    }
   ],
   "source": [
    "plt.figure(figsize=(10,8))\n",
    "sns.heatmap(pd.DataFrame(X_train, columns=X_train.columns).corr())"
   ]
  },
  {
   "cell_type": "code",
   "execution_count": 219,
   "id": "0380b9c6",
   "metadata": {
    "execution": {
     "iopub.execute_input": "2021-08-07T13:34:17.399040Z",
     "iopub.status.busy": "2021-08-07T13:34:17.398336Z",
     "iopub.status.idle": "2021-08-07T13:34:31.074391Z",
     "shell.execute_reply": "2021-08-07T13:34:31.073697Z",
     "shell.execute_reply.started": "2021-08-07T12:09:27.577481Z"
    },
    "papermill": {
     "duration": null,
     "end_time": null,
     "exception": null,
     "start_time": null,
     "status": "pending"
    },
    "tags": []
   },
   "outputs": [
    {
     "data": {
      "text/plain": [
       "<AxesSubplot:ylabel='Count'>"
      ]
     },
     "execution_count": 219,
     "metadata": {},
     "output_type": "execute_result"
    },
    {
     "data": {
      "image/png": "[encoded data removed]",
      "text/plain": [
       "<Figure size 432x288 with 1 Axes>"
      ]
     },
     "metadata": {
      "needs_background": "light"
     },
     "output_type": "display_data"
    }
   ],
   "source": [
    "#Distribution for the target variable\n",
    "sns.histplot(y_train)"
   ]
  },
  {
   "cell_type": "code",
   "execution_count": 220,
   "id": "09784d83",
   "metadata": {
    "execution": {
     "iopub.execute_input": "2021-08-07T13:34:31.245571Z",
     "iopub.status.busy": "2021-08-07T13:34:31.244873Z",
     "iopub.status.idle": "2021-08-07T13:34:31.970204Z",
     "shell.execute_reply": "2021-08-07T13:34:31.970730Z",
     "shell.execute_reply.started": "2021-08-07T12:09:42.957839Z"
    },
    "papermill": {
     "duration": null,
     "end_time": null,
     "exception": null,
     "start_time": null,
     "status": "pending"
    },
    "tags": []
   },
   "outputs": [
    {
     "data": {
      "text/plain": [
       "<AxesSubplot:ylabel='Count'>"
      ]
     },
     "execution_count": 220,
     "metadata": {},
     "output_type": "execute_result"
    },
    {
     "data": {
      "image/png": "[encoded data removed]",
      "text/plain": [
       "<Figure size 432x288 with 1 Axes>"
      ]
     },
     "metadata": {
      "needs_background": "light"
     },
     "output_type": "display_data"
    }
   ],
   "source": [
    "sns.histplot(np.log(y_train))"
   ]
  },
  {
   "cell_type": "code",
   "execution_count": 221,
   "id": "3d68512a",
   "metadata": {},
   "outputs": [],
   "source": [
    "y_train=np.log(y_train)"
   ]
  },
  {
   "cell_type": "code",
   "execution_count": 222,
   "id": "47ee1e73",
   "metadata": {},
   "outputs": [
    {
     "data": {
      "text/plain": [
       "n_tokens_title                   0\n",
       "n_tokens_content                 0\n",
       "n_unique_tokens                  0\n",
       "n_non_stop_words                 0\n",
       "n_non_stop_unique_tokens         0\n",
       "average_token_length             0\n",
       "data_channel_is_lifestyle        0\n",
       "data_channel_is_entertainment    0\n",
       "data_channel_is_bus              0\n",
       "data_channel_is_socmed           0\n",
       "data_channel_is_tech             0\n",
       "data_channel_is_world            0\n",
       "weekday_is_monday                0\n",
       "weekday_is_tuesday               0\n",
       "weekday_is_wednesday             0\n",
       "weekday_is_thursday              0\n",
       "weekday_is_friday                0\n",
       "weekday_is_saturday              0\n",
       "weekday_is_sunday                0\n",
       "is_weekend                       0\n",
       "global_subjectivity              0\n",
       "title_subjectivity               0\n",
       "abs_title_subjectivity           0\n",
       "dtype: int64"
      ]
     },
     "execution_count": 222,
     "metadata": {},
     "output_type": "execute_result"
    }
   ],
   "source": [
    "X_train.isnull().sum()"
   ]
  },
  {
   "cell_type": "markdown",
   "id": "5d38d2aa",
   "metadata": {
    "papermill": {
     "duration": null,
     "end_time": null,
     "exception": null,
     "start_time": null,
     "status": "pending"
    },
    "tags": []
   },
   "source": [
    "### 5. Feature engineering and selection\n",
    "\n",
    "Let's understand feature importances for raw features as well as components to decide top features for modelling."
   ]
  },
  {
   "cell_type": "code",
   "execution_count": 223,
   "id": "a2c24571",
   "metadata": {
    "execution": {
     "iopub.execute_input": "2021-08-07T13:34:32.314007Z",
     "iopub.status.busy": "2021-08-07T13:34:32.312940Z",
     "iopub.status.idle": "2021-08-07T13:34:40.401732Z",
     "shell.execute_reply": "2021-08-07T13:34:40.402484Z",
     "shell.execute_reply.started": "2021-08-07T12:09:43.561953Z"
    },
    "papermill": {
     "duration": null,
     "end_time": null,
     "exception": null,
     "start_time": null,
     "status": "pending"
    },
    "tags": []
   },
   "outputs": [
    {
     "data": {
      "text/html": [
       "<style>#sk-container-id-5 {color: black;background-color: white;}#sk-container-id-5 pre{padding: 0;}#sk-container-id-5 div.sk-toggleable {background-color: white;}#sk-container-id-5 label.sk-toggleable__label {cursor: pointer;display: block;width: 100%;margin-bottom: 0;padding: 0.3em;box-sizing: border-box;text-align: center;}#sk-container-id-5 label.sk-toggleable__label-arrow:before {content: \"▸\";float: left;margin-right: 0.25em;color: #696969;}#sk-container-id-5 label.sk-toggleable__label-arrow:hover:before {color: black;}#sk-container-id-5 div.sk-estimator:hover label.sk-toggleable__label-arrow:before {color: black;}#sk-container-id-5 div.sk-toggleable__content {max-height: 0;max-width: 0;overflow: hidden;text-align: left;background-color: #f0f8ff;}#sk-container-id-5 div.sk-toggleable__content pre {margin: 0.2em;color: black;border-radius: 0.25em;background-color: #f0f8ff;}#sk-container-id-5 input.sk-toggleable__control:checked~div.sk-toggleable__content {max-height: 200px;max-width: 100%;overflow: auto;}#sk-container-id-5 input.sk-toggleable__control:checked~label.sk-toggleable__label-arrow:before {content: \"▾\";}#sk-container-id-5 div.sk-estimator input.sk-toggleable__control:checked~label.sk-toggleable__label {background-color: #d4ebff;}#sk-container-id-5 div.sk-label input.sk-toggleable__control:checked~label.sk-toggleable__label {background-color: #d4ebff;}#sk-container-id-5 input.sk-hidden--visually {border: 0;clip: rect(1px 1px 1px 1px);clip: rect(1px, 1px, 1px, 1px);height: 1px;margin: -1px;overflow: hidden;padding: 0;position: absolute;width: 1px;}#sk-container-id-5 div.sk-estimator {font-family: monospace;background-color: #f0f8ff;border: 1px dotted black;border-radius: 0.25em;box-sizing: border-box;margin-bottom: 0.5em;}#sk-container-id-5 div.sk-estimator:hover {background-color: #d4ebff;}#sk-container-id-5 div.sk-parallel-item::after {content: \"\";width: 100%;border-bottom: 1px solid gray;flex-grow: 1;}#sk-container-id-5 div.sk-label:hover label.sk-toggleable__label {background-color: #d4ebff;}#sk-container-id-5 div.sk-serial::before {content: \"\";position: absolute;border-left: 1px solid gray;box-sizing: border-box;top: 0;bottom: 0;left: 50%;z-index: 0;}#sk-container-id-5 div.sk-serial {display: flex;flex-direction: column;align-items: center;background-color: white;padding-right: 0.2em;padding-left: 0.2em;position: relative;}#sk-container-id-5 div.sk-item {position: relative;z-index: 1;}#sk-container-id-5 div.sk-parallel {display: flex;align-items: stretch;justify-content: center;background-color: white;position: relative;}#sk-container-id-5 div.sk-item::before, #sk-container-id-5 div.sk-parallel-item::before {content: \"\";position: absolute;border-left: 1px solid gray;box-sizing: border-box;top: 0;bottom: 0;left: 50%;z-index: -1;}#sk-container-id-5 div.sk-parallel-item {display: flex;flex-direction: column;z-index: 1;position: relative;background-color: white;}#sk-container-id-5 div.sk-parallel-item:first-child::after {align-self: flex-end;width: 50%;}#sk-container-id-5 div.sk-parallel-item:last-child::after {align-self: flex-start;width: 50%;}#sk-container-id-5 div.sk-parallel-item:only-child::after {width: 0;}#sk-container-id-5 div.sk-dashed-wrapped {border: 1px dashed gray;margin: 0 0.4em 0.5em 0.4em;box-sizing: border-box;padding-bottom: 0.4em;background-color: white;}#sk-container-id-5 div.sk-label label {font-family: monospace;font-weight: bold;display: inline-block;line-height: 1.2em;}#sk-container-id-5 div.sk-label-container {text-align: center;}#sk-container-id-5 div.sk-container {/* jupyter's `normalize.less` sets `[hidden] { display: none; }` but bootstrap.min.css set `[hidden] { display: none !important; }` so we also need the `!important` here to be able to override the default hidden behavior on the sphinx rendered scikit-learn.org. See: https://github.com/scikit-learn/scikit-learn/issues/21755 */display: inline-block !important;position: relative;}#sk-container-id-5 div.sk-text-repr-fallback {display: none;}</style><div id=\"sk-container-id-5\" class=\"sk-top-container\"><div class=\"sk-text-repr-fallback\"><pre>RandomForestRegressor(n_jobs=-1)</pre><b>In a Jupyter environment, please rerun this cell to show the HTML representation or trust the notebook. <br />On GitHub, the HTML representation is unable to render, please try loading this page with nbviewer.org.</b></div><div class=\"sk-container\" hidden><div class=\"sk-item\"><div class=\"sk-estimator sk-toggleable\"><input class=\"sk-toggleable__control sk-hidden--visually\" id=\"sk-estimator-id-5\" type=\"checkbox\" checked><label for=\"sk-estimator-id-5\" class=\"sk-toggleable__label sk-toggleable__label-arrow\">RandomForestRegressor</label><div class=\"sk-toggleable__content\"><pre>RandomForestRegressor(n_jobs=-1)</pre></div></div></div></div></div>"
      ],
      "text/plain": [
       "RandomForestRegressor(n_jobs=-1)"
      ]
     },
     "execution_count": 223,
     "metadata": {},
     "output_type": "execute_result"
    }
   ],
   "source": [
    "rf = RandomForestRegressor(n_estimators=100, n_jobs=-1)\n",
    "rf.fit(X_train, y_train.to_numpy().reshape(-1,))"
   ]
  },
  {
   "cell_type": "code",
   "execution_count": 224,
   "id": "4d4f725d",
   "metadata": {
    "execution": {
     "iopub.execute_input": "2021-08-07T13:34:40.575113Z",
     "iopub.status.busy": "2021-08-07T13:34:40.574407Z",
     "iopub.status.idle": "2021-08-07T13:34:40.682326Z",
     "shell.execute_reply": "2021-08-07T13:34:40.681279Z",
     "shell.execute_reply.started": "2021-08-07T12:09:51.349651Z"
    },
    "papermill": {
     "duration": null,
     "end_time": null,
     "exception": null,
     "start_time": null,
     "status": "pending"
    },
    "tags": []
   },
   "outputs": [],
   "source": [
    "feature_importances = pd.DataFrame({'col':X_train.columns, 'importance':rf.feature_importances_})"
   ]
  },
  {
   "cell_type": "code",
   "execution_count": 225,
   "id": "93f11588",
   "metadata": {
    "execution": {
     "iopub.execute_input": "2021-08-07T13:34:40.908201Z",
     "iopub.status.busy": "2021-08-07T13:34:40.907245Z",
     "iopub.status.idle": "2021-08-07T13:34:41.219144Z",
     "shell.execute_reply": "2021-08-07T13:34:41.217786Z",
     "shell.execute_reply.started": "2021-08-07T12:09:51.462597Z"
    },
    "papermill": {
     "duration": null,
     "end_time": null,
     "exception": null,
     "start_time": null,
     "status": "pending"
    },
    "tags": []
   },
   "outputs": [
    {
     "data": {
      "text/plain": [
       "<BarContainer object of 23 artists>"
      ]
     },
     "execution_count": 225,
     "metadata": {},
     "output_type": "execute_result"
    },
    {
     "data": {
      "image/png": "[encoded data removed]",
      "text/plain": [
       "<Figure size 1080x576 with 1 Axes>"
      ]
     },
     "metadata": {
      "needs_background": "light"
     },
     "output_type": "display_data"
    }
   ],
   "source": [
    "plt.figure(figsize=(15,8))\n",
    "plt.xticks(rotation=90)\n",
    "plt.bar(feature_importances['col'], feature_importances['importance'])"
   ]
  },
  {
   "cell_type": "markdown",
   "id": "be4f08ec",
   "metadata": {
    "papermill": {
     "duration": null,
     "end_time": null,
     "exception": null,
     "start_time": null,
     "status": "pending"
    },
    "tags": []
   },
   "source": [
    "Let's use PCA for dimensionality reduction."
   ]
  },
  {
   "cell_type": "code",
   "execution_count": 226,
   "id": "5c4d1ead",
   "metadata": {},
   "outputs": [
    {
     "data": {
      "text/plain": [
       "(20813, 23)"
      ]
     },
     "execution_count": 226,
     "metadata": {},
     "output_type": "execute_result"
    }
   ],
   "source": [
    "X_train.shape\n"
   ]
  },
  {
   "cell_type": "code",
   "execution_count": 227,
   "id": "9aa20172",
   "metadata": {},
   "outputs": [],
   "source": [
    "from sklearn.decomposition import PCA"
   ]
  },
  {
   "cell_type": "code",
   "execution_count": 228,
   "id": "e312550c",
   "metadata": {},
   "outputs": [
    {
     "data": {
      "text/html": [
       "<style>#sk-container-id-6 {color: black;background-color: white;}#sk-container-id-6 pre{padding: 0;}#sk-container-id-6 div.sk-toggleable {background-color: white;}#sk-container-id-6 label.sk-toggleable__label {cursor: pointer;display: block;width: 100%;margin-bottom: 0;padding: 0.3em;box-sizing: border-box;text-align: center;}#sk-container-id-6 label.sk-toggleable__label-arrow:before {content: \"▸\";float: left;margin-right: 0.25em;color: #696969;}#sk-container-id-6 label.sk-toggleable__label-arrow:hover:before {color: black;}#sk-container-id-6 div.sk-estimator:hover label.sk-toggleable__label-arrow:before {color: black;}#sk-container-id-6 div.sk-toggleable__content {max-height: 0;max-width: 0;overflow: hidden;text-align: left;background-color: #f0f8ff;}#sk-container-id-6 div.sk-toggleable__content pre {margin: 0.2em;color: black;border-radius: 0.25em;background-color: #f0f8ff;}#sk-container-id-6 input.sk-toggleable__control:checked~div.sk-toggleable__content {max-height: 200px;max-width: 100%;overflow: auto;}#sk-container-id-6 input.sk-toggleable__control:checked~label.sk-toggleable__label-arrow:before {content: \"▾\";}#sk-container-id-6 div.sk-estimator input.sk-toggleable__control:checked~label.sk-toggleable__label {background-color: #d4ebff;}#sk-container-id-6 div.sk-label input.sk-toggleable__control:checked~label.sk-toggleable__label {background-color: #d4ebff;}#sk-container-id-6 input.sk-hidden--visually {border: 0;clip: rect(1px 1px 1px 1px);clip: rect(1px, 1px, 1px, 1px);height: 1px;margin: -1px;overflow: hidden;padding: 0;position: absolute;width: 1px;}#sk-container-id-6 div.sk-estimator {font-family: monospace;background-color: #f0f8ff;border: 1px dotted black;border-radius: 0.25em;box-sizing: border-box;margin-bottom: 0.5em;}#sk-container-id-6 div.sk-estimator:hover {background-color: #d4ebff;}#sk-container-id-6 div.sk-parallel-item::after {content: \"\";width: 100%;border-bottom: 1px solid gray;flex-grow: 1;}#sk-container-id-6 div.sk-label:hover label.sk-toggleable__label {background-color: #d4ebff;}#sk-container-id-6 div.sk-serial::before {content: \"\";position: absolute;border-left: 1px solid gray;box-sizing: border-box;top: 0;bottom: 0;left: 50%;z-index: 0;}#sk-container-id-6 div.sk-serial {display: flex;flex-direction: column;align-items: center;background-color: white;padding-right: 0.2em;padding-left: 0.2em;position: relative;}#sk-container-id-6 div.sk-item {position: relative;z-index: 1;}#sk-container-id-6 div.sk-parallel {display: flex;align-items: stretch;justify-content: center;background-color: white;position: relative;}#sk-container-id-6 div.sk-item::before, #sk-container-id-6 div.sk-parallel-item::before {content: \"\";position: absolute;border-left: 1px solid gray;box-sizing: border-box;top: 0;bottom: 0;left: 50%;z-index: -1;}#sk-container-id-6 div.sk-parallel-item {display: flex;flex-direction: column;z-index: 1;position: relative;background-color: white;}#sk-container-id-6 div.sk-parallel-item:first-child::after {align-self: flex-end;width: 50%;}#sk-container-id-6 div.sk-parallel-item:last-child::after {align-self: flex-start;width: 50%;}#sk-container-id-6 div.sk-parallel-item:only-child::after {width: 0;}#sk-container-id-6 div.sk-dashed-wrapped {border: 1px dashed gray;margin: 0 0.4em 0.5em 0.4em;box-sizing: border-box;padding-bottom: 0.4em;background-color: white;}#sk-container-id-6 div.sk-label label {font-family: monospace;font-weight: bold;display: inline-block;line-height: 1.2em;}#sk-container-id-6 div.sk-label-container {text-align: center;}#sk-container-id-6 div.sk-container {/* jupyter's `normalize.less` sets `[hidden] { display: none; }` but bootstrap.min.css set `[hidden] { display: none !important; }` so we also need the `!important` here to be able to override the default hidden behavior on the sphinx rendered scikit-learn.org. See: https://github.com/scikit-learn/scikit-learn/issues/21755 */display: inline-block !important;position: relative;}#sk-container-id-6 div.sk-text-repr-fallback {display: none;}</style><div id=\"sk-container-id-6\" class=\"sk-top-container\"><div class=\"sk-text-repr-fallback\"><pre>PCA(random_state=42)</pre><b>In a Jupyter environment, please rerun this cell to show the HTML representation or trust the notebook. <br />On GitHub, the HTML representation is unable to render, please try loading this page with nbviewer.org.</b></div><div class=\"sk-container\" hidden><div class=\"sk-item\"><div class=\"sk-estimator sk-toggleable\"><input class=\"sk-toggleable__control sk-hidden--visually\" id=\"sk-estimator-id-6\" type=\"checkbox\" checked><label for=\"sk-estimator-id-6\" class=\"sk-toggleable__label sk-toggleable__label-arrow\">PCA</label><div class=\"sk-toggleable__content\"><pre>PCA(random_state=42)</pre></div></div></div></div></div>"
      ],
      "text/plain": [
       "PCA(random_state=42)"
      ]
     },
     "execution_count": 228,
     "metadata": {},
     "output_type": "execute_result"
    }
   ],
   "source": [
    "pca = PCA(random_state=42)\n",
    "pca.fit(X_train)"
   ]
  },
  {
   "cell_type": "code",
   "execution_count": 229,
   "id": "1366434d",
   "metadata": {},
   "outputs": [
    {
     "data": {
      "text/plain": [
       "array([[ 7.01640841e-02,  7.41989964e-02, -1.03164185e-03,\n",
       "         1.14141533e-04, -1.13675698e-03, -3.75767335e-03,\n",
       "         4.33705269e-02,  8.70810188e-02, -1.03488988e-01,\n",
       "        -5.36064383e-03, -8.99074612e-03, -3.99178008e-02,\n",
       "        -1.16238038e-01, -1.35013674e-01, -1.39792993e-01,\n",
       "        -1.40891674e-01, -9.40473066e-02,  3.67309794e-01,\n",
       "         3.91108103e-01,  7.14220379e-01,  5.06418644e-02,\n",
       "         2.06938452e-01, -2.10522263e-01],\n",
       "       [ 3.02412780e-01, -2.32477010e-02,  1.17908099e-04,\n",
       "        -1.10095754e-03, -8.47110735e-04, -5.69984750e-02,\n",
       "        -2.55138201e-02,  3.07044419e-01,  5.33603830e-03,\n",
       "        -3.93650316e-02, -1.21779184e-01, -1.75508674e-01,\n",
       "         6.36191081e-02,  5.42222341e-02,  2.94909343e-02,\n",
       "         2.15888443e-02,  4.20057889e-02, -1.48964076e-01,\n",
       "        -1.09227412e-01, -2.40288487e-01,  4.32879325e-02,\n",
       "         5.74001689e-01, -5.73861940e-01],\n",
       "       [ 2.53034573e-01,  5.19140335e-03, -4.21243934e-03,\n",
       "        -4.05630205e-03, -4.96169931e-03, -3.38720184e-02,\n",
       "        -3.56855928e-02,  2.19776480e-02, -1.60754107e-01,\n",
       "        -4.31500055e-02, -5.10644277e-01,  6.86260235e-01,\n",
       "        -9.79984689e-02, -1.56332623e-01,  9.84210159e-02,\n",
       "         4.09884842e-02,  1.25125094e-01, -9.17425393e-03,\n",
       "         1.49594010e-02,  4.30793453e-03, -3.34085959e-01,\n",
       "        -2.18034203e-02, -9.35383972e-03],\n",
       "       [ 6.16698457e-02, -2.62249225e-02, -1.18890895e-03,\n",
       "        -1.15651238e-03, -1.63944483e-03, -3.13597763e-02,\n",
       "        -2.52493492e-02, -1.84413183e-01, -3.55530414e-01,\n",
       "        -9.54935149e-03,  3.03876730e-01,  2.09437315e-01,\n",
       "        -3.32249062e-01,  6.62527059e-01, -1.24107235e-01,\n",
       "        -3.09712350e-01,  1.30447180e-01,  1.06211693e-03,\n",
       "        -3.62032629e-02, -3.49211056e-02, -6.57877056e-02,\n",
       "         8.58442340e-02, -7.26322136e-02],\n",
       "       [-1.22614538e-01, -5.73726011e-02,  5.21043600e-04,\n",
       "        -7.99026499e-05,  6.01616738e-04,  2.74654253e-02,\n",
       "         1.23348261e-02, -4.30161141e-01,  2.39422359e-01,\n",
       "         3.09829133e-02,  2.90960187e-02,  8.93209774e-02,\n",
       "        -4.00420688e-01,  2.55770745e-02, -2.04992664e-01,\n",
       "         6.62623972e-01, -1.21489250e-01,  9.79536737e-03,\n",
       "         8.36321395e-04,  1.14406409e-02, -3.22875122e-02,\n",
       "         1.84797869e-01, -1.90675501e-01],\n",
       "       [ 8.17022300e-03, -7.47519014e-02,  1.95592932e-05,\n",
       "        -1.08228997e-03, -4.32865687e-05, -1.25357270e-02,\n",
       "        -4.24394677e-03, -2.98638233e-01,  3.66949322e-01,\n",
       "        -1.31885037e-02, -2.17776439e-02, -3.46256777e-02,\n",
       "        -2.21102671e-01,  1.83239606e-02,  7.21553592e-01,\n",
       "        -3.36020400e-01, -2.41114243e-01,  1.79401965e-02,\n",
       "         2.10439701e-02,  3.82041885e-02, -8.79869351e-02,\n",
       "         6.07942218e-02, -1.17965683e-01],\n",
       "       [ 4.51469499e-02, -2.70868139e-02, -1.10186526e-03,\n",
       "        -1.63510216e-03, -1.35096218e-03, -1.93020108e-02,\n",
       "        -1.92764994e-02, -4.95775099e-02,  4.60831979e-01,\n",
       "        -1.53049083e-02, -3.53979733e-01,  1.35194559e-02,\n",
       "         3.38946484e-01,  4.65632750e-01, -3.84259873e-01,\n",
       "        -1.63084552e-01, -3.27890161e-01,  1.22039224e-02,\n",
       "         4.80365332e-02,  5.84983688e-02, -1.83862216e-01,\n",
       "        -5.24691778e-02,  5.99136154e-03],\n",
       "       [ 1.28290681e-01,  5.04882052e-02,  3.65829178e-05,\n",
       "         2.48812488e-04, -2.75596524e-04, -2.40335735e-02,\n",
       "        -1.77691119e-02,  5.34601771e-01, -8.03509341e-02,\n",
       "         8.79010039e-03, -2.09747426e-01, -1.95803115e-01,\n",
       "        -4.64471833e-01,  2.96455518e-01,  1.68282812e-01,\n",
       "         2.60875237e-01, -3.34699194e-01, -6.21705215e-03,\n",
       "         2.80303382e-02,  2.04007915e-02,  5.46076742e-02,\n",
       "        -1.88316351e-01,  2.31796081e-01],\n",
       "       [-1.04493637e-01,  2.64017178e-02,  3.13104536e-03,\n",
       "         3.10799766e-03,  3.93417872e-03,  8.29432388e-02,\n",
       "         3.51091847e-02,  5.04448126e-02,  3.78645174e-01,\n",
       "         4.01271214e-02, -3.39680663e-01, -1.52329846e-01,\n",
       "        -3.64338885e-01,  4.24067851e-02, -1.22910337e-01,\n",
       "        -1.92907789e-01,  6.75272499e-01, -1.18511628e-02,\n",
       "         2.86758935e-02,  1.81659889e-02,  2.12500771e-01,\n",
       "        -1.93176805e-02,  6.66745989e-02],\n",
       "       [ 1.94574170e-01, -2.88821313e-01, -5.82686854e-03,\n",
       "        -1.13995620e-02, -9.44330252e-03, -3.16240405e-01,\n",
       "        -5.89744108e-02,  8.03894365e-02,  1.09192317e-01,\n",
       "        -5.73699071e-02,  2.20636597e-01, -3.22354454e-01,\n",
       "        -1.00268636e-01, -1.03705006e-01, -8.16198648e-02,\n",
       "         3.98641257e-02,  2.22002774e-01,  3.67361366e-02,\n",
       "         2.01946230e-02,  5.26233214e-02, -7.07028692e-01,\n",
       "        -1.32593570e-01,  1.93012743e-02],\n",
       "       [-7.81822947e-01, -1.89037113e-01, -7.31417887e-04,\n",
       "        -5.23206722e-03, -3.48500264e-03, -1.09271229e-01,\n",
       "         1.28997628e-01,  1.36927314e-01, -2.37851418e-01,\n",
       "         2.21120520e-01, -2.54430017e-01, -5.48431596e-02,\n",
       "         4.83088290e-03,  4.61150386e-02,  5.83890175e-02,\n",
       "        -5.59911028e-02, -4.51671200e-02, -1.16222360e-02,\n",
       "        -7.22517053e-03, -1.60646866e-02, -2.68230767e-01,\n",
       "         2.11508748e-01, -6.76372322e-02],\n",
       "       [-1.76562501e-01,  8.85219935e-01, -1.44703788e-02,\n",
       "         2.77450726e-03, -1.08823365e-02,  3.30488936e-02,\n",
       "        -4.55107335e-02,  9.79220754e-02,  1.25934271e-01,\n",
       "        -3.53991113e-02,  1.45622123e-01,  8.43682480e-03,\n",
       "        -3.49216662e-02,  9.80216164e-03,  2.36521654e-02,\n",
       "         3.69377885e-03,  3.91220013e-02, -4.74721134e-02,\n",
       "         5.45813222e-03, -4.14935730e-02, -3.42007227e-01,\n",
       "         7.12821456e-03, -9.63849355e-02],\n",
       "       [ 2.37371432e-01,  1.62461872e-01, -4.31826039e-03,\n",
       "        -1.05384538e-03, -4.11914799e-03, -5.93909223e-02,\n",
       "         1.59477325e-01, -1.90172674e-01, -1.21301418e-01,\n",
       "         6.29033380e-01, -1.60370013e-01, -1.84200254e-01,\n",
       "         2.11055644e-02, -2.66852636e-03,  1.65050278e-03,\n",
       "        -2.35094879e-03, -9.07562906e-04,  4.25890171e-01,\n",
       "        -4.42886332e-01, -1.22771036e-02, -3.01483389e-02,\n",
       "        -5.32281187e-02, -1.29502530e-02],\n",
       "       [ 1.94069990e-01,  8.79175622e-02, -2.47604334e-03,\n",
       "        -8.96294189e-04, -2.68458161e-03, -4.10909880e-02,\n",
       "         2.13706791e-01, -2.13394125e-01, -1.47295043e-01,\n",
       "         4.39496855e-01, -8.89793512e-02, -1.61396126e-01,\n",
       "         2.19986535e-02, -1.97064578e-03,  2.32174063e-03,\n",
       "         8.32349646e-04, -2.42262579e-03, -5.61734970e-01,\n",
       "         5.41175278e-01, -2.51524267e-02, -3.06876831e-02,\n",
       "        -3.48052035e-02,  3.42829463e-02],\n",
       "       [ 6.49050893e-02,  8.09114286e-02, -4.36086874e-03,\n",
       "        -2.49177718e-03, -4.19284827e-03, -8.86687320e-02,\n",
       "         8.44792336e-01, -1.12884429e-01, -8.07868232e-02,\n",
       "        -4.53960181e-01, -9.33551416e-02, -1.03154866e-01,\n",
       "        -8.62297591e-04,  1.96263116e-02,  1.58023968e-03,\n",
       "         1.08490049e-02, -6.88889153e-03,  4.53838623e-02,\n",
       "        -7.95105023e-02, -3.50009347e-02, -3.09329735e-02,\n",
       "         5.36794169e-02,  9.46449607e-02],\n",
       "       [ 8.88460698e-02,  7.15095711e-02, -5.45167352e-03,\n",
       "        -4.29627648e-03, -6.60339321e-03, -1.14365631e-01,\n",
       "        -1.49246116e-01, -6.88056642e-02,  3.93282865e-02,\n",
       "         1.12630495e-02,  1.03078982e-02, -1.72651301e-02,\n",
       "         1.95594759e-02, -1.96379525e-02,  6.49686677e-03,\n",
       "        -5.77618846e-03, -7.61903382e-03,  1.73141259e-02,\n",
       "        -7.59378900e-03,  1.09078998e-02, -4.25051556e-02,\n",
       "         6.77567545e-01,  6.94587796e-01],\n",
       "       [ 6.92898253e-02, -1.47067132e-01,  2.93485107e-02,\n",
       "         2.72115323e-02,  3.38363339e-02,  9.00015267e-01,\n",
       "         1.49372255e-01,  1.09980834e-01,  1.88588394e-02,\n",
       "         9.18648868e-02,  1.00090927e-01, -3.26651722e-02,\n",
       "        -5.70718432e-03, -2.55730272e-04,  1.25948488e-03,\n",
       "        -6.96324351e-03,  2.68347755e-03,  1.49552564e-02,\n",
       "        -9.37254305e-03,  7.37732448e-05, -2.99483764e-01,\n",
       "         1.07403266e-01,  6.98621119e-02],\n",
       "       [ 8.84314615e-03,  9.86898493e-02,  4.45182941e-03,\n",
       "         2.09043676e-03, -2.80527306e-03,  1.83090145e-01,\n",
       "        -3.76661700e-01, -3.90497262e-01, -3.91942348e-01,\n",
       "        -3.69416629e-01, -3.98565340e-01, -4.50432579e-01,\n",
       "         1.05065252e-02,  4.12926528e-03,  5.55042668e-03,\n",
       "         6.07571912e-03, -2.84059433e-03,  1.15286617e-02,\n",
       "        -1.24621846e-02, -9.13776342e-03, -7.56998973e-02,\n",
       "        -5.90377843e-02, -2.53720085e-02],\n",
       "       [-1.83555020e-04,  6.71445518e-04,  6.57536841e-05,\n",
       "        -4.20410936e-04, -3.41557486e-04, -3.91499491e-03,\n",
       "        -3.46547224e-03, -1.74466866e-03,  1.68750977e-03,\n",
       "         9.65260369e-04, -2.13620277e-03, -1.36008052e-04,\n",
       "        -2.69020769e-01, -2.81603677e-01, -2.78595888e-01,\n",
       "        -2.80957366e-01, -2.51935090e-01,  3.55869964e-01,\n",
       "         3.50936283e-01, -6.15193374e-01,  3.46535111e-04,\n",
       "         7.35548038e-04, -6.45527262e-04],\n",
       "       [ 1.42481952e-03,  2.66688212e-03, -7.94851544e-04,\n",
       "         6.07022208e-05, -1.41306995e-03,  9.14289922e-04,\n",
       "        -3.65195837e-03, -5.31520211e-03, -4.10288156e-03,\n",
       "        -2.81503442e-03, -2.89596277e-03, -2.72055897e-03,\n",
       "        -3.23633584e-01, -3.38944874e-01, -3.35296762e-01,\n",
       "        -3.38109294e-01, -3.03048604e-01, -4.60473189e-01,\n",
       "        -4.58172484e-01,  1.99325709e-01, -3.11976397e-03,\n",
       "        -2.11628713e-03,  3.59855997e-04],\n",
       "       [-6.87517104e-04,  1.70932716e-02,  5.71160922e-01,\n",
       "         4.76626789e-01,  6.65667450e-01, -5.55015248e-02,\n",
       "        -2.88919959e-03, -5.15077703e-03, -2.84762447e-03,\n",
       "        -2.74473302e-03, -4.46334371e-03,  1.31526058e-03,\n",
       "        -4.16776902e-04, -7.77024205e-04, -4.62185586e-04,\n",
       "        -2.65923445e-04, -7.38039613e-04, -2.64786332e-04,\n",
       "        -4.10837512e-04,  5.51759181e-04, -6.32888380e-03,\n",
       "         8.72685909e-04,  8.61427966e-04],\n",
       "       [-1.58072264e-04, -1.01124703e-02, -4.63768762e-02,\n",
       "         8.30508816e-01, -5.54958770e-01, -4.44169074e-03,\n",
       "         4.32358211e-04,  6.70364497e-04,  8.73072388e-04,\n",
       "         2.95720714e-04,  8.53945245e-06,  8.42997490e-04,\n",
       "         2.52527226e-04,  8.19237888e-05,  2.86575265e-04,\n",
       "         2.27515967e-04,  3.00305395e-04,  3.79648944e-04,\n",
       "         5.01662307e-04, -2.47526828e-04,  2.98783265e-04,\n",
       "        -4.85100546e-05,  1.61612340e-05],\n",
       "       [ 2.50889271e-04,  7.67501776e-03,  8.18775717e-01,\n",
       "        -2.86553313e-01, -4.97393773e-01,  1.19944193e-03,\n",
       "         2.28567806e-03,  1.43254436e-03,  2.56372074e-03,\n",
       "         1.68098689e-03,  2.69804497e-03,  2.79291307e-03,\n",
       "         1.24950938e-04,  7.14161639e-05,  1.21266454e-04,\n",
       "         9.11266691e-05,  9.16740399e-05, -5.76700525e-05,\n",
       "        -2.08199518e-04,  1.69363955e-04,  7.63416158e-04,\n",
       "        -2.76560583e-04,  1.02642309e-04]])"
      ]
     },
     "execution_count": 229,
     "metadata": {},
     "output_type": "execute_result"
    }
   ],
   "source": [
    "pca.components_"
   ]
  },
  {
   "cell_type": "code",
   "execution_count": 230,
   "id": "fc63d3ce",
   "metadata": {},
   "outputs": [
    {
     "data": {
      "text/plain": [
       "array([9.80220571e-02, 8.81999602e-02, 7.50948220e-02, 7.05786079e-02,\n",
       "       7.00895928e-02, 6.96043969e-02, 6.85948432e-02, 6.70358683e-02,\n",
       "       6.59806695e-02, 6.26354112e-02, 5.27720532e-02, 4.23721708e-02,\n",
       "       3.81321579e-02, 3.73198703e-02, 3.30233552e-02, 3.06459834e-02,\n",
       "       1.69631932e-02, 8.15665288e-03, 2.84854234e-03, 1.80364132e-03,\n",
       "       1.17683631e-04, 6.52019940e-06, 1.94646272e-06])"
      ]
     },
     "execution_count": 230,
     "metadata": {},
     "output_type": "execute_result"
    }
   ],
   "source": [
    "pca.explained_variance_ratio_"
   ]
  },
  {
   "cell_type": "code",
   "execution_count": 231,
   "id": "04b3b430",
   "metadata": {},
   "outputs": [],
   "source": [
    "var_cumu = np.cumsum(pca.explained_variance_ratio_)"
   ]
  },
  {
   "cell_type": "markdown",
   "id": "0c6d6571",
   "metadata": {},
   "source": [
    "### SCREE PLOT"
   ]
  },
  {
   "cell_type": "code",
   "execution_count": 232,
   "id": "627d6a8e",
   "metadata": {},
   "outputs": [
    {
     "data": {
      "image/png": "[encoded data removed]",
      "text/plain": [
       "<Figure size 864x576 with 1 Axes>"
      ]
     },
     "metadata": {
      "needs_background": "light"
     },
     "output_type": "display_data"
    }
   ],
   "source": [
    "fig = plt.figure(figsize=[12,8])\n",
    "plt.vlines(x=15, ymax=1, ymin=0, colors=\"r\", linestyles=\"--\")\n",
    "plt.hlines(y=0.95, xmax=30, xmin=0, colors=\"g\", linestyles=\"--\")\n",
    "plt.plot(var_cumu)\n",
    "plt.ylabel(\"Cumulative variance explained\")\n",
    "plt.show()"
   ]
  },
  {
   "cell_type": "markdown",
   "id": "f17e2641",
   "metadata": {},
   "source": [
    "#### 15 features explain about 93% of variance"
   ]
  },
  {
   "cell_type": "code",
   "execution_count": 233,
   "id": "03727df5",
   "metadata": {},
   "outputs": [],
   "source": [
    "from sklearn.decomposition import IncrementalPCA"
   ]
  },
  {
   "cell_type": "code",
   "execution_count": 234,
   "id": "21394674",
   "metadata": {},
   "outputs": [],
   "source": [
    "pca_final = IncrementalPCA(n_components=15)"
   ]
  },
  {
   "cell_type": "code",
   "execution_count": 235,
   "id": "f49dede9",
   "metadata": {},
   "outputs": [],
   "source": [
    "df_train_pca = pca_final.fit_transform(X_train)"
   ]
  },
  {
   "cell_type": "code",
   "execution_count": 236,
   "id": "87c4c91d",
   "metadata": {},
   "outputs": [
    {
     "data": {
      "text/plain": [
       "(20813, 15)"
      ]
     },
     "execution_count": 236,
     "metadata": {},
     "output_type": "execute_result"
    }
   ],
   "source": [
    "df_train_pca.shape"
   ]
  },
  {
   "cell_type": "code",
   "execution_count": 237,
   "id": "158fb117",
   "metadata": {},
   "outputs": [],
   "source": [
    "corrmat = np.corrcoef(df_train_pca.transpose())"
   ]
  },
  {
   "cell_type": "code",
   "execution_count": 238,
   "id": "a1c6bc5a",
   "metadata": {},
   "outputs": [
    {
     "data": {
      "text/plain": [
       "(15, 15)"
      ]
     },
     "execution_count": 238,
     "metadata": {},
     "output_type": "execute_result"
    }
   ],
   "source": [
    "corrmat.shape"
   ]
  },
  {
   "cell_type": "code",
   "execution_count": 239,
   "id": "bf511275",
   "metadata": {},
   "outputs": [
    {
     "data": {
      "text/plain": [
       "<AxesSubplot:>"
      ]
     },
     "execution_count": 239,
     "metadata": {},
     "output_type": "execute_result"
    },
    {
     "data": {
      "image/png": "[encoded data removed]",
      "text/plain": [
       "<Figure size 1080x1080 with 2 Axes>"
      ]
     },
     "metadata": {
      "needs_background": "light"
     },
     "output_type": "display_data"
    }
   ],
   "source": [
    "plt.figure(figsize=[15,15])\n",
    "sns.heatmap(corrmat, annot=True)"
   ]
  },
  {
   "cell_type": "code",
   "execution_count": 240,
   "id": "54fec432",
   "metadata": {},
   "outputs": [
    {
     "data": {
      "text/plain": [
       "(8920, 15)"
      ]
     },
     "execution_count": 240,
     "metadata": {},
     "output_type": "execute_result"
    }
   ],
   "source": [
    "df_test_pca = pca_final.transform(X_test)\n",
    "df_test_pca.shape"
   ]
  },
  {
   "cell_type": "markdown",
   "id": "6bdcff5d",
   "metadata": {},
   "source": [
    "## Applying LR on the pca components"
   ]
  },
  {
   "cell_type": "code",
   "execution_count": 241,
   "id": "891d8234",
   "metadata": {},
   "outputs": [],
   "source": [
    "lm = LinearRegression()"
   ]
  },
  {
   "cell_type": "code",
   "execution_count": 242,
   "id": "fd814962",
   "metadata": {},
   "outputs": [],
   "source": [
    "lr_pca=lm.fit(df_train_pca, y_train)"
   ]
  },
  {
   "cell_type": "code",
   "execution_count": 243,
   "id": "e6b6fa60",
   "metadata": {},
   "outputs": [],
   "source": [
    "df_test_pca=pca_final.fit_transform(X_test)"
   ]
  },
  {
   "cell_type": "code",
   "execution_count": 244,
   "id": "a699549b",
   "metadata": {},
   "outputs": [],
   "source": [
    "from sklearn.metrics import r2_score, mean_squared_error"
   ]
  },
  {
   "cell_type": "code",
   "execution_count": 245,
   "id": "cb60d2c5",
   "metadata": {},
   "outputs": [
    {
     "name": "stdout",
     "output_type": "stream",
     "text": [
      "0.051780448694235925\n",
      "-0.056954733857585094\n",
      "shares    16989.274944\n",
      "dtype: float64\n",
      "shares    2.150244e+12\n",
      "dtype: float64\n",
      "0.8162818884403594\n",
      "241058728.53202775\n"
     ]
    }
   ],
   "source": [
    "y_pred_train = lr_pca.predict(df_train_pca)\n",
    "y_pred_test = lr_pca.predict(df_test_pca)\n",
    "\n",
    "metric = []\n",
    "r2_train_lr = r2_score(y_train, y_pred_train)\n",
    "print(r2_train_lr)\n",
    "metric.append(r2_train_lr)\n",
    "\n",
    "r2_test_lr = r2_score(y_test, y_pred_test)\n",
    "print(r2_test_lr)\n",
    "metric.append(r2_test_lr)\n",
    "\n",
    "rss1_lr = np.sum(np.square(y_train - y_pred_train))\n",
    "print(rss1_lr)\n",
    "metric.append(rss1_lr)\n",
    "\n",
    "rss2_lr = np.sum(np.square(y_test - y_pred_test))\n",
    "print(rss2_lr)\n",
    "metric.append(rss2_lr)\n",
    "\n",
    "mse_train_lr = mean_squared_error(y_train, y_pred_train)\n",
    "print(mse_train_lr)\n",
    "metric.append(mse_train_lr**0.5)\n",
    "\n",
    "mse_test_lr = mean_squared_error(y_test, y_pred_test)\n",
    "print(mse_test_lr)\n",
    "metric.append(mse_test_lr**0.5)"
   ]
  },
  {
   "cell_type": "code",
   "execution_count": 246,
   "id": "b69af087",
   "metadata": {},
   "outputs": [],
   "source": [
    "y_res_train = y_train - y_pred_train"
   ]
  },
  {
   "cell_type": "code",
   "execution_count": 247,
   "id": "4d5c5a96",
   "metadata": {},
   "outputs": [],
   "source": [
    "df['res'] = y_res_train"
   ]
  },
  {
   "cell_type": "code",
   "execution_count": 248,
   "id": "b37f7b1e",
   "metadata": {},
   "outputs": [
    {
     "data": {
      "image/png": "[encoded data removed]",
      "text/plain": [
       "<Figure size 432x288 with 1 Axes>"
      ]
     },
     "metadata": {
      "needs_background": "light"
     },
     "output_type": "display_data"
    }
   ],
   "source": [
    "plt.scatter( y_pred_train , y_res_train)\n",
    "plt.axhline(y=0, color='r', linestyle=':')\n",
    "plt.xlabel(\"Predictions\")\n",
    "plt.ylabel(\"Residual\")\n",
    "plt.show()"
   ]
  },
  {
   "cell_type": "code",
   "execution_count": 249,
   "id": "7fd3f346",
   "metadata": {},
   "outputs": [
    {
     "data": {
      "image/png": "[encoded data removed]",
      "text/plain": [
       "<Figure size 432x288 with 1 Axes>"
      ]
     },
     "metadata": {
      "needs_background": "light"
     },
     "output_type": "display_data"
    }
   ],
   "source": [
    "# Distribution of errors\n",
    "p = sns.distplot(y_res_train,kde=True,bins=20)\n",
    "\n",
    "p = plt.title('Normality of error terms/residuals')\n",
    "plt.xlabel(\"Residuals\")\n",
    "plt.show()"
   ]
  },
  {
   "cell_type": "markdown",
   "id": "df310246",
   "metadata": {},
   "source": [
    "The error terms do not show any pattern anad the distribution is also normal"
   ]
  },
  {
   "cell_type": "markdown",
   "id": "b77f9b3a",
   "metadata": {},
   "source": [
    "## RIDGE REGRESSION"
   ]
  },
  {
   "cell_type": "code",
   "execution_count": 250,
   "id": "055b6819",
   "metadata": {},
   "outputs": [
    {
     "name": "stdout",
     "output_type": "stream",
     "text": [
      "Fitting 5 folds for each of 28 candidates, totalling 140 fits\n"
     ]
    },
    {
     "data": {
      "text/html": [
       "<style>#sk-container-id-7 {color: black;background-color: white;}#sk-container-id-7 pre{padding: 0;}#sk-container-id-7 div.sk-toggleable {background-color: white;}#sk-container-id-7 label.sk-toggleable__label {cursor: pointer;display: block;width: 100%;margin-bottom: 0;padding: 0.3em;box-sizing: border-box;text-align: center;}#sk-container-id-7 label.sk-toggleable__label-arrow:before {content: \"▸\";float: left;margin-right: 0.25em;color: #696969;}#sk-container-id-7 label.sk-toggleable__label-arrow:hover:before {color: black;}#sk-container-id-7 div.sk-estimator:hover label.sk-toggleable__label-arrow:before {color: black;}#sk-container-id-7 div.sk-toggleable__content {max-height: 0;max-width: 0;overflow: hidden;text-align: left;background-color: #f0f8ff;}#sk-container-id-7 div.sk-toggleable__content pre {margin: 0.2em;color: black;border-radius: 0.25em;background-color: #f0f8ff;}#sk-container-id-7 input.sk-toggleable__control:checked~div.sk-toggleable__content {max-height: 200px;max-width: 100%;overflow: auto;}#sk-container-id-7 input.sk-toggleable__control:checked~label.sk-toggleable__label-arrow:before {content: \"▾\";}#sk-container-id-7 div.sk-estimator input.sk-toggleable__control:checked~label.sk-toggleable__label {background-color: #d4ebff;}#sk-container-id-7 div.sk-label input.sk-toggleable__control:checked~label.sk-toggleable__label {background-color: #d4ebff;}#sk-container-id-7 input.sk-hidden--visually {border: 0;clip: rect(1px 1px 1px 1px);clip: rect(1px, 1px, 1px, 1px);height: 1px;margin: -1px;overflow: hidden;padding: 0;position: absolute;width: 1px;}#sk-container-id-7 div.sk-estimator {font-family: monospace;background-color: #f0f8ff;border: 1px dotted black;border-radius: 0.25em;box-sizing: border-box;margin-bottom: 0.5em;}#sk-container-id-7 div.sk-estimator:hover {background-color: #d4ebff;}#sk-container-id-7 div.sk-parallel-item::after {content: \"\";width: 100%;border-bottom: 1px solid gray;flex-grow: 1;}#sk-container-id-7 div.sk-label:hover label.sk-toggleable__label {background-color: #d4ebff;}#sk-container-id-7 div.sk-serial::before {content: \"\";position: absolute;border-left: 1px solid gray;box-sizing: border-box;top: 0;bottom: 0;left: 50%;z-index: 0;}#sk-container-id-7 div.sk-serial {display: flex;flex-direction: column;align-items: center;background-color: white;padding-right: 0.2em;padding-left: 0.2em;position: relative;}#sk-container-id-7 div.sk-item {position: relative;z-index: 1;}#sk-container-id-7 div.sk-parallel {display: flex;align-items: stretch;justify-content: center;background-color: white;position: relative;}#sk-container-id-7 div.sk-item::before, #sk-container-id-7 div.sk-parallel-item::before {content: \"\";position: absolute;border-left: 1px solid gray;box-sizing: border-box;top: 0;bottom: 0;left: 50%;z-index: -1;}#sk-container-id-7 div.sk-parallel-item {display: flex;flex-direction: column;z-index: 1;position: relative;background-color: white;}#sk-container-id-7 div.sk-parallel-item:first-child::after {align-self: flex-end;width: 50%;}#sk-container-id-7 div.sk-parallel-item:last-child::after {align-self: flex-start;width: 50%;}#sk-container-id-7 div.sk-parallel-item:only-child::after {width: 0;}#sk-container-id-7 div.sk-dashed-wrapped {border: 1px dashed gray;margin: 0 0.4em 0.5em 0.4em;box-sizing: border-box;padding-bottom: 0.4em;background-color: white;}#sk-container-id-7 div.sk-label label {font-family: monospace;font-weight: bold;display: inline-block;line-height: 1.2em;}#sk-container-id-7 div.sk-label-container {text-align: center;}#sk-container-id-7 div.sk-container {/* jupyter's `normalize.less` sets `[hidden] { display: none; }` but bootstrap.min.css set `[hidden] { display: none !important; }` so we also need the `!important` here to be able to override the default hidden behavior on the sphinx rendered scikit-learn.org. See: https://github.com/scikit-learn/scikit-learn/issues/21755 */display: inline-block !important;position: relative;}#sk-container-id-7 div.sk-text-repr-fallback {display: none;}</style><div id=\"sk-container-id-7\" class=\"sk-top-container\"><div class=\"sk-text-repr-fallback\"><pre>GridSearchCV(cv=5, estimator=Lasso(),\n",
       "             param_grid={&#x27;alpha&#x27;: [0.0001, 0.001, 0.01, 0.05, 0.1, 0.2, 0.3,\n",
       "                                   0.4, 0.5, 0.6, 0.7, 0.8, 0.9, 1.0, 2.0, 3.0,\n",
       "                                   4.0, 5.0, 6.0, 7.0, 8.0, 9.0, 10.0, 20, 50,\n",
       "                                   100, 500, 1000]},\n",
       "             return_train_score=True, scoring=&#x27;neg_mean_absolute_error&#x27;,\n",
       "             verbose=1)</pre><b>In a Jupyter environment, please rerun this cell to show the HTML representation or trust the notebook. <br />On GitHub, the HTML representation is unable to render, please try loading this page with nbviewer.org.</b></div><div class=\"sk-container\" hidden><div class=\"sk-item sk-dashed-wrapped\"><div class=\"sk-label-container\"><div class=\"sk-label sk-toggleable\"><input class=\"sk-toggleable__control sk-hidden--visually\" id=\"sk-estimator-id-7\" type=\"checkbox\" ><label for=\"sk-estimator-id-7\" class=\"sk-toggleable__label sk-toggleable__label-arrow\">GridSearchCV</label><div class=\"sk-toggleable__content\"><pre>GridSearchCV(cv=5, estimator=Lasso(),\n",
       "             param_grid={&#x27;alpha&#x27;: [0.0001, 0.001, 0.01, 0.05, 0.1, 0.2, 0.3,\n",
       "                                   0.4, 0.5, 0.6, 0.7, 0.8, 0.9, 1.0, 2.0, 3.0,\n",
       "                                   4.0, 5.0, 6.0, 7.0, 8.0, 9.0, 10.0, 20, 50,\n",
       "                                   100, 500, 1000]},\n",
       "             return_train_score=True, scoring=&#x27;neg_mean_absolute_error&#x27;,\n",
       "             verbose=1)</pre></div></div></div><div class=\"sk-parallel\"><div class=\"sk-parallel-item\"><div class=\"sk-item\"><div class=\"sk-label-container\"><div class=\"sk-label sk-toggleable\"><input class=\"sk-toggleable__control sk-hidden--visually\" id=\"sk-estimator-id-8\" type=\"checkbox\" ><label for=\"sk-estimator-id-8\" class=\"sk-toggleable__label sk-toggleable__label-arrow\">estimator: Lasso</label><div class=\"sk-toggleable__content\"><pre>Lasso()</pre></div></div></div><div class=\"sk-serial\"><div class=\"sk-item\"><div class=\"sk-estimator sk-toggleable\"><input class=\"sk-toggleable__control sk-hidden--visually\" id=\"sk-estimator-id-9\" type=\"checkbox\" ><label for=\"sk-estimator-id-9\" class=\"sk-toggleable__label sk-toggleable__label-arrow\">Lasso</label><div class=\"sk-toggleable__content\"><pre>Lasso()</pre></div></div></div></div></div></div></div></div></div></div>"
      ],
      "text/plain": [
       "GridSearchCV(cv=5, estimator=Lasso(),\n",
       "             param_grid={'alpha': [0.0001, 0.001, 0.01, 0.05, 0.1, 0.2, 0.3,\n",
       "                                   0.4, 0.5, 0.6, 0.7, 0.8, 0.9, 1.0, 2.0, 3.0,\n",
       "                                   4.0, 5.0, 6.0, 7.0, 8.0, 9.0, 10.0, 20, 50,\n",
       "                                   100, 500, 1000]},\n",
       "             return_train_score=True, scoring='neg_mean_absolute_error',\n",
       "             verbose=1)"
      ]
     },
     "execution_count": 250,
     "metadata": {},
     "output_type": "execute_result"
    }
   ],
   "source": [
    "params = {'alpha': [0.0001, 0.001, 0.01, 0.05, 0.1, \n",
    " 0.2, 0.3, 0.4, 0.5, 0.6, 0.7, 0.8, 0.9, 1.0, 2.0, 3.0, \n",
    " 4.0, 5.0, 6.0, 7.0, 8.0, 9.0, 10.0, 20, 50, 100, 500, 1000 ]}\n",
    "\n",
    "lasso = Lasso()\n",
    "\n",
    "# cross validation\n",
    "folds = 5\n",
    "model_cv = GridSearchCV(estimator = lasso, \n",
    "                        param_grid = params, \n",
    "                        scoring= 'neg_mean_absolute_error', \n",
    "                        cv = folds, \n",
    "                        return_train_score=True,\n",
    "                        verbose = 1)            \n",
    "\n",
    "model_cv.fit(df_train_pca, y_train) "
   ]
  },
  {
   "cell_type": "code",
   "execution_count": 251,
   "id": "aba0b0ef",
   "metadata": {},
   "outputs": [
    {
     "name": "stdout",
     "output_type": "stream",
     "text": [
      "{'alpha': 0.0001}\n"
     ]
    }
   ],
   "source": [
    "# Printing the best hyperparameter alpha\n",
    "print(model_cv.best_params_)"
   ]
  },
  {
   "cell_type": "code",
   "execution_count": 252,
   "id": "b7a0f7c9",
   "metadata": {},
   "outputs": [
    {
     "data": {
      "text/html": [
       "<style>#sk-container-id-8 {color: black;background-color: white;}#sk-container-id-8 pre{padding: 0;}#sk-container-id-8 div.sk-toggleable {background-color: white;}#sk-container-id-8 label.sk-toggleable__label {cursor: pointer;display: block;width: 100%;margin-bottom: 0;padding: 0.3em;box-sizing: border-box;text-align: center;}#sk-container-id-8 label.sk-toggleable__label-arrow:before {content: \"▸\";float: left;margin-right: 0.25em;color: #696969;}#sk-container-id-8 label.sk-toggleable__label-arrow:hover:before {color: black;}#sk-container-id-8 div.sk-estimator:hover label.sk-toggleable__label-arrow:before {color: black;}#sk-container-id-8 div.sk-toggleable__content {max-height: 0;max-width: 0;overflow: hidden;text-align: left;background-color: #f0f8ff;}#sk-container-id-8 div.sk-toggleable__content pre {margin: 0.2em;color: black;border-radius: 0.25em;background-color: #f0f8ff;}#sk-container-id-8 input.sk-toggleable__control:checked~div.sk-toggleable__content {max-height: 200px;max-width: 100%;overflow: auto;}#sk-container-id-8 input.sk-toggleable__control:checked~label.sk-toggleable__label-arrow:before {content: \"▾\";}#sk-container-id-8 div.sk-estimator input.sk-toggleable__control:checked~label.sk-toggleable__label {background-color: #d4ebff;}#sk-container-id-8 div.sk-label input.sk-toggleable__control:checked~label.sk-toggleable__label {background-color: #d4ebff;}#sk-container-id-8 input.sk-hidden--visually {border: 0;clip: rect(1px 1px 1px 1px);clip: rect(1px, 1px, 1px, 1px);height: 1px;margin: -1px;overflow: hidden;padding: 0;position: absolute;width: 1px;}#sk-container-id-8 div.sk-estimator {font-family: monospace;background-color: #f0f8ff;border: 1px dotted black;border-radius: 0.25em;box-sizing: border-box;margin-bottom: 0.5em;}#sk-container-id-8 div.sk-estimator:hover {background-color: #d4ebff;}#sk-container-id-8 div.sk-parallel-item::after {content: \"\";width: 100%;border-bottom: 1px solid gray;flex-grow: 1;}#sk-container-id-8 div.sk-label:hover label.sk-toggleable__label {background-color: #d4ebff;}#sk-container-id-8 div.sk-serial::before {content: \"\";position: absolute;border-left: 1px solid gray;box-sizing: border-box;top: 0;bottom: 0;left: 50%;z-index: 0;}#sk-container-id-8 div.sk-serial {display: flex;flex-direction: column;align-items: center;background-color: white;padding-right: 0.2em;padding-left: 0.2em;position: relative;}#sk-container-id-8 div.sk-item {position: relative;z-index: 1;}#sk-container-id-8 div.sk-parallel {display: flex;align-items: stretch;justify-content: center;background-color: white;position: relative;}#sk-container-id-8 div.sk-item::before, #sk-container-id-8 div.sk-parallel-item::before {content: \"\";position: absolute;border-left: 1px solid gray;box-sizing: border-box;top: 0;bottom: 0;left: 50%;z-index: -1;}#sk-container-id-8 div.sk-parallel-item {display: flex;flex-direction: column;z-index: 1;position: relative;background-color: white;}#sk-container-id-8 div.sk-parallel-item:first-child::after {align-self: flex-end;width: 50%;}#sk-container-id-8 div.sk-parallel-item:last-child::after {align-self: flex-start;width: 50%;}#sk-container-id-8 div.sk-parallel-item:only-child::after {width: 0;}#sk-container-id-8 div.sk-dashed-wrapped {border: 1px dashed gray;margin: 0 0.4em 0.5em 0.4em;box-sizing: border-box;padding-bottom: 0.4em;background-color: white;}#sk-container-id-8 div.sk-label label {font-family: monospace;font-weight: bold;display: inline-block;line-height: 1.2em;}#sk-container-id-8 div.sk-label-container {text-align: center;}#sk-container-id-8 div.sk-container {/* jupyter's `normalize.less` sets `[hidden] { display: none; }` but bootstrap.min.css set `[hidden] { display: none !important; }` so we also need the `!important` here to be able to override the default hidden behavior on the sphinx rendered scikit-learn.org. See: https://github.com/scikit-learn/scikit-learn/issues/21755 */display: inline-block !important;position: relative;}#sk-container-id-8 div.sk-text-repr-fallback {display: none;}</style><div id=\"sk-container-id-8\" class=\"sk-top-container\"><div class=\"sk-text-repr-fallback\"><pre>Lasso(alpha=0.0001)</pre><b>In a Jupyter environment, please rerun this cell to show the HTML representation or trust the notebook. <br />On GitHub, the HTML representation is unable to render, please try loading this page with nbviewer.org.</b></div><div class=\"sk-container\" hidden><div class=\"sk-item\"><div class=\"sk-estimator sk-toggleable\"><input class=\"sk-toggleable__control sk-hidden--visually\" id=\"sk-estimator-id-10\" type=\"checkbox\" checked><label for=\"sk-estimator-id-10\" class=\"sk-toggleable__label sk-toggleable__label-arrow\">Lasso</label><div class=\"sk-toggleable__content\"><pre>Lasso(alpha=0.0001)</pre></div></div></div></div></div>"
      ],
      "text/plain": [
       "Lasso(alpha=0.0001)"
      ]
     },
     "execution_count": 252,
     "metadata": {},
     "output_type": "execute_result"
    }
   ],
   "source": [
    "#Fitting Ridge model for alpha = 0.0001 and printing coefficients which have been penalised\n",
    "\n",
    "alpha =0.0001\n",
    "\n",
    "lasso = Lasso(alpha=alpha)\n",
    "        \n",
    "lasso.fit(df_train_pca, y_train) "
   ]
  },
  {
   "cell_type": "code",
   "execution_count": 253,
   "id": "cd168292",
   "metadata": {},
   "outputs": [
    {
     "data": {
      "text/plain": [
       "array([ 0.07851075, -0.01199142, -0.10209938,  0.00374143,  0.01084795,\n",
       "        0.00256184, -0.02720234, -0.04309237,  0.0210635 , -0.02427678,\n",
       "       -0.01597854, -0.01723465,  0.12902189, -0.05207875,  0.06276242])"
      ]
     },
     "execution_count": 253,
     "metadata": {},
     "output_type": "execute_result"
    }
   ],
   "source": [
    "lasso.coef_"
   ]
  },
  {
   "cell_type": "code",
   "execution_count": 254,
   "id": "7d0b0b3c",
   "metadata": {},
   "outputs": [
    {
     "name": "stdout",
     "output_type": "stream",
     "text": [
      "0.05178027270255725\n",
      "-0.05695474280958002\n",
      "0.8162820399441115\n",
      "241058730.57370126\n"
     ]
    }
   ],
   "source": [
    "# Lets calculate some metrics such as R2 score, RSS and RMSE\n",
    "\n",
    "y_pred_train = lasso.predict(df_train_pca)\n",
    "y_pred_test = lasso.predict(df_test_pca)\n",
    "\n",
    "metric3 = []\n",
    "r2_train_lr = r2_score(y_train, y_pred_train)\n",
    "print(r2_train_lr)\n",
    "metric3.append(r2_train_lr)\n",
    "\n",
    "r2_test_lr = r2_score(y_test, y_pred_test)\n",
    "print(r2_test_lr)\n",
    "metric3.append(r2_test_lr)\n",
    "\n",
    "\n",
    "mse_train_lr = mean_squared_error(y_train, y_pred_train)\n",
    "print(mse_train_lr)\n",
    "metric3.append(mse_train_lr**0.5)\n",
    "\n",
    "mse_test_lr = mean_squared_error(y_test, y_pred_test)\n",
    "print(mse_test_lr)\n",
    "metric3.append(mse_test_lr**0.5)"
   ]
  },
  {
   "cell_type": "code",
   "execution_count": null,
   "id": "73c167bb",
   "metadata": {},
   "outputs": [],
   "source": []
  },
  {
   "cell_type": "code",
   "execution_count": null,
   "id": "2f54c8e0",
   "metadata": {},
   "outputs": [],
   "source": []
  },
  {
   "cell_type": "code",
   "execution_count": null,
   "id": "8424a3c7",
   "metadata": {},
   "outputs": [],
   "source": []
  },
  {
   "cell_type": "markdown",
   "id": "9cd718ee",
   "metadata": {},
   "source": [
    "## LASSO"
   ]
  },
  {
   "cell_type": "code",
   "execution_count": 255,
   "id": "b885ec2d",
   "metadata": {},
   "outputs": [
    {
     "name": "stdout",
     "output_type": "stream",
     "text": [
      "Fitting 5 folds for each of 28 candidates, totalling 140 fits\n"
     ]
    },
    {
     "data": {
      "text/html": [
       "<style>#sk-container-id-9 {color: black;background-color: white;}#sk-container-id-9 pre{padding: 0;}#sk-container-id-9 div.sk-toggleable {background-color: white;}#sk-container-id-9 label.sk-toggleable__label {cursor: pointer;display: block;width: 100%;margin-bottom: 0;padding: 0.3em;box-sizing: border-box;text-align: center;}#sk-container-id-9 label.sk-toggleable__label-arrow:before {content: \"▸\";float: left;margin-right: 0.25em;color: #696969;}#sk-container-id-9 label.sk-toggleable__label-arrow:hover:before {color: black;}#sk-container-id-9 div.sk-estimator:hover label.sk-toggleable__label-arrow:before {color: black;}#sk-container-id-9 div.sk-toggleable__content {max-height: 0;max-width: 0;overflow: hidden;text-align: left;background-color: #f0f8ff;}#sk-container-id-9 div.sk-toggleable__content pre {margin: 0.2em;color: black;border-radius: 0.25em;background-color: #f0f8ff;}#sk-container-id-9 input.sk-toggleable__control:checked~div.sk-toggleable__content {max-height: 200px;max-width: 100%;overflow: auto;}#sk-container-id-9 input.sk-toggleable__control:checked~label.sk-toggleable__label-arrow:before {content: \"▾\";}#sk-container-id-9 div.sk-estimator input.sk-toggleable__control:checked~label.sk-toggleable__label {background-color: #d4ebff;}#sk-container-id-9 div.sk-label input.sk-toggleable__control:checked~label.sk-toggleable__label {background-color: #d4ebff;}#sk-container-id-9 input.sk-hidden--visually {border: 0;clip: rect(1px 1px 1px 1px);clip: rect(1px, 1px, 1px, 1px);height: 1px;margin: -1px;overflow: hidden;padding: 0;position: absolute;width: 1px;}#sk-container-id-9 div.sk-estimator {font-family: monospace;background-color: #f0f8ff;border: 1px dotted black;border-radius: 0.25em;box-sizing: border-box;margin-bottom: 0.5em;}#sk-container-id-9 div.sk-estimator:hover {background-color: #d4ebff;}#sk-container-id-9 div.sk-parallel-item::after {content: \"\";width: 100%;border-bottom: 1px solid gray;flex-grow: 1;}#sk-container-id-9 div.sk-label:hover label.sk-toggleable__label {background-color: #d4ebff;}#sk-container-id-9 div.sk-serial::before {content: \"\";position: absolute;border-left: 1px solid gray;box-sizing: border-box;top: 0;bottom: 0;left: 50%;z-index: 0;}#sk-container-id-9 div.sk-serial {display: flex;flex-direction: column;align-items: center;background-color: white;padding-right: 0.2em;padding-left: 0.2em;position: relative;}#sk-container-id-9 div.sk-item {position: relative;z-index: 1;}#sk-container-id-9 div.sk-parallel {display: flex;align-items: stretch;justify-content: center;background-color: white;position: relative;}#sk-container-id-9 div.sk-item::before, #sk-container-id-9 div.sk-parallel-item::before {content: \"\";position: absolute;border-left: 1px solid gray;box-sizing: border-box;top: 0;bottom: 0;left: 50%;z-index: -1;}#sk-container-id-9 div.sk-parallel-item {display: flex;flex-direction: column;z-index: 1;position: relative;background-color: white;}#sk-container-id-9 div.sk-parallel-item:first-child::after {align-self: flex-end;width: 50%;}#sk-container-id-9 div.sk-parallel-item:last-child::after {align-self: flex-start;width: 50%;}#sk-container-id-9 div.sk-parallel-item:only-child::after {width: 0;}#sk-container-id-9 div.sk-dashed-wrapped {border: 1px dashed gray;margin: 0 0.4em 0.5em 0.4em;box-sizing: border-box;padding-bottom: 0.4em;background-color: white;}#sk-container-id-9 div.sk-label label {font-family: monospace;font-weight: bold;display: inline-block;line-height: 1.2em;}#sk-container-id-9 div.sk-label-container {text-align: center;}#sk-container-id-9 div.sk-container {/* jupyter's `normalize.less` sets `[hidden] { display: none; }` but bootstrap.min.css set `[hidden] { display: none !important; }` so we also need the `!important` here to be able to override the default hidden behavior on the sphinx rendered scikit-learn.org. See: https://github.com/scikit-learn/scikit-learn/issues/21755 */display: inline-block !important;position: relative;}#sk-container-id-9 div.sk-text-repr-fallback {display: none;}</style><div id=\"sk-container-id-9\" class=\"sk-top-container\"><div class=\"sk-text-repr-fallback\"><pre>GridSearchCV(cv=5, estimator=Lasso(),\n",
       "             param_grid={&#x27;alpha&#x27;: [0.0001, 0.001, 0.01, 0.05, 0.1, 0.2, 0.3,\n",
       "                                   0.4, 0.5, 0.6, 0.7, 0.8, 0.9, 1.0, 2.0, 3.0,\n",
       "                                   4.0, 5.0, 6.0, 7.0, 8.0, 9.0, 10.0, 20, 50,\n",
       "                                   100, 500, 1000]},\n",
       "             return_train_score=True, scoring=&#x27;neg_mean_absolute_error&#x27;,\n",
       "             verbose=1)</pre><b>In a Jupyter environment, please rerun this cell to show the HTML representation or trust the notebook. <br />On GitHub, the HTML representation is unable to render, please try loading this page with nbviewer.org.</b></div><div class=\"sk-container\" hidden><div class=\"sk-item sk-dashed-wrapped\"><div class=\"sk-label-container\"><div class=\"sk-label sk-toggleable\"><input class=\"sk-toggleable__control sk-hidden--visually\" id=\"sk-estimator-id-11\" type=\"checkbox\" ><label for=\"sk-estimator-id-11\" class=\"sk-toggleable__label sk-toggleable__label-arrow\">GridSearchCV</label><div class=\"sk-toggleable__content\"><pre>GridSearchCV(cv=5, estimator=Lasso(),\n",
       "             param_grid={&#x27;alpha&#x27;: [0.0001, 0.001, 0.01, 0.05, 0.1, 0.2, 0.3,\n",
       "                                   0.4, 0.5, 0.6, 0.7, 0.8, 0.9, 1.0, 2.0, 3.0,\n",
       "                                   4.0, 5.0, 6.0, 7.0, 8.0, 9.0, 10.0, 20, 50,\n",
       "                                   100, 500, 1000]},\n",
       "             return_train_score=True, scoring=&#x27;neg_mean_absolute_error&#x27;,\n",
       "             verbose=1)</pre></div></div></div><div class=\"sk-parallel\"><div class=\"sk-parallel-item\"><div class=\"sk-item\"><div class=\"sk-label-container\"><div class=\"sk-label sk-toggleable\"><input class=\"sk-toggleable__control sk-hidden--visually\" id=\"sk-estimator-id-12\" type=\"checkbox\" ><label for=\"sk-estimator-id-12\" class=\"sk-toggleable__label sk-toggleable__label-arrow\">estimator: Lasso</label><div class=\"sk-toggleable__content\"><pre>Lasso()</pre></div></div></div><div class=\"sk-serial\"><div class=\"sk-item\"><div class=\"sk-estimator sk-toggleable\"><input class=\"sk-toggleable__control sk-hidden--visually\" id=\"sk-estimator-id-13\" type=\"checkbox\" ><label for=\"sk-estimator-id-13\" class=\"sk-toggleable__label sk-toggleable__label-arrow\">Lasso</label><div class=\"sk-toggleable__content\"><pre>Lasso()</pre></div></div></div></div></div></div></div></div></div></div>"
      ],
      "text/plain": [
       "GridSearchCV(cv=5, estimator=Lasso(),\n",
       "             param_grid={'alpha': [0.0001, 0.001, 0.01, 0.05, 0.1, 0.2, 0.3,\n",
       "                                   0.4, 0.5, 0.6, 0.7, 0.8, 0.9, 1.0, 2.0, 3.0,\n",
       "                                   4.0, 5.0, 6.0, 7.0, 8.0, 9.0, 10.0, 20, 50,\n",
       "                                   100, 500, 1000]},\n",
       "             return_train_score=True, scoring='neg_mean_absolute_error',\n",
       "             verbose=1)"
      ]
     },
     "execution_count": 255,
     "metadata": {},
     "output_type": "execute_result"
    }
   ],
   "source": [
    "params = {'alpha': [0.0001, 0.001, 0.01, 0.05, 0.1, \n",
    " 0.2, 0.3, 0.4, 0.5, 0.6, 0.7, 0.8, 0.9, 1.0, 2.0, 3.0, \n",
    " 4.0, 5.0, 6.0, 7.0, 8.0, 9.0, 10.0, 20, 50, 100, 500, 1000 ]}\n",
    "\n",
    "lasso = Lasso()\n",
    "\n",
    "# cross validation\n",
    "folds = 5\n",
    "model_cv = GridSearchCV(estimator = lasso, \n",
    "                        param_grid = params, \n",
    "                        scoring= 'neg_mean_absolute_error', \n",
    "                        cv = folds, \n",
    "                        return_train_score=True,\n",
    "                        verbose = 1)            \n",
    "\n",
    "model_cv.fit(df_train_pca, y_train) "
   ]
  },
  {
   "cell_type": "code",
   "execution_count": 256,
   "id": "0a64dca1",
   "metadata": {},
   "outputs": [
    {
     "name": "stdout",
     "output_type": "stream",
     "text": [
      "{'alpha': 0.0001}\n"
     ]
    }
   ],
   "source": [
    "# Printing the best hyperparameter alpha\n",
    "print(model_cv.best_params_)"
   ]
  },
  {
   "cell_type": "code",
   "execution_count": 257,
   "id": "dc3dad71",
   "metadata": {},
   "outputs": [
    {
     "data": {
      "text/html": [
       "<style>#sk-container-id-10 {color: black;background-color: white;}#sk-container-id-10 pre{padding: 0;}#sk-container-id-10 div.sk-toggleable {background-color: white;}#sk-container-id-10 label.sk-toggleable__label {cursor: pointer;display: block;width: 100%;margin-bottom: 0;padding: 0.3em;box-sizing: border-box;text-align: center;}#sk-container-id-10 label.sk-toggleable__label-arrow:before {content: \"▸\";float: left;margin-right: 0.25em;color: #696969;}#sk-container-id-10 label.sk-toggleable__label-arrow:hover:before {color: black;}#sk-container-id-10 div.sk-estimator:hover label.sk-toggleable__label-arrow:before {color: black;}#sk-container-id-10 div.sk-toggleable__content {max-height: 0;max-width: 0;overflow: hidden;text-align: left;background-color: #f0f8ff;}#sk-container-id-10 div.sk-toggleable__content pre {margin: 0.2em;color: black;border-radius: 0.25em;background-color: #f0f8ff;}#sk-container-id-10 input.sk-toggleable__control:checked~div.sk-toggleable__content {max-height: 200px;max-width: 100%;overflow: auto;}#sk-container-id-10 input.sk-toggleable__control:checked~label.sk-toggleable__label-arrow:before {content: \"▾\";}#sk-container-id-10 div.sk-estimator input.sk-toggleable__control:checked~label.sk-toggleable__label {background-color: #d4ebff;}#sk-container-id-10 div.sk-label input.sk-toggleable__control:checked~label.sk-toggleable__label {background-color: #d4ebff;}#sk-container-id-10 input.sk-hidden--visually {border: 0;clip: rect(1px 1px 1px 1px);clip: rect(1px, 1px, 1px, 1px);height: 1px;margin: -1px;overflow: hidden;padding: 0;position: absolute;width: 1px;}#sk-container-id-10 div.sk-estimator {font-family: monospace;background-color: #f0f8ff;border: 1px dotted black;border-radius: 0.25em;box-sizing: border-box;margin-bottom: 0.5em;}#sk-container-id-10 div.sk-estimator:hover {background-color: #d4ebff;}#sk-container-id-10 div.sk-parallel-item::after {content: \"\";width: 100%;border-bottom: 1px solid gray;flex-grow: 1;}#sk-container-id-10 div.sk-label:hover label.sk-toggleable__label {background-color: #d4ebff;}#sk-container-id-10 div.sk-serial::before {content: \"\";position: absolute;border-left: 1px solid gray;box-sizing: border-box;top: 0;bottom: 0;left: 50%;z-index: 0;}#sk-container-id-10 div.sk-serial {display: flex;flex-direction: column;align-items: center;background-color: white;padding-right: 0.2em;padding-left: 0.2em;position: relative;}#sk-container-id-10 div.sk-item {position: relative;z-index: 1;}#sk-container-id-10 div.sk-parallel {display: flex;align-items: stretch;justify-content: center;background-color: white;position: relative;}#sk-container-id-10 div.sk-item::before, #sk-container-id-10 div.sk-parallel-item::before {content: \"\";position: absolute;border-left: 1px solid gray;box-sizing: border-box;top: 0;bottom: 0;left: 50%;z-index: -1;}#sk-container-id-10 div.sk-parallel-item {display: flex;flex-direction: column;z-index: 1;position: relative;background-color: white;}#sk-container-id-10 div.sk-parallel-item:first-child::after {align-self: flex-end;width: 50%;}#sk-container-id-10 div.sk-parallel-item:last-child::after {align-self: flex-start;width: 50%;}#sk-container-id-10 div.sk-parallel-item:only-child::after {width: 0;}#sk-container-id-10 div.sk-dashed-wrapped {border: 1px dashed gray;margin: 0 0.4em 0.5em 0.4em;box-sizing: border-box;padding-bottom: 0.4em;background-color: white;}#sk-container-id-10 div.sk-label label {font-family: monospace;font-weight: bold;display: inline-block;line-height: 1.2em;}#sk-container-id-10 div.sk-label-container {text-align: center;}#sk-container-id-10 div.sk-container {/* jupyter's `normalize.less` sets `[hidden] { display: none; }` but bootstrap.min.css set `[hidden] { display: none !important; }` so we also need the `!important` here to be able to override the default hidden behavior on the sphinx rendered scikit-learn.org. See: https://github.com/scikit-learn/scikit-learn/issues/21755 */display: inline-block !important;position: relative;}#sk-container-id-10 div.sk-text-repr-fallback {display: none;}</style><div id=\"sk-container-id-10\" class=\"sk-top-container\"><div class=\"sk-text-repr-fallback\"><pre>Lasso(alpha=0.0001)</pre><b>In a Jupyter environment, please rerun this cell to show the HTML representation or trust the notebook. <br />On GitHub, the HTML representation is unable to render, please try loading this page with nbviewer.org.</b></div><div class=\"sk-container\" hidden><div class=\"sk-item\"><div class=\"sk-estimator sk-toggleable\"><input class=\"sk-toggleable__control sk-hidden--visually\" id=\"sk-estimator-id-14\" type=\"checkbox\" checked><label for=\"sk-estimator-id-14\" class=\"sk-toggleable__label sk-toggleable__label-arrow\">Lasso</label><div class=\"sk-toggleable__content\"><pre>Lasso(alpha=0.0001)</pre></div></div></div></div></div>"
      ],
      "text/plain": [
       "Lasso(alpha=0.0001)"
      ]
     },
     "execution_count": 257,
     "metadata": {},
     "output_type": "execute_result"
    }
   ],
   "source": [
    "#Fitting Ridge model for alpha = 0.0001 and printing coefficients which have been penalised\n",
    "\n",
    "alpha =0.0001\n",
    "\n",
    "lasso = Lasso(alpha=alpha)\n",
    "        \n",
    "lasso.fit(df_train_pca, y_train) "
   ]
  },
  {
   "cell_type": "code",
   "execution_count": 258,
   "id": "c09bbf1d",
   "metadata": {},
   "outputs": [
    {
     "data": {
      "text/plain": [
       "array([ 0.07851075, -0.01199142, -0.10209938,  0.00374143,  0.01084795,\n",
       "        0.00256184, -0.02720234, -0.04309237,  0.0210635 , -0.02427678,\n",
       "       -0.01597854, -0.01723465,  0.12902189, -0.05207875,  0.06276242])"
      ]
     },
     "execution_count": 258,
     "metadata": {},
     "output_type": "execute_result"
    }
   ],
   "source": [
    "lasso.coef_"
   ]
  },
  {
   "cell_type": "code",
   "execution_count": 259,
   "id": "fa6a0360",
   "metadata": {},
   "outputs": [
    {
     "name": "stdout",
     "output_type": "stream",
     "text": [
      "0.05178027270255725\n",
      "-0.05695474280958002\n",
      "0.8162820399441115\n",
      "241058730.57370126\n"
     ]
    }
   ],
   "source": [
    "# Lets calculate some metrics such as R2 score, RSS and RMSE\n",
    "\n",
    "y_pred_train = lasso.predict(df_train_pca)\n",
    "y_pred_test = lasso.predict(df_test_pca)\n",
    "\n",
    "metric3 = []\n",
    "r2_train_lr = r2_score(y_train, y_pred_train)\n",
    "print(r2_train_lr)\n",
    "metric3.append(r2_train_lr)\n",
    "\n",
    "r2_test_lr = r2_score(y_test, y_pred_test)\n",
    "print(r2_test_lr)\n",
    "metric3.append(r2_test_lr)\n",
    "\n",
    "mse_train_lr = mean_squared_error(y_train, y_pred_train)\n",
    "print(mse_train_lr)\n",
    "metric3.append(mse_train_lr**0.5)\n",
    "\n",
    "mse_test_lr = mean_squared_error(y_test, y_pred_test)\n",
    "print(mse_test_lr)\n",
    "metric3.append(mse_test_lr**0.5)"
   ]
  },
  {
   "cell_type": "markdown",
   "id": "68412174",
   "metadata": {
    "papermill": {
     "duration": null,
     "end_time": null,
     "exception": null,
     "start_time": null,
     "status": "pending"
    },
    "tags": []
   },
   "source": [
    "Since we plan on trying out a variety of regression models, including polynomial regression, lets also generate a bunch of polynomial features. \n"
   ]
  },
  {
   "cell_type": "markdown",
   "id": "8c40df93",
   "metadata": {},
   "source": [
    "## POLYNOMIAL REGRESSION"
   ]
  },
  {
   "cell_type": "code",
   "execution_count": 260,
   "id": "2c48f7de",
   "metadata": {
    "execution": {
     "iopub.execute_input": "2021-08-07T13:35:02.658585Z",
     "iopub.status.busy": "2021-08-07T13:35:02.657803Z",
     "iopub.status.idle": "2021-08-07T13:35:02.698679Z",
     "shell.execute_reply": "2021-08-07T13:35:02.699184Z",
     "shell.execute_reply.started": "2021-08-07T12:38:17.829779Z"
    },
    "papermill": {
     "duration": null,
     "end_time": null,
     "exception": null,
     "start_time": null,
     "status": "pending"
    },
    "tags": []
   },
   "outputs": [
    {
     "data": {
      "text/plain": [
       "(20813, 16)"
      ]
     },
     "execution_count": 260,
     "metadata": {},
     "output_type": "execute_result"
    }
   ],
   "source": [
    "poly = PolynomialFeatures(degree=1)\n",
    "poly_features = poly.fit_transform(df_train_pca)\n",
    "poly_features.shape"
   ]
  },
  {
   "cell_type": "code",
   "execution_count": 261,
   "id": "9bbc794a",
   "metadata": {},
   "outputs": [
    {
     "data": {
      "text/html": [
       "<style>#sk-container-id-11 {color: black;background-color: white;}#sk-container-id-11 pre{padding: 0;}#sk-container-id-11 div.sk-toggleable {background-color: white;}#sk-container-id-11 label.sk-toggleable__label {cursor: pointer;display: block;width: 100%;margin-bottom: 0;padding: 0.3em;box-sizing: border-box;text-align: center;}#sk-container-id-11 label.sk-toggleable__label-arrow:before {content: \"▸\";float: left;margin-right: 0.25em;color: #696969;}#sk-container-id-11 label.sk-toggleable__label-arrow:hover:before {color: black;}#sk-container-id-11 div.sk-estimator:hover label.sk-toggleable__label-arrow:before {color: black;}#sk-container-id-11 div.sk-toggleable__content {max-height: 0;max-width: 0;overflow: hidden;text-align: left;background-color: #f0f8ff;}#sk-container-id-11 div.sk-toggleable__content pre {margin: 0.2em;color: black;border-radius: 0.25em;background-color: #f0f8ff;}#sk-container-id-11 input.sk-toggleable__control:checked~div.sk-toggleable__content {max-height: 200px;max-width: 100%;overflow: auto;}#sk-container-id-11 input.sk-toggleable__control:checked~label.sk-toggleable__label-arrow:before {content: \"▾\";}#sk-container-id-11 div.sk-estimator input.sk-toggleable__control:checked~label.sk-toggleable__label {background-color: #d4ebff;}#sk-container-id-11 div.sk-label input.sk-toggleable__control:checked~label.sk-toggleable__label {background-color: #d4ebff;}#sk-container-id-11 input.sk-hidden--visually {border: 0;clip: rect(1px 1px 1px 1px);clip: rect(1px, 1px, 1px, 1px);height: 1px;margin: -1px;overflow: hidden;padding: 0;position: absolute;width: 1px;}#sk-container-id-11 div.sk-estimator {font-family: monospace;background-color: #f0f8ff;border: 1px dotted black;border-radius: 0.25em;box-sizing: border-box;margin-bottom: 0.5em;}#sk-container-id-11 div.sk-estimator:hover {background-color: #d4ebff;}#sk-container-id-11 div.sk-parallel-item::after {content: \"\";width: 100%;border-bottom: 1px solid gray;flex-grow: 1;}#sk-container-id-11 div.sk-label:hover label.sk-toggleable__label {background-color: #d4ebff;}#sk-container-id-11 div.sk-serial::before {content: \"\";position: absolute;border-left: 1px solid gray;box-sizing: border-box;top: 0;bottom: 0;left: 50%;z-index: 0;}#sk-container-id-11 div.sk-serial {display: flex;flex-direction: column;align-items: center;background-color: white;padding-right: 0.2em;padding-left: 0.2em;position: relative;}#sk-container-id-11 div.sk-item {position: relative;z-index: 1;}#sk-container-id-11 div.sk-parallel {display: flex;align-items: stretch;justify-content: center;background-color: white;position: relative;}#sk-container-id-11 div.sk-item::before, #sk-container-id-11 div.sk-parallel-item::before {content: \"\";position: absolute;border-left: 1px solid gray;box-sizing: border-box;top: 0;bottom: 0;left: 50%;z-index: -1;}#sk-container-id-11 div.sk-parallel-item {display: flex;flex-direction: column;z-index: 1;position: relative;background-color: white;}#sk-container-id-11 div.sk-parallel-item:first-child::after {align-self: flex-end;width: 50%;}#sk-container-id-11 div.sk-parallel-item:last-child::after {align-self: flex-start;width: 50%;}#sk-container-id-11 div.sk-parallel-item:only-child::after {width: 0;}#sk-container-id-11 div.sk-dashed-wrapped {border: 1px dashed gray;margin: 0 0.4em 0.5em 0.4em;box-sizing: border-box;padding-bottom: 0.4em;background-color: white;}#sk-container-id-11 div.sk-label label {font-family: monospace;font-weight: bold;display: inline-block;line-height: 1.2em;}#sk-container-id-11 div.sk-label-container {text-align: center;}#sk-container-id-11 div.sk-container {/* jupyter's `normalize.less` sets `[hidden] { display: none; }` but bootstrap.min.css set `[hidden] { display: none !important; }` so we also need the `!important` here to be able to override the default hidden behavior on the sphinx rendered scikit-learn.org. See: https://github.com/scikit-learn/scikit-learn/issues/21755 */display: inline-block !important;position: relative;}#sk-container-id-11 div.sk-text-repr-fallback {display: none;}</style><div id=\"sk-container-id-11\" class=\"sk-top-container\"><div class=\"sk-text-repr-fallback\"><pre>LinearRegression()</pre><b>In a Jupyter environment, please rerun this cell to show the HTML representation or trust the notebook. <br />On GitHub, the HTML representation is unable to render, please try loading this page with nbviewer.org.</b></div><div class=\"sk-container\" hidden><div class=\"sk-item\"><div class=\"sk-estimator sk-toggleable\"><input class=\"sk-toggleable__control sk-hidden--visually\" id=\"sk-estimator-id-15\" type=\"checkbox\" checked><label for=\"sk-estimator-id-15\" class=\"sk-toggleable__label sk-toggleable__label-arrow\">LinearRegression</label><div class=\"sk-toggleable__content\"><pre>LinearRegression()</pre></div></div></div></div></div>"
      ],
      "text/plain": [
       "LinearRegression()"
      ]
     },
     "execution_count": 261,
     "metadata": {},
     "output_type": "execute_result"
    }
   ],
   "source": [
    "# Building the polynomial regression model with degree 3\n",
    "degree=3# got this number through trial and this is the lowest value which fit the data perfectly\n",
    "polyreg3 = PolynomialFeatures(degree)\n",
    "X_poly3 = polyreg3.fit_transform(df_train_pca) # Transform the variable X to 1, X, X^2, X^3\n",
    "linreg3 = LinearRegression()\n",
    "linreg3.fit(X_poly3, y_train)"
   ]
  },
  {
   "cell_type": "code",
   "execution_count": 262,
   "id": "8e8a7e75",
   "metadata": {},
   "outputs": [
    {
     "data": {
      "text/plain": [
       "(20813, 15)"
      ]
     },
     "execution_count": 262,
     "metadata": {},
     "output_type": "execute_result"
    }
   ],
   "source": [
    "df_train_pca.shape"
   ]
  },
  {
   "cell_type": "code",
   "execution_count": 263,
   "id": "d7b154d6",
   "metadata": {},
   "outputs": [
    {
     "data": {
      "text/plain": [
       "(20813, 1)"
      ]
     },
     "execution_count": 263,
     "metadata": {},
     "output_type": "execute_result"
    }
   ],
   "source": [
    "y_train.shape"
   ]
  },
  {
   "cell_type": "code",
   "execution_count": 264,
   "id": "e9705dfd",
   "metadata": {},
   "outputs": [
    {
     "name": "stdout",
     "output_type": "stream",
     "text": [
      "0.13166893332411456\n"
     ]
    }
   ],
   "source": [
    "y_pred3 = linreg3.predict(polyreg3.fit_transform(df_train_pca)) # store predictions from the polynomial regression in the variable y_pred5\n",
    "print(r2_score(y_train, y_pred3))"
   ]
  },
  {
   "cell_type": "code",
   "execution_count": 265,
   "id": "723144ff",
   "metadata": {
    "execution": {
     "iopub.execute_input": "2021-08-07T13:35:03.257808Z",
     "iopub.status.busy": "2021-08-07T13:35:03.257125Z",
     "iopub.status.idle": "2021-08-07T13:35:03.259966Z",
     "shell.execute_reply": "2021-08-07T13:35:03.260422Z",
     "shell.execute_reply.started": "2021-08-07T13:30:36.452418Z"
    },
    "papermill": {
     "duration": null,
     "end_time": null,
     "exception": null,
     "start_time": null,
     "status": "pending"
    },
    "tags": []
   },
   "outputs": [],
   "source": [
    "\n",
    "def regression_results(y_true, y_pred):\n",
    "\n",
    "    # Regression metrics\n",
    "    explained_variance=metrics.explained_variance_score(y_true, y_pred)\n",
    "    mean_absolute_error=metrics.mean_absolute_error(y_true, y_pred) \n",
    "    mse=metrics.mean_squared_error(y_true, y_pred) \n",
    "    median_absolute_error=metrics.median_absolute_error(y_true, y_pred)\n",
    "    r2=metrics.r2_score(y_true, y_pred)\n",
    "\n",
    "    print('explained_variance: ', round(explained_variance,4))    \n",
    "    print('r2: ', round(r2,4))\n",
    "    print('MAE: ', round(mean_absolute_error,4))\n",
    "    print('MSE: ', round(mse,4))\n",
    "    print('RMSE: ', round(np.sqrt(mse),4))"
   ]
  },
  {
   "cell_type": "code",
   "execution_count": 266,
   "id": "228fc4f6",
   "metadata": {
    "execution": {
     "iopub.execute_input": "2021-08-07T13:35:03.449322Z",
     "iopub.status.busy": "2021-08-07T13:35:03.448637Z",
     "iopub.status.idle": "2021-08-07T13:37:18.769694Z",
     "shell.execute_reply": "2021-08-07T13:37:18.770267Z",
     "shell.execute_reply.started": "2021-08-07T13:30:39.694473Z"
    },
    "papermill": {
     "duration": null,
     "end_time": null,
     "exception": null,
     "start_time": null,
     "status": "pending"
    },
    "tags": []
   },
   "outputs": [
    {
     "name": "stdout",
     "output_type": "stream",
     "text": [
      "explained_variance:  0.0518\n",
      "r2:  0.0518\n",
      "MAE:  0.6737\n",
      "MSE:  0.8163\n",
      "RMSE:  0.9035\n"
     ]
    }
   ],
   "source": [
    "regression_results(y_train,y_pred_train)"
   ]
  },
  {
   "cell_type": "markdown",
   "id": "081c6b7d",
   "metadata": {
    "papermill": {
     "duration": null,
     "end_time": null,
     "exception": null,
     "start_time": null,
     "status": "pending"
    },
    "tags": []
   },
   "source": [
    "### 7. Creating submission file\n"
   ]
  },
  {
   "cell_type": "code",
   "execution_count": 267,
   "id": "d9ad6399",
   "metadata": {
    "execution": {
     "iopub.execute_input": "2021-08-07T13:37:19.134095Z",
     "iopub.status.busy": "2021-08-07T13:37:19.133383Z",
     "iopub.status.idle": "2021-08-07T13:37:19.142604Z",
     "shell.execute_reply": "2021-08-07T13:37:19.143132Z",
     "shell.execute_reply.started": "2021-08-07T13:28:05.834712Z"
    },
    "papermill": {
     "duration": null,
     "end_time": null,
     "exception": null,
     "start_time": null,
     "status": "pending"
    },
    "tags": []
   },
   "outputs": [],
   "source": [
    "test_df = pd.read_csv(\"test.csv\")"
   ]
  },
  {
   "cell_type": "code",
   "execution_count": 268,
   "id": "4c847a38",
   "metadata": {
    "execution": {
     "iopub.execute_input": "2021-08-07T13:37:19.327081Z",
     "iopub.status.busy": "2021-08-07T13:37:19.326398Z",
     "iopub.status.idle": "2021-08-07T13:37:19.334190Z",
     "shell.execute_reply": "2021-08-07T13:37:19.334681Z",
     "shell.execute_reply.started": "2021-08-07T13:32:54.248114Z"
    },
    "papermill": {
     "duration": null,
     "end_time": null,
     "exception": null,
     "start_time": null,
     "status": "pending"
    },
    "tags": []
   },
   "outputs": [],
   "source": [
    "test_df.drop('url',axis=1,inplace=True)"
   ]
  },
  {
   "cell_type": "code",
   "execution_count": 269,
   "id": "72726037",
   "metadata": {
    "execution": {
     "iopub.execute_input": "2021-08-07T13:37:19.519526Z",
     "iopub.status.busy": "2021-08-07T13:37:19.518901Z",
     "iopub.status.idle": "2021-08-07T13:37:19.672970Z",
     "shell.execute_reply": "2021-08-07T13:37:19.673490Z",
     "shell.execute_reply.started": "2021-08-07T13:33:11.253058Z"
    },
    "papermill": {
     "duration": null,
     "end_time": null,
     "exception": null,
     "start_time": null,
     "status": "pending"
    },
    "tags": []
   },
   "outputs": [
    {
     "data": {
      "text/plain": [
       "id                                  0\n",
       "n_tokens_title                      0\n",
       "n_tokens_content                    0\n",
       "n_unique_tokens                     0\n",
       "n_non_stop_words                    0\n",
       "n_non_stop_unique_tokens            0\n",
       "num_hrefs                         274\n",
       "num_self_hrefs                   1603\n",
       "num_imgs                         1858\n",
       "num_videos                        212\n",
       "average_token_length                0\n",
       "num_keywords                      168\n",
       "data_channel_is_lifestyle           0\n",
       "data_channel_is_entertainment       0\n",
       "data_channel_is_bus                 0\n",
       "data_channel_is_socmed              0\n",
       "data_channel_is_tech                0\n",
       "data_channel_is_world               0\n",
       "kw_min_min                        357\n",
       "kw_max_min                        136\n",
       "kw_avg_min                         27\n",
       "kw_min_max                         32\n",
       "kw_max_max                        504\n",
       "kw_avg_max                         34\n",
       "kw_min_avg                        107\n",
       "kw_max_avg                        225\n",
       "kw_avg_avg                        292\n",
       "self_reference_min_shares         106\n",
       "self_reference_max_shares         528\n",
       "self_reference_avg_sharess        102\n",
       "weekday_is_monday                 324\n",
       "weekday_is_tuesday                261\n",
       "weekday_is_wednesday              480\n",
       "weekday_is_thursday               100\n",
       "weekday_is_friday                 287\n",
       "weekday_is_saturday                26\n",
       "weekday_is_sunday                 491\n",
       "is_weekend                        703\n",
       "LDA_00                              0\n",
       "LDA_01                              0\n",
       "LDA_02                              0\n",
       "LDA_03                              0\n",
       "LDA_04                              0\n",
       "global_subjectivity               752\n",
       "global_sentiment_polarity          98\n",
       "global_rate_positive_words        273\n",
       "global_rate_negative_words        317\n",
       "rate_positive_words               175\n",
       "rate_negative_words               185\n",
       "avg_positive_polarity             396\n",
       "min_positive_polarity             171\n",
       "max_positive_polarity              65\n",
       "avg_negative_polarity              59\n",
       "min_negative_polarity             235\n",
       "max_negative_polarity             251\n",
       "title_subjectivity                 39\n",
       "title_sentiment_polarity           80\n",
       "abs_title_subjectivity            272\n",
       "abs_title_sentiment_polarity      439\n",
       "dtype: int64"
      ]
     },
     "execution_count": 269,
     "metadata": {},
     "output_type": "execute_result"
    }
   ],
   "source": [
    "test_df.isnull().sum()"
   ]
  },
  {
   "cell_type": "code",
   "execution_count": 270,
   "id": "50a9822b",
   "metadata": {
    "execution": {
     "iopub.execute_input": "2021-08-07T13:37:20.047853Z",
     "iopub.status.busy": "2021-08-07T13:37:20.046931Z",
     "iopub.status.idle": "2021-08-07T13:37:20.082592Z",
     "shell.execute_reply": "2021-08-07T13:37:20.082031Z",
     "shell.execute_reply.started": "2021-08-07T13:33:14.564697Z"
    },
    "papermill": {
     "duration": null,
     "end_time": null,
     "exception": null,
     "start_time": null,
     "status": "pending"
    },
    "tags": []
   },
   "outputs": [],
   "source": [
    "test_df.fillna(0,inplace=True)"
   ]
  },
  {
   "cell_type": "code",
   "execution_count": 271,
   "id": "9cfb5a7f",
   "metadata": {
    "papermill": {
     "duration": null,
     "end_time": null,
     "exception": null,
     "start_time": null,
     "status": "pending"
    },
    "tags": []
   },
   "outputs": [],
   "source": [
    "df_id = test_df['id']\n",
    "# test_df.drop('id',axis=1,inplace=True)"
   ]
  },
  {
   "cell_type": "code",
   "execution_count": 272,
   "id": "da384b32",
   "metadata": {},
   "outputs": [
    {
     "data": {
      "text/plain": [
       "(9911, 59)"
      ]
     },
     "execution_count": 272,
     "metadata": {},
     "output_type": "execute_result"
    }
   ],
   "source": [
    "test_df.shape"
   ]
  },
  {
   "cell_type": "code",
   "execution_count": 273,
   "id": "bf66cdef",
   "metadata": {},
   "outputs": [],
   "source": [
    "cols = feature_importances['col']"
   ]
  },
  {
   "cell_type": "code",
   "execution_count": 274,
   "id": "b05ad62e",
   "metadata": {},
   "outputs": [],
   "source": [
    "test_df = test_df[cols]"
   ]
  },
  {
   "cell_type": "code",
   "execution_count": 275,
   "id": "fd323b70",
   "metadata": {},
   "outputs": [
    {
     "data": {
      "text/plain": [
       "(9911, 23)"
      ]
     },
     "execution_count": 275,
     "metadata": {},
     "output_type": "execute_result"
    }
   ],
   "source": [
    "test_df.shape"
   ]
  },
  {
   "cell_type": "code",
   "execution_count": 276,
   "id": "f347971b",
   "metadata": {},
   "outputs": [],
   "source": [
    "test_df_final = pca_final.transform(test_df)"
   ]
  },
  {
   "cell_type": "code",
   "execution_count": 277,
   "id": "3bb2c6e4",
   "metadata": {},
   "outputs": [
    {
     "data": {
      "text/plain": [
       "(9911, 15)"
      ]
     },
     "execution_count": 277,
     "metadata": {},
     "output_type": "execute_result"
    }
   ],
   "source": [
    "test_df_final.shape"
   ]
  },
  {
   "cell_type": "code",
   "execution_count": 278,
   "id": "4864396f",
   "metadata": {},
   "outputs": [],
   "source": [
    "predict_probalbilty = lr_pca.predict(test_df_final)"
   ]
  },
  {
   "cell_type": "code",
   "execution_count": 279,
   "id": "7bcfc6c6",
   "metadata": {},
   "outputs": [
    {
     "data": {
      "text/plain": [
       "(9911, 1)"
      ]
     },
     "execution_count": 279,
     "metadata": {},
     "output_type": "execute_result"
    }
   ],
   "source": [
    "predict_probalbilty.shape"
   ]
  },
  {
   "cell_type": "code",
   "execution_count": 280,
   "id": "b7b60fbe",
   "metadata": {},
   "outputs": [
    {
     "data": {
      "text/plain": [
       "(9911,)"
      ]
     },
     "execution_count": 280,
     "metadata": {},
     "output_type": "execute_result"
    }
   ],
   "source": [
    "df_id.shape"
   ]
  },
  {
   "cell_type": "code",
   "execution_count": 281,
   "id": "bd676451",
   "metadata": {},
   "outputs": [],
   "source": [
    "final_prediction = pd.DataFrame({'id':df_id,'shares':predict_probalbilty[:,0]})"
   ]
  },
  {
   "cell_type": "code",
   "execution_count": 282,
   "id": "80704a60",
   "metadata": {},
   "outputs": [],
   "source": [
    "final_prediction.to_csv('submission.csv',index=False)"
   ]
  }
 ],
 "metadata": {
  "kernelspec": {
   "display_name": "Python 3 (ipykernel)",
   "language": "python",
   "name": "python3"
  },
  "language_info": {
   "codemirror_mode": {
    "name": "ipython",
    "version": 3
   },
   "file_extension": ".py",
   "mimetype": "text/x-python",
   "name": "python",
   "nbconvert_exporter": "python",
   "pygments_lexer": "ipython3",
   "version": "3.9.12"
  },
  "papermill": {
   "default_parameters": {},
   "duration": 3.16767,
   "end_time": "2022-10-31T08:53:27.967287",
   "environment_variables": {},
   "exception": true,
   "input_path": "__notebook__.ipynb",
   "output_path": "__notebook__.ipynb",
   "parameters": {},
   "start_time": "2022-10-31T08:53:24.799617",
   "version": "2.4.0"
  }
 },
 "nbformat": 4,
 "nbformat_minor": 5
}
